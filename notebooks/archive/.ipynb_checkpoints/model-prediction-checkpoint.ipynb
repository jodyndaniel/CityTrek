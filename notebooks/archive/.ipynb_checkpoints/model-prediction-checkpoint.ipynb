{
 "cells": [
  {
   "cell_type": "markdown",
   "metadata": {},
   "source": [
    "# Logistic Regression - Predicting Risks"
   ]
  },
  {
   "cell_type": "markdown",
   "metadata": {},
   "source": [
    "I am interested in finding the best model. But first, I will use default settings. Then, I will use a random grid search to fine tune parameters. Then grid search to narrow down the paramerters I should use. Finally, I will compare this best model to the one produced by the default settings. I am going to try **logistic regression** and **random forest**."
   ]
  },
  {
   "cell_type": "code",
   "execution_count": 1,
   "metadata": {},
   "outputs": [],
   "source": [
    "from sklearn.model_selection import train_test_split # to measure within momdel acuracy\n",
    "from sklearn.preprocessing import StandardScaler # need to scale data for logistic regression\n",
    "from sklearn.linear_model import LogisticRegression\n",
    "from sklearn.ensemble  import RandomForestClassifier\n",
    "from sklearn.metrics import classification_report\n",
    "import pandas\n",
    "from sklearn.model_selection import GridSearchCV\n",
    "from sklearn.model_selection import RandomizedSearchCV\n",
    "import osmnx\n",
    "import pickle\n",
    "import folium\n",
    "from sklearn.pipeline import Pipeline\n",
    "from sklearn.ensemble import RandomForestClassifier\n",
    "import numpy\n",
    "import time\n",
    "import geopandas\n",
    "from scipy import ndimage, interpolate\n",
    "from photutils.utils import ShepardIDWInterpolator "
   ]
  },
  {
   "cell_type": "code",
   "execution_count": 83,
   "metadata": {
    "scrolled": true
   },
   "outputs": [],
   "source": [
    "# loading data\n",
    "robbery_model_data_dummies_bal = pandas.read_pickle('C:/Users/jodyn/Google Drive/Insight Data Science/Insight/Processed Data/robbery_model_data_dummies_bal.pkl')\n",
    "pedestrian_model_data_dummies_bal = pandas.read_pickle('C:/Users/jodyn/Google Drive/Insight Data Science/Insight/Processed Data/pedestrian_model_data_dummies_bal.pkl')"
   ]
  },
  {
   "cell_type": "code",
   "execution_count": 84,
   "metadata": {},
   "outputs": [
    {
     "data": {
      "text/plain": [
       "['Presence_A',\n",
       " 'dyear',\n",
       " 'dday',\n",
       " 'dhour',\n",
       " 'turning_lo',\n",
       " 'crossing',\n",
       " 'give_way',\n",
       " 'speed_came',\n",
       " 'stop',\n",
       " 'traffic_si',\n",
       " 'geometry',\n",
       " 'Latitude',\n",
       " 'Longitude',\n",
       " 'Police_Div_D11',\n",
       " 'Police_Div_D12',\n",
       " 'Police_Div_D13',\n",
       " 'Police_Div_D14',\n",
       " 'Police_Div_D22',\n",
       " 'Police_Div_D23',\n",
       " 'Police_Div_D31',\n",
       " 'Police_Div_D32',\n",
       " 'Police_Div_D33',\n",
       " 'Police_Div_D41',\n",
       " 'Police_Div_D42',\n",
       " 'Police_Div_D43',\n",
       " 'Police_Div_D51',\n",
       " 'Police_Div_D52',\n",
       " 'Police_Div_D53',\n",
       " 'Police_Div_D54',\n",
       " 'Police_Div_D55',\n",
       " 'Hood_ID_1',\n",
       " 'Hood_ID_10',\n",
       " 'Hood_ID_100',\n",
       " 'Hood_ID_101',\n",
       " 'Hood_ID_102',\n",
       " 'Hood_ID_103',\n",
       " 'Hood_ID_104',\n",
       " 'Hood_ID_105',\n",
       " 'Hood_ID_106',\n",
       " 'Hood_ID_107',\n",
       " 'Hood_ID_108',\n",
       " 'Hood_ID_109',\n",
       " 'Hood_ID_11',\n",
       " 'Hood_ID_110',\n",
       " 'Hood_ID_111',\n",
       " 'Hood_ID_112',\n",
       " 'Hood_ID_113',\n",
       " 'Hood_ID_114',\n",
       " 'Hood_ID_115',\n",
       " 'Hood_ID_116',\n",
       " 'Hood_ID_117',\n",
       " 'Hood_ID_118',\n",
       " 'Hood_ID_119',\n",
       " 'Hood_ID_12',\n",
       " 'Hood_ID_120',\n",
       " 'Hood_ID_121',\n",
       " 'Hood_ID_122',\n",
       " 'Hood_ID_123',\n",
       " 'Hood_ID_124',\n",
       " 'Hood_ID_125',\n",
       " 'Hood_ID_126',\n",
       " 'Hood_ID_127',\n",
       " 'Hood_ID_128',\n",
       " 'Hood_ID_129',\n",
       " 'Hood_ID_13',\n",
       " 'Hood_ID_130',\n",
       " 'Hood_ID_131',\n",
       " 'Hood_ID_132',\n",
       " 'Hood_ID_133',\n",
       " 'Hood_ID_134',\n",
       " 'Hood_ID_135',\n",
       " 'Hood_ID_136',\n",
       " 'Hood_ID_137',\n",
       " 'Hood_ID_138',\n",
       " 'Hood_ID_139',\n",
       " 'Hood_ID_14',\n",
       " 'Hood_ID_140',\n",
       " 'Hood_ID_15',\n",
       " 'Hood_ID_16',\n",
       " 'Hood_ID_17',\n",
       " 'Hood_ID_18',\n",
       " 'Hood_ID_19',\n",
       " 'Hood_ID_2',\n",
       " 'Hood_ID_20',\n",
       " 'Hood_ID_21',\n",
       " 'Hood_ID_22',\n",
       " 'Hood_ID_23',\n",
       " 'Hood_ID_24',\n",
       " 'Hood_ID_25',\n",
       " 'Hood_ID_26',\n",
       " 'Hood_ID_27',\n",
       " 'Hood_ID_28',\n",
       " 'Hood_ID_29',\n",
       " 'Hood_ID_3',\n",
       " 'Hood_ID_30',\n",
       " 'Hood_ID_31',\n",
       " 'Hood_ID_32',\n",
       " 'Hood_ID_33',\n",
       " 'Hood_ID_34',\n",
       " 'Hood_ID_35',\n",
       " 'Hood_ID_36',\n",
       " 'Hood_ID_37',\n",
       " 'Hood_ID_38',\n",
       " 'Hood_ID_39',\n",
       " 'Hood_ID_4',\n",
       " 'Hood_ID_40',\n",
       " 'Hood_ID_41',\n",
       " 'Hood_ID_42',\n",
       " 'Hood_ID_43',\n",
       " 'Hood_ID_44',\n",
       " 'Hood_ID_45',\n",
       " 'Hood_ID_46',\n",
       " 'Hood_ID_47',\n",
       " 'Hood_ID_48',\n",
       " 'Hood_ID_49',\n",
       " 'Hood_ID_5',\n",
       " 'Hood_ID_50',\n",
       " 'Hood_ID_51',\n",
       " 'Hood_ID_52',\n",
       " 'Hood_ID_53',\n",
       " 'Hood_ID_54',\n",
       " 'Hood_ID_55',\n",
       " 'Hood_ID_56',\n",
       " 'Hood_ID_57',\n",
       " 'Hood_ID_58',\n",
       " 'Hood_ID_59',\n",
       " 'Hood_ID_6',\n",
       " 'Hood_ID_60',\n",
       " 'Hood_ID_61',\n",
       " 'Hood_ID_62',\n",
       " 'Hood_ID_63',\n",
       " 'Hood_ID_64',\n",
       " 'Hood_ID_65',\n",
       " 'Hood_ID_66',\n",
       " 'Hood_ID_67',\n",
       " 'Hood_ID_68',\n",
       " 'Hood_ID_69',\n",
       " 'Hood_ID_7',\n",
       " 'Hood_ID_70',\n",
       " 'Hood_ID_71',\n",
       " 'Hood_ID_72',\n",
       " 'Hood_ID_73',\n",
       " 'Hood_ID_74',\n",
       " 'Hood_ID_75',\n",
       " 'Hood_ID_76',\n",
       " 'Hood_ID_77',\n",
       " 'Hood_ID_78',\n",
       " 'Hood_ID_79',\n",
       " 'Hood_ID_8',\n",
       " 'Hood_ID_80',\n",
       " 'Hood_ID_81',\n",
       " 'Hood_ID_82',\n",
       " 'Hood_ID_83',\n",
       " 'Hood_ID_84',\n",
       " 'Hood_ID_85',\n",
       " 'Hood_ID_86',\n",
       " 'Hood_ID_87',\n",
       " 'Hood_ID_88',\n",
       " 'Hood_ID_89',\n",
       " 'Hood_ID_9',\n",
       " 'Hood_ID_90',\n",
       " 'Hood_ID_91',\n",
       " 'Hood_ID_92',\n",
       " 'Hood_ID_93',\n",
       " 'Hood_ID_94',\n",
       " 'Hood_ID_95',\n",
       " 'Hood_ID_96',\n",
       " 'Hood_ID_97',\n",
       " 'Hood_ID_98',\n",
       " 'Hood_ID_99']"
      ]
     },
     "execution_count": 84,
     "metadata": {},
     "output_type": "execute_result"
    }
   ],
   "source": [
    "list(pedestrian_model_data_dummies_bal)"
   ]
  },
  {
   "cell_type": "code",
   "execution_count": 4,
   "metadata": {},
   "outputs": [
    {
     "data": {
      "text/html": [
       "<div>\n",
       "<style scoped>\n",
       "    .dataframe tbody tr th:only-of-type {\n",
       "        vertical-align: middle;\n",
       "    }\n",
       "\n",
       "    .dataframe tbody tr th {\n",
       "        vertical-align: top;\n",
       "    }\n",
       "\n",
       "    .dataframe thead th {\n",
       "        text-align: right;\n",
       "    }\n",
       "</style>\n",
       "<table border=\"1\" class=\"dataframe\">\n",
       "  <thead>\n",
       "    <tr style=\"text-align: right;\">\n",
       "      <th></th>\n",
       "      <th>Presence_A</th>\n",
       "      <th>YEAR</th>\n",
       "      <th>HOUR</th>\n",
       "      <th>LATITUDE</th>\n",
       "      <th>Hood_ID</th>\n",
       "      <th>turning_lo</th>\n",
       "      <th>give_way</th>\n",
       "      <th>speed_came</th>\n",
       "      <th>stop</th>\n",
       "      <th>traffic_si</th>\n",
       "      <th>...</th>\n",
       "      <th>ROAD_CLASS_Minor Arterial</th>\n",
       "      <th>LIGHT_Dark</th>\n",
       "      <th>LIGHT_Dark, artificial</th>\n",
       "      <th>LIGHT_Dawn</th>\n",
       "      <th>LIGHT_Dawn, artificial</th>\n",
       "      <th>LIGHT_Daylight</th>\n",
       "      <th>LIGHT_Daylight, artificial</th>\n",
       "      <th>LIGHT_Dusk</th>\n",
       "      <th>LIGHT_Dusk, artificial</th>\n",
       "      <th>LIGHT_Other</th>\n",
       "    </tr>\n",
       "  </thead>\n",
       "  <tbody>\n",
       "    <tr>\n",
       "      <th>0</th>\n",
       "      <td>1.0</td>\n",
       "      <td>2006.0</td>\n",
       "      <td>7.0</td>\n",
       "      <td>43.652892</td>\n",
       "      <td>78.0</td>\n",
       "      <td>3841.122237</td>\n",
       "      <td>1527.659902</td>\n",
       "      <td>5312.969575</td>\n",
       "      <td>200.736851</td>\n",
       "      <td>67.197404</td>\n",
       "      <td>...</td>\n",
       "      <td>0</td>\n",
       "      <td>0</td>\n",
       "      <td>1</td>\n",
       "      <td>0</td>\n",
       "      <td>0</td>\n",
       "      <td>0</td>\n",
       "      <td>0</td>\n",
       "      <td>0</td>\n",
       "      <td>0</td>\n",
       "      <td>0</td>\n",
       "    </tr>\n",
       "    <tr>\n",
       "      <th>1</th>\n",
       "      <td>1.0</td>\n",
       "      <td>2006.0</td>\n",
       "      <td>7.0</td>\n",
       "      <td>43.652892</td>\n",
       "      <td>78.0</td>\n",
       "      <td>3841.122237</td>\n",
       "      <td>1527.659902</td>\n",
       "      <td>5312.969575</td>\n",
       "      <td>200.736851</td>\n",
       "      <td>67.197404</td>\n",
       "      <td>...</td>\n",
       "      <td>0</td>\n",
       "      <td>0</td>\n",
       "      <td>1</td>\n",
       "      <td>0</td>\n",
       "      <td>0</td>\n",
       "      <td>0</td>\n",
       "      <td>0</td>\n",
       "      <td>0</td>\n",
       "      <td>0</td>\n",
       "      <td>0</td>\n",
       "    </tr>\n",
       "    <tr>\n",
       "      <th>2</th>\n",
       "      <td>1.0</td>\n",
       "      <td>2006.0</td>\n",
       "      <td>19.0</td>\n",
       "      <td>43.655145</td>\n",
       "      <td>83.0</td>\n",
       "      <td>4586.263020</td>\n",
       "      <td>2230.322380</td>\n",
       "      <td>3503.123672</td>\n",
       "      <td>56.789319</td>\n",
       "      <td>9.805814</td>\n",
       "      <td>...</td>\n",
       "      <td>0</td>\n",
       "      <td>1</td>\n",
       "      <td>0</td>\n",
       "      <td>0</td>\n",
       "      <td>0</td>\n",
       "      <td>0</td>\n",
       "      <td>0</td>\n",
       "      <td>0</td>\n",
       "      <td>0</td>\n",
       "      <td>0</td>\n",
       "    </tr>\n",
       "    <tr>\n",
       "      <th>3</th>\n",
       "      <td>1.0</td>\n",
       "      <td>2006.0</td>\n",
       "      <td>19.0</td>\n",
       "      <td>43.655145</td>\n",
       "      <td>83.0</td>\n",
       "      <td>4586.263020</td>\n",
       "      <td>2230.322380</td>\n",
       "      <td>3503.123672</td>\n",
       "      <td>56.789319</td>\n",
       "      <td>9.805814</td>\n",
       "      <td>...</td>\n",
       "      <td>0</td>\n",
       "      <td>1</td>\n",
       "      <td>0</td>\n",
       "      <td>0</td>\n",
       "      <td>0</td>\n",
       "      <td>0</td>\n",
       "      <td>0</td>\n",
       "      <td>0</td>\n",
       "      <td>0</td>\n",
       "      <td>0</td>\n",
       "    </tr>\n",
       "    <tr>\n",
       "      <th>4</th>\n",
       "      <td>1.0</td>\n",
       "      <td>2006.0</td>\n",
       "      <td>22.0</td>\n",
       "      <td>43.777056</td>\n",
       "      <td>47.0</td>\n",
       "      <td>2191.794795</td>\n",
       "      <td>1836.313361</td>\n",
       "      <td>18443.818001</td>\n",
       "      <td>252.671948</td>\n",
       "      <td>13.827745</td>\n",
       "      <td>...</td>\n",
       "      <td>0</td>\n",
       "      <td>0</td>\n",
       "      <td>1</td>\n",
       "      <td>0</td>\n",
       "      <td>0</td>\n",
       "      <td>0</td>\n",
       "      <td>0</td>\n",
       "      <td>0</td>\n",
       "      <td>0</td>\n",
       "      <td>0</td>\n",
       "    </tr>\n",
       "    <tr>\n",
       "      <th>...</th>\n",
       "      <td>...</td>\n",
       "      <td>...</td>\n",
       "      <td>...</td>\n",
       "      <td>...</td>\n",
       "      <td>...</td>\n",
       "      <td>...</td>\n",
       "      <td>...</td>\n",
       "      <td>...</td>\n",
       "      <td>...</td>\n",
       "      <td>...</td>\n",
       "      <td>...</td>\n",
       "      <td>...</td>\n",
       "      <td>...</td>\n",
       "      <td>...</td>\n",
       "      <td>...</td>\n",
       "      <td>...</td>\n",
       "      <td>...</td>\n",
       "      <td>...</td>\n",
       "      <td>...</td>\n",
       "      <td>...</td>\n",
       "      <td>...</td>\n",
       "    </tr>\n",
       "    <tr>\n",
       "      <th>12861</th>\n",
       "      <td>0.0</td>\n",
       "      <td>2012.0</td>\n",
       "      <td>15.0</td>\n",
       "      <td>43.640952</td>\n",
       "      <td>9.0</td>\n",
       "      <td>4096.985736</td>\n",
       "      <td>224.528097</td>\n",
       "      <td>10705.836259</td>\n",
       "      <td>151.434176</td>\n",
       "      <td>117.785160</td>\n",
       "      <td>...</td>\n",
       "      <td>0</td>\n",
       "      <td>0</td>\n",
       "      <td>0</td>\n",
       "      <td>0</td>\n",
       "      <td>0</td>\n",
       "      <td>0</td>\n",
       "      <td>0</td>\n",
       "      <td>0</td>\n",
       "      <td>1</td>\n",
       "      <td>0</td>\n",
       "    </tr>\n",
       "    <tr>\n",
       "      <th>12862</th>\n",
       "      <td>0.0</td>\n",
       "      <td>2014.0</td>\n",
       "      <td>12.0</td>\n",
       "      <td>43.797301</td>\n",
       "      <td>117.0</td>\n",
       "      <td>2627.820148</td>\n",
       "      <td>2973.711951</td>\n",
       "      <td>20393.610969</td>\n",
       "      <td>143.161348</td>\n",
       "      <td>263.885192</td>\n",
       "      <td>...</td>\n",
       "      <td>0</td>\n",
       "      <td>0</td>\n",
       "      <td>0</td>\n",
       "      <td>0</td>\n",
       "      <td>0</td>\n",
       "      <td>0</td>\n",
       "      <td>1</td>\n",
       "      <td>0</td>\n",
       "      <td>0</td>\n",
       "      <td>0</td>\n",
       "    </tr>\n",
       "    <tr>\n",
       "      <th>12863</th>\n",
       "      <td>0.0</td>\n",
       "      <td>2018.0</td>\n",
       "      <td>22.0</td>\n",
       "      <td>43.636145</td>\n",
       "      <td>60.0</td>\n",
       "      <td>8081.961327</td>\n",
       "      <td>1357.990253</td>\n",
       "      <td>2257.134181</td>\n",
       "      <td>31.806888</td>\n",
       "      <td>217.680021</td>\n",
       "      <td>...</td>\n",
       "      <td>0</td>\n",
       "      <td>0</td>\n",
       "      <td>0</td>\n",
       "      <td>0</td>\n",
       "      <td>0</td>\n",
       "      <td>0</td>\n",
       "      <td>0</td>\n",
       "      <td>1</td>\n",
       "      <td>0</td>\n",
       "      <td>0</td>\n",
       "    </tr>\n",
       "    <tr>\n",
       "      <th>12864</th>\n",
       "      <td>0.0</td>\n",
       "      <td>2011.0</td>\n",
       "      <td>9.0</td>\n",
       "      <td>43.687510</td>\n",
       "      <td>26.0</td>\n",
       "      <td>2889.761852</td>\n",
       "      <td>677.906633</td>\n",
       "      <td>8796.923733</td>\n",
       "      <td>4.476269</td>\n",
       "      <td>182.643122</td>\n",
       "      <td>...</td>\n",
       "      <td>0</td>\n",
       "      <td>0</td>\n",
       "      <td>1</td>\n",
       "      <td>0</td>\n",
       "      <td>0</td>\n",
       "      <td>0</td>\n",
       "      <td>0</td>\n",
       "      <td>0</td>\n",
       "      <td>0</td>\n",
       "      <td>0</td>\n",
       "    </tr>\n",
       "    <tr>\n",
       "      <th>12865</th>\n",
       "      <td>0.0</td>\n",
       "      <td>2014.0</td>\n",
       "      <td>9.0</td>\n",
       "      <td>43.783148</td>\n",
       "      <td>9.0</td>\n",
       "      <td>3800.585508</td>\n",
       "      <td>742.967481</td>\n",
       "      <td>12605.483143</td>\n",
       "      <td>56.707095</td>\n",
       "      <td>413.805532</td>\n",
       "      <td>...</td>\n",
       "      <td>0</td>\n",
       "      <td>0</td>\n",
       "      <td>0</td>\n",
       "      <td>0</td>\n",
       "      <td>0</td>\n",
       "      <td>0</td>\n",
       "      <td>0</td>\n",
       "      <td>0</td>\n",
       "      <td>0</td>\n",
       "      <td>1</td>\n",
       "    </tr>\n",
       "  </tbody>\n",
       "</table>\n",
       "<p>12866 rows × 24 columns</p>\n",
       "</div>"
      ],
      "text/plain": [
       "       Presence_A    YEAR  HOUR   LATITUDE  Hood_ID   turning_lo     give_way  \\\n",
       "0             1.0  2006.0   7.0  43.652892     78.0  3841.122237  1527.659902   \n",
       "1             1.0  2006.0   7.0  43.652892     78.0  3841.122237  1527.659902   \n",
       "2             1.0  2006.0  19.0  43.655145     83.0  4586.263020  2230.322380   \n",
       "3             1.0  2006.0  19.0  43.655145     83.0  4586.263020  2230.322380   \n",
       "4             1.0  2006.0  22.0  43.777056     47.0  2191.794795  1836.313361   \n",
       "...           ...     ...   ...        ...      ...          ...          ...   \n",
       "12861         0.0  2012.0  15.0  43.640952      9.0  4096.985736   224.528097   \n",
       "12862         0.0  2014.0  12.0  43.797301    117.0  2627.820148  2973.711951   \n",
       "12863         0.0  2018.0  22.0  43.636145     60.0  8081.961327  1357.990253   \n",
       "12864         0.0  2011.0   9.0  43.687510     26.0  2889.761852   677.906633   \n",
       "12865         0.0  2014.0   9.0  43.783148      9.0  3800.585508   742.967481   \n",
       "\n",
       "         speed_came        stop  traffic_si  ...  ROAD_CLASS_Minor Arterial  \\\n",
       "0       5312.969575  200.736851   67.197404  ...                          0   \n",
       "1       5312.969575  200.736851   67.197404  ...                          0   \n",
       "2       3503.123672   56.789319    9.805814  ...                          0   \n",
       "3       3503.123672   56.789319    9.805814  ...                          0   \n",
       "4      18443.818001  252.671948   13.827745  ...                          0   \n",
       "...             ...         ...         ...  ...                        ...   \n",
       "12861  10705.836259  151.434176  117.785160  ...                          0   \n",
       "12862  20393.610969  143.161348  263.885192  ...                          0   \n",
       "12863   2257.134181   31.806888  217.680021  ...                          0   \n",
       "12864   8796.923733    4.476269  182.643122  ...                          0   \n",
       "12865  12605.483143   56.707095  413.805532  ...                          0   \n",
       "\n",
       "       LIGHT_Dark  LIGHT_Dark, artificial  LIGHT_Dawn  LIGHT_Dawn, artificial  \\\n",
       "0               0                       1           0                       0   \n",
       "1               0                       1           0                       0   \n",
       "2               1                       0           0                       0   \n",
       "3               1                       0           0                       0   \n",
       "4               0                       1           0                       0   \n",
       "...           ...                     ...         ...                     ...   \n",
       "12861           0                       0           0                       0   \n",
       "12862           0                       0           0                       0   \n",
       "12863           0                       0           0                       0   \n",
       "12864           0                       1           0                       0   \n",
       "12865           0                       0           0                       0   \n",
       "\n",
       "       LIGHT_Daylight  LIGHT_Daylight, artificial  LIGHT_Dusk  \\\n",
       "0                   0                           0           0   \n",
       "1                   0                           0           0   \n",
       "2                   0                           0           0   \n",
       "3                   0                           0           0   \n",
       "4                   0                           0           0   \n",
       "...               ...                         ...         ...   \n",
       "12861               0                           0           0   \n",
       "12862               0                           1           0   \n",
       "12863               0                           0           1   \n",
       "12864               0                           0           0   \n",
       "12865               0                           0           0   \n",
       "\n",
       "       LIGHT_Dusk, artificial  LIGHT_Other  \n",
       "0                           0            0  \n",
       "1                           0            0  \n",
       "2                           0            0  \n",
       "3                           0            0  \n",
       "4                           0            0  \n",
       "...                       ...          ...  \n",
       "12861                       1            0  \n",
       "12862                       0            0  \n",
       "12863                       0            0  \n",
       "12864                       0            0  \n",
       "12865                       0            1  \n",
       "\n",
       "[12866 rows x 24 columns]"
      ]
     },
     "execution_count": 4,
     "metadata": {},
     "output_type": "execute_result"
    }
   ],
   "source": [
    "pedestrian_model_data_dummies_bal"
   ]
  },
  {
   "cell_type": "code",
   "execution_count": 85,
   "metadata": {},
   "outputs": [],
   "source": [
    "# Labels are the values we want to predict\n",
    "robbery_labels = robbery_model_data_dummies_bal['Presence_A']\n",
    "robbery_features = robbery_model_data_dummies_bal.drop(['Presence_A','Latitude', 'Longitude',\n",
    "                                                                'geometry'], axis = 1)\n",
    "robbery_model_names = list(robbery_model_data_dummies_bal.drop(['Presence_A','Latitude', 'Longitude',\n",
    "                                                                'geometry'], axis = 1)) \n",
    "pedestrian_labels = pedestrian_model_data_dummies_bal['Presence_A']\n",
    "pedestrian_features = pedestrian_model_data_dummies_bal.drop(['Presence_A','Longitude', 'Latitude',\n",
    "                                                              'geometry'], axis = 1)\n",
    "pedestrian_features_names = list(pedestrian_model_data_dummies_bal.drop(['Presence_A','Longitude', 'Latitude',\n",
    "                                                              'geometry'], axis = 1))\n",
    "# Split the data into training and testing sets\n",
    "robbery_train, robbery_test, robbery_presence_train, robbery_presence_test = train_test_split(\n",
    "    robbery_features,robbery_labels, test_size=0.3, random_state=42)\n",
    "pedestrian_train, pedestrian_test, pedestrian_presence_train, pedestrian_presence_test = train_test_split(\n",
    "    pedestrian_features,pedestrian_labels, test_size=0.3, random_state=42)"
   ]
  },
  {
   "cell_type": "code",
   "execution_count": 73,
   "metadata": {},
   "outputs": [
    {
     "data": {
      "text/plain": [
       "['YEAR',\n",
       " 'HOUR',\n",
       " 'LATITUDE',\n",
       " 'turning_lo',\n",
       " 'crossing',\n",
       " 'give_way',\n",
       " 'speed_came',\n",
       " 'stop',\n",
       " 'traffic_si',\n",
       " 'ROAD_CLASS_Collector',\n",
       " 'ROAD_CLASS_Expressway',\n",
       " 'ROAD_CLASS_Local',\n",
       " 'ROAD_CLASS_Major Arterial',\n",
       " 'ROAD_CLASS_Minor Arterial',\n",
       " 'LIGHT_Dark',\n",
       " 'LIGHT_Dark, artificial',\n",
       " 'LIGHT_Dawn',\n",
       " 'LIGHT_Dawn, artificial',\n",
       " 'LIGHT_Daylight',\n",
       " 'LIGHT_Daylight, artificial',\n",
       " 'LIGHT_Dusk',\n",
       " 'LIGHT_Dusk, artificial',\n",
       " 'LIGHT_Other']"
      ]
     },
     "execution_count": 73,
     "metadata": {},
     "output_type": "execute_result"
    }
   ],
   "source": [
    "robbery_model_names"
   ]
  },
  {
   "cell_type": "code",
   "execution_count": 86,
   "metadata": {},
   "outputs": [],
   "source": [
    "# Scale data for logistic regression\n",
    "scaler = StandardScaler()\n",
    "robbery_train_lr = pandas.DataFrame(scaler.fit_transform(robbery_train),\n",
    "                                   columns=robbery_model_names)\n",
    "\n",
    "robbery_test_lr = pandas.DataFrame(scaler.fit_transform(robbery_test),\n",
    "                                  columns=robbery_model_names)\n",
    "\n",
    "scaler = StandardScaler()\n",
    "pedestrian_train_lr = pandas.DataFrame(scaler.fit_transform(pedestrian_train),\n",
    "                                   columns=pedestrian_features_names)\n",
    "\n",
    "pedestrian_test_lr = pandas.DataFrame(scaler.fit_transform(pedestrian_test),\n",
    "                                  columns=pedestrian_features_names)"
   ]
  },
  {
   "cell_type": "code",
   "execution_count": 87,
   "metadata": {},
   "outputs": [
    {
     "name": "stderr",
     "output_type": "stream",
     "text": [
      "C:\\Users\\jodyn\\anaconda3\\envs\\OSMNX\\lib\\site-packages\\sklearn\\linear_model\\_logistic.py:764: ConvergenceWarning: lbfgs failed to converge (status=1):\n",
      "STOP: TOTAL NO. of ITERATIONS REACHED LIMIT.\n",
      "\n",
      "Increase the number of iterations (max_iter) or scale the data as shown in:\n",
      "    https://scikit-learn.org/stable/modules/preprocessing.html\n",
      "Please also refer to the documentation for alternative solver options:\n",
      "    https://scikit-learn.org/stable/modules/linear_model.html#logistic-regression\n",
      "  extra_warning_msg=_LOGISTIC_SOLVER_CONVERGENCE_MSG)\n"
     ]
    }
   ],
   "source": [
    "# Time to build the base model\n",
    "robbery_model_LR = LogisticRegression()\n",
    "robbery_model_LR.fit(robbery_train_lr, robbery_presence_train)\n",
    "robbery_model_prediction_LR = robbery_model_LR.predict(robbery_test_lr)\n",
    "\n",
    "pedestrian_model_LR = LogisticRegression()\n",
    "pedestrian_model_LR.fit(pedestrian_train_lr, pedestrian_presence_train)\n",
    "pedestrian_model_prediction_LR = pedestrian_model_LR.predict(pedestrian_test_lr)"
   ]
  },
  {
   "cell_type": "code",
   "execution_count": 76,
   "metadata": {},
   "outputs": [
    {
     "name": "stdout",
     "output_type": "stream",
     "text": [
      "              precision    recall  f1-score   support\n",
      "\n",
      "         0.0       0.89      0.85      0.87      1900\n",
      "         1.0       0.86      0.90      0.88      1960\n",
      "\n",
      "    accuracy                           0.87      3860\n",
      "   macro avg       0.88      0.87      0.87      3860\n",
      "weighted avg       0.87      0.87      0.87      3860\n",
      "\n"
     ]
    }
   ],
   "source": [
    "# how did these models perform?\n",
    "print(classification_report(robbery_presence_test, robbery_model_prediction_LR))"
   ]
  },
  {
   "cell_type": "code",
   "execution_count": 77,
   "metadata": {},
   "outputs": [
    {
     "name": "stdout",
     "output_type": "stream",
     "text": [
      "              precision    recall  f1-score   support\n",
      "\n",
      "         0.0       0.66      0.63      0.65      1512\n",
      "         1.0       0.66      0.69      0.67      1573\n",
      "\n",
      "    accuracy                           0.66      3085\n",
      "   macro avg       0.66      0.66      0.66      3085\n",
      "weighted avg       0.66      0.66      0.66      3085\n",
      "\n"
     ]
    }
   ],
   "source": [
    "print(classification_report(pedestrian_presence_test, pedestrian_model_prediction_LR))"
   ]
  },
  {
   "cell_type": "markdown",
   "metadata": {},
   "source": [
    "## Random Forest"
   ]
  },
  {
   "cell_type": "code",
   "execution_count": 88,
   "metadata": {},
   "outputs": [
    {
     "name": "stdout",
     "output_type": "stream",
     "text": [
      "              precision    recall  f1-score   support\n",
      "\n",
      "         0.0       0.98      0.93      0.95      1960\n",
      "         1.0       0.93      0.98      0.95      1900\n",
      "\n",
      "    accuracy                           0.95      3860\n",
      "   macro avg       0.95      0.95      0.95      3860\n",
      "weighted avg       0.95      0.95      0.95      3860\n",
      "\n"
     ]
    }
   ],
   "source": [
    "# Time to build the base model\n",
    "robbery_model_RF = RandomForestClassifier()\n",
    "robbery_model_RF.fit(robbery_train, robbery_presence_train)\n",
    "robbery_model_prediction_RF = robbery_model_RF.predict(robbery_test)\n",
    "print(classification_report(robbery_presence_test,robbery_model_prediction_RF))"
   ]
  },
  {
   "cell_type": "code",
   "execution_count": 101,
   "metadata": {},
   "outputs": [
    {
     "name": "stdout",
     "output_type": "stream",
     "text": [
      "              precision    recall  f1-score   support\n",
      "\n",
      "         0.0       0.76      0.81      0.78      1512\n",
      "         1.0       0.80      0.75      0.78      1573\n",
      "\n",
      "    accuracy                           0.78      3085\n",
      "   macro avg       0.78      0.78      0.78      3085\n",
      "weighted avg       0.78      0.78      0.78      3085\n",
      "\n"
     ]
    }
   ],
   "source": [
    "# Time to build the base model\n",
    "pedestrian_model_RF = RandomForestClassifier()\n",
    "pedestrian_model_RF.fit(pedestrian_train, pedestrian_presence_train)\n",
    "pedestrian_model_prediction_RF = pedestrian_model_RF.predict(pedestrian_test)\n",
    "print(classification_report(pedestrian_presence_test,pedestrian_model_prediction_RF))"
   ]
  },
  {
   "cell_type": "markdown",
   "metadata": {},
   "source": [
    "# Model Tuning"
   ]
  },
  {
   "cell_type": "markdown",
   "metadata": {},
   "source": [
    "## Logistic Regression"
   ]
  },
  {
   "cell_type": "code",
   "execution_count": 90,
   "metadata": {},
   "outputs": [],
   "source": [
    "# Create first pipeline for base without reducing features.\n",
    "pipe_lr = Pipeline([('classifier' , LogisticRegression())])\n",
    "\n",
    "# Create param grid.\n",
    "\n",
    "param_grid_lr = [\n",
    "    {'classifier' : [LogisticRegression()],\n",
    "     'classifier__penalty' : ['l1', 'l2'],\n",
    "    'classifier__C' : numpy.logspace(-4, 4, 20),\n",
    "    'classifier__solver' : ['liblinear']}]"
   ]
  },
  {
   "cell_type": "code",
   "execution_count": 91,
   "metadata": {},
   "outputs": [
    {
     "name": "stdout",
     "output_type": "stream",
     "text": [
      "Fitting 5 folds for each of 40 candidates, totalling 200 fits\n"
     ]
    },
    {
     "name": "stderr",
     "output_type": "stream",
     "text": [
      "[Parallel(n_jobs=-1)]: Using backend LokyBackend with 8 concurrent workers.\n",
      "[Parallel(n_jobs=-1)]: Done  34 tasks      | elapsed:    8.3s\n",
      "[Parallel(n_jobs=-1)]: Done 184 tasks      | elapsed:   56.5s\n",
      "[Parallel(n_jobs=-1)]: Done 200 out of 200 | elapsed:   59.7s finished\n"
     ]
    },
    {
     "name": "stdout",
     "output_type": "stream",
     "text": [
      "Best: 0.870420 using {'classifier': LogisticRegression(C=0.615848211066026, penalty='l1', solver='liblinear'), 'classifier__C': 0.615848211066026, 'classifier__penalty': 'l1', 'classifier__solver': 'liblinear'}\n",
      "Execution time: 68.4442400932312 ms\n"
     ]
    }
   ],
   "source": [
    "# Create grid search object\n",
    "grid_search_lr = GridSearchCV(pipe_lr, param_grid = param_grid_lr, cv = 5, verbose=True, n_jobs=-1)\n",
    "\n",
    "start_time = time.time()\n",
    "\n",
    "# Fit on data\n",
    "robbery_best_lr = grid_search_lr.fit(robbery_train_lr, robbery_presence_train)\n",
    "print(\"Best: %f using %s\" % (robbery_best_lr.best_score_, robbery_best_lr.best_params_))\n",
    "print(\"Execution time: \" + str((time.time() - start_time)) + ' ms')"
   ]
  },
  {
   "cell_type": "code",
   "execution_count": 92,
   "metadata": {},
   "outputs": [
    {
     "name": "stdout",
     "output_type": "stream",
     "text": [
      "Fitting 5 folds for each of 40 candidates, totalling 200 fits\n"
     ]
    },
    {
     "name": "stderr",
     "output_type": "stream",
     "text": [
      "[Parallel(n_jobs=-1)]: Using backend LokyBackend with 8 concurrent workers.\n",
      "[Parallel(n_jobs=-1)]: Done  34 tasks      | elapsed:    1.9s\n",
      "[Parallel(n_jobs=-1)]: Done 184 tasks      | elapsed:  2.0min\n",
      "[Parallel(n_jobs=-1)]: Done 200 out of 200 | elapsed:  2.3min finished\n"
     ]
    },
    {
     "name": "stdout",
     "output_type": "stream",
     "text": [
      "Best: 0.694314 using {'classifier': LogisticRegression(C=0.03359818286283781, penalty='l1', solver='liblinear'), 'classifier__C': 0.03359818286283781, 'classifier__penalty': 'l1', 'classifier__solver': 'liblinear'}\n",
      "Execution time: 136.02705550193787 ms\n"
     ]
    }
   ],
   "source": [
    "start_time = time.time()\n",
    "pedestrian_best_lr = grid_search_lr.fit(pedestrian_train_lr, pedestrian_presence_train)\n",
    "print(\"Best: %f using %s\" % (pedestrian_best_lr.best_score_, pedestrian_best_lr.best_params_))\n",
    "print(\"Execution time: \" + str((time.time() - start_time)) + ' ms')"
   ]
  },
  {
   "cell_type": "code",
   "execution_count": 93,
   "metadata": {},
   "outputs": [
    {
     "name": "stdout",
     "output_type": "stream",
     "text": [
      "              precision    recall  f1-score   support\n",
      "\n",
      "         0.0       0.68      0.68      0.68      1512\n",
      "         1.0       0.70      0.69      0.70      1573\n",
      "\n",
      "    accuracy                           0.69      3085\n",
      "   macro avg       0.69      0.69      0.69      3085\n",
      "weighted avg       0.69      0.69      0.69      3085\n",
      "\n"
     ]
    }
   ],
   "source": [
    "# does this model perform better?\n",
    "pedestrian_model_best_LR = LogisticRegression(penalty='l1', C = 0.03359818286283781, solver='liblinear', \n",
    "                                              max_iter=500)\n",
    "pedestrian_model_best_LR.fit(pedestrian_train_lr, pedestrian_presence_train)\n",
    "pedestrian_model_prediction_best_LR = pedestrian_model_best_LR.predict(pedestrian_test_lr)\n",
    "# how did these models perform?\n",
    "print(classification_report(pedestrian_presence_test, pedestrian_model_prediction_best_LR))"
   ]
  },
  {
   "cell_type": "code",
   "execution_count": 94,
   "metadata": {},
   "outputs": [
    {
     "name": "stdout",
     "output_type": "stream",
     "text": [
      "              precision    recall  f1-score   support\n",
      "\n",
      "         0.0       0.90      0.84      0.87      1960\n",
      "         1.0       0.85      0.90      0.87      1900\n",
      "\n",
      "    accuracy                           0.87      3860\n",
      "   macro avg       0.87      0.87      0.87      3860\n",
      "weighted avg       0.87      0.87      0.87      3860\n",
      "\n"
     ]
    }
   ],
   "source": [
    "# does this model perform better?\n",
    "robbery_model_best_LR = LogisticRegression(penalty='l1', C = 0.615848211066026, solver='liblinear', \n",
    "                                              max_iter=500)\n",
    "robbery_model_best_LR.fit(robbery_train_lr, robbery_presence_train)\n",
    "robbery_model_prediction_best_LR = robbery_model_best_LR.predict(robbery_test_lr)\n",
    "# how did these models perform?\n",
    "print(classification_report(robbery_presence_test, robbery_model_prediction_best_LR))"
   ]
  },
  {
   "cell_type": "markdown",
   "metadata": {},
   "source": [
    "## Random Forest"
   ]
  },
  {
   "cell_type": "code",
   "execution_count": 95,
   "metadata": {},
   "outputs": [],
   "source": [
    "# Create first pipeline for base without reducing features.\n",
    "pipe_rf = Pipeline([('classifier' , RandomForestClassifier())])\n",
    "\n",
    "# Create param grid.\n",
    "\n",
    "param_grid_rf = [\n",
    "     {\n",
    "    'classifier__bootstrap': [True],\n",
    "    'classifier__max_depth': [80, 90, 100, 110],\n",
    "    'classifier__max_features': [2, 3],\n",
    "    'classifier__min_samples_leaf': [3, 4, 5],\n",
    "    'classifier__min_samples_split': [8, 10, 12],\n",
    "    'classifier__n_estimators': [100, 200, 300, 1000]\n",
    "}\n",
    "]\n",
    "\n",
    "random_grid_rf = {'classifier__n_estimators': [200, 400, 600, 800, 1000, 1200, 1400, 1600, 1800, 2000],\n",
    "               'classifier__max_features': ['auto', 'sqrt'],\n",
    "               'classifier__max_depth': [10, 20, 30, 40, 50, 60, 70, 80, 90, 100, None],\n",
    "               'classifier__min_samples_split': [1, 2, 4],\n",
    "               'classifier__min_samples_leaf': [2, 5, 10],\n",
    "               'classifier__bootstrap': [True]}\n",
    "\n",
    "grid_search_rf = GridSearchCV(pipe_rf, param_grid = param_grid_rf, cv = 3, n_jobs = -1, verbose = 2)\n",
    "\n",
    "random_grid_search_rf = RandomizedSearchCV(pipe_rf, param_distributions = random_grid_rf, n_iter = 100, cv = 3,\n",
    "                                           verbose=2, random_state=42, n_jobs = -1)"
   ]
  },
  {
   "cell_type": "code",
   "execution_count": 96,
   "metadata": {},
   "outputs": [
    {
     "name": "stdout",
     "output_type": "stream",
     "text": [
      "Fitting 3 folds for each of 288 candidates, totalling 864 fits\n"
     ]
    },
    {
     "name": "stderr",
     "output_type": "stream",
     "text": [
      "[Parallel(n_jobs=-1)]: Using backend LokyBackend with 8 concurrent workers.\n",
      "[Parallel(n_jobs=-1)]: Done  25 tasks      | elapsed:   24.4s\n",
      "[Parallel(n_jobs=-1)]: Done 146 tasks      | elapsed:  2.3min\n",
      "[Parallel(n_jobs=-1)]: Done 349 tasks      | elapsed:  5.7min\n",
      "[Parallel(n_jobs=-1)]: Done 632 tasks      | elapsed: 10.4min\n",
      "[Parallel(n_jobs=-1)]: Done 864 out of 864 | elapsed: 14.3min finished\n"
     ]
    },
    {
     "name": "stdout",
     "output_type": "stream",
     "text": [
      "Best: 0.886631 using {'classifier__bootstrap': True, 'classifier__max_depth': 90, 'classifier__max_features': 3, 'classifier__min_samples_leaf': 3, 'classifier__min_samples_split': 10, 'classifier__n_estimators': 200}\n",
      "Execution time: 859.2099471092224 ms\n"
     ]
    }
   ],
   "source": [
    "# Fit on data\n",
    "start_time = time.time()\n",
    "robbery_best_rf = grid_search_rf.fit(robbery_train, robbery_presence_train)\n",
    "print(\"Best: %f using %s\" % (robbery_best_rf.best_score_, robbery_best_rf.best_params_))\n",
    "print(\"Execution time: \" + str((time.time() - start_time)) + ' ms')\n",
    "#robbery_best_rf_random = random_grid_search_rf.fit(robbery_train, robbery_presence_train)\n",
    "#print(\"Best: %f using %s\" % (robbery_best_rf_random.best_score_, robbery_best_rf_random.best_params_))\n",
    "#print(\"Execution time: \" + str((time.time() - start_time)) + ' ms')"
   ]
  },
  {
   "cell_type": "code",
   "execution_count": 97,
   "metadata": {},
   "outputs": [
    {
     "name": "stdout",
     "output_type": "stream",
     "text": [
      "Fitting 3 folds for each of 288 candidates, totalling 864 fits\n"
     ]
    },
    {
     "name": "stderr",
     "output_type": "stream",
     "text": [
      "[Parallel(n_jobs=-1)]: Using backend LokyBackend with 8 concurrent workers.\n",
      "[Parallel(n_jobs=-1)]: Done  25 tasks      | elapsed:   35.9s\n",
      "[Parallel(n_jobs=-1)]: Done 146 tasks      | elapsed:  3.1min\n",
      "[Parallel(n_jobs=-1)]: Done 349 tasks      | elapsed:  7.1min\n",
      "[Parallel(n_jobs=-1)]: Done 632 tasks      | elapsed: 13.9min\n",
      "[Parallel(n_jobs=-1)]: Done 864 out of 864 | elapsed: 18.1min finished\n"
     ]
    },
    {
     "name": "stdout",
     "output_type": "stream",
     "text": [
      "Best: 0.764624 using {'classifier__bootstrap': True, 'classifier__max_depth': 90, 'classifier__max_features': 3, 'classifier__min_samples_leaf': 3, 'classifier__min_samples_split': 8, 'classifier__n_estimators': 1000}\n",
      "Execution time: 1115.3622498512268 ms\n"
     ]
    }
   ],
   "source": [
    "start_time = time.time()\n",
    "pedestrian_best_rf = grid_search_rf.fit(pedestrian_train, pedestrian_presence_train)\n",
    "print(\"Best: %f using %s\" % (pedestrian_best_rf.best_score_, pedestrian_best_rf.best_params_))\n",
    "print(\"Execution time: \" + str((time.time() - start_time)) + ' ms')\n",
    "\n",
    "#start_time = time.time()\n",
    "#pedestrian_best_rf_random = random_grid_search_rf.fit(pedestrian_train, pedestrian_presence_train)\n",
    "#print(\"Best: %f using %s\" % (pedestrian_best_rf_random.best_score_, pedestrian_best_rf_random.best_params_))\n",
    "#print(\"Execution time: \" + str((time.time() - start_time)) + ' ms')"
   ]
  },
  {
   "cell_type": "code",
   "execution_count": 100,
   "metadata": {},
   "outputs": [
    {
     "name": "stdout",
     "output_type": "stream",
     "text": [
      "              precision    recall  f1-score   support\n",
      "\n",
      "         0.0       0.73      0.83      0.78      1512\n",
      "         1.0       0.81      0.71      0.75      1573\n",
      "\n",
      "    accuracy                           0.77      3085\n",
      "   macro avg       0.77      0.77      0.77      3085\n",
      "weighted avg       0.77      0.77      0.77      3085\n",
      "\n"
     ]
    }
   ],
   "source": [
    "# does this model perform better?\n",
    "pedestrian_model_best_RF = RandomForestClassifier(bootstrap= True, max_depth = 90, \n",
    "                                                  max_features= 3, min_samples_leaf = 3,\n",
    "                                                  min_samples_split = 8, n_estimators = 1000)\n",
    "pedestrian_model_best_RF.fit(pedestrian_train, pedestrian_presence_train)\n",
    "pedestrian_model_prediction_best_RF = pedestrian_model_best_RF.predict(pedestrian_test)\n",
    "# how did these models perform?\n",
    "print(classification_report(pedestrian_presence_test, pedestrian_model_prediction_best_RF))"
   ]
  },
  {
   "cell_type": "code",
   "execution_count": 99,
   "metadata": {},
   "outputs": [
    {
     "name": "stdout",
     "output_type": "stream",
     "text": [
      "              precision    recall  f1-score   support\n",
      "\n",
      "         0.0       0.89      0.91      0.90      1960\n",
      "         1.0       0.90      0.88      0.89      1900\n",
      "\n",
      "    accuracy                           0.90      3860\n",
      "   macro avg       0.90      0.90      0.90      3860\n",
      "weighted avg       0.90      0.90      0.90      3860\n",
      "\n"
     ]
    }
   ],
   "source": [
    "# does this model perform better?\n",
    "robbery_model_best_RF = RandomForestClassifier(bootstrap= True, max_depth = 90, \n",
    "                                                  max_features= 3, min_samples_leaf = 3,\n",
    "                                                  min_samples_split = 8, n_estimators = 1000)\n",
    "robbery_model_best_RF.fit(robbery_train, robbery_presence_train)\n",
    "robbery_model_prediction_best_RF = robbery_model_best_RF.predict(robbery_test)\n",
    "# how did these models perform?\n",
    "print(classification_report(robbery_presence_test, robbery_model_prediction_best_RF))"
   ]
  },
  {
   "cell_type": "markdown",
   "metadata": {},
   "source": [
    "Now that I have a pretty good model, my next step is to make AUC plots and assess the how features compared in their relative importance."
   ]
  },
  {
   "cell_type": "code",
   "execution_count": 102,
   "metadata": {},
   "outputs": [
    {
     "data": {
      "image/png": "[encoded data removed]",
      "text/plain": [
       "<Figure size 576x288 with 1 Axes>"
      ]
     },
     "metadata": {
      "needs_background": "light"
     },
     "output_type": "display_data"
    }
   ],
   "source": [
    "from sklearn.metrics import roc_auc_score\n",
    "from sklearn import metrics\n",
    "#import scikitplot as skplt\n",
    "import matplotlib.pyplot as plt\n",
    "\n",
    "robbery_pred_proba = robbery_model_best_RF.predict_proba(robbery_test)[::,1]\n",
    "fpr_r, tpr_r, _ = metrics.roc_curve(robbery_presence_test,  robbery_pred_proba)\n",
    "auc_r = metrics.roc_auc_score(robbery_presence_test, robbery_pred_proba)\n",
    "\n",
    "pedestrian_pred_proba = pedestrian_model_best_RF.predict_proba(pedestrian_test)[::,1]\n",
    "fpr_p, tpr_p, _ = metrics.roc_curve(pedestrian_presence_test,  pedestrian_pred_proba)\n",
    "auc_p = metrics.roc_auc_score(pedestrian_presence_test, pedestrian_pred_proba)\n",
    "\n",
    "figure, ax = plt.subplots(1, figsize=(8, 4))\n",
    "ax.plot(fpr_r,tpr_r,label=\"Muggging (auc) = \"+str(round(auc_r,3)), color = \"darkgoldenrod\")\n",
    "ax.plot(fpr_p,tpr_p,label=\"Pedestrian Car Collusion (auc) = \"+str(round(auc_p,3)), color = \"lightseagreen\")\n",
    "ax.set_xlabel('False Positive Rate', fontsize=10)\n",
    "ax.set_ylabel('True Positive Rate', fontsize=10)\n",
    "plt.legend(loc=4)\n",
    "save_results_to = 'C:/Users/jodyn/PycharmProjects/InsightFDS/notebooks/figures/'\n",
    "plt.savefig(save_results_to + 'AUC.png', dpi = 300)"
   ]
  },
  {
   "cell_type": "code",
   "execution_count": 180,
   "metadata": {},
   "outputs": [],
   "source": [
    "numpy.set_printoptions(suppress=True) #prevent numpy exponential\n",
    "importance_pedestrian = numpy.array(pedestrian_model_best_RF.feature_importances_)\n",
    "importance_robbery = numpy.array(robbery_model_best_RF.feature_importances_)"
   ]
  },
  {
   "cell_type": "code",
   "execution_count": 185,
   "metadata": {},
   "outputs": [],
   "source": [
    "importance_pedestrian = importance_pedestrian.astype(float)\n",
    "importance_robbery = importance_robbery.astype(float)"
   ]
  },
  {
   "cell_type": "code",
   "execution_count": 215,
   "metadata": {},
   "outputs": [],
   "source": [
    "robbery_x_names = list(map(lambda st: str.replace(st, \"Hood_ID_\", \"Hood ID \"), robbery_model_names))\n",
    "robbery_x_names = list(map(lambda st: str.replace(st, \"YEAR\", \"Year\"), robbery_x_names))\n",
    "robbery_x_names = list(map(lambda st: str.replace(st, \"HOUR\", \"Hour\"), robbery_x_names))\n",
    "robbery_x_names = list(map(lambda st: str.replace(st, \"ROAD_CLASS_Collector\", \"Road Class Collector\"), robbery_x_names))\n",
    "robbery_x_names = list(map(lambda st: str.replace(st, \"ROAD_CLASS_Expressway\", \"Road Class Expressway\"), robbery_x_names))\n",
    "robbery_x_names = list(map(lambda st: str.replace(st, \"ROAD_CLASS_Local\", \"Road Class Local\"), robbery_x_names))\n",
    "robbery_x_names = list(map(lambda st: str.replace(st, \"ROAD_CLASS_Major Arterial\", \"Road Class Major Arterial\"), robbery_x_names))\n",
    "robbery_x_names = list(map(lambda st: str.replace(st, \"ROAD_CLASS_Minor Arterial\", \"Road Class Minor Arterial\"), robbery_x_names))\n",
    "robbery_x_names = list(map(lambda st: str.replace(st, \"LIGHT_Dark\", \"Light Dark\"), robbery_x_names))\n",
    "robbery_x_names = list(map(lambda st: str.replace(st, \"LIGHT_Dark, artificial\", \"Light Dark Artificial\"), robbery_x_names))\n",
    "robbery_x_names = list(map(lambda st: str.replace(st, \"LIGHT_Dawn\", \"Light Dawn\"), robbery_x_names))\n",
    "robbery_x_names = list(map(lambda st: str.replace(st, \"LIGHT_Dawn, artificial\", \"Light Dawn Artificial\"), robbery_x_names))\n",
    "robbery_x_names = list(map(lambda st: str.replace(st, \"LIGHT_Daylight\", \"Light Daylight\"), robbery_x_names))\n",
    "robbery_x_names = list(map(lambda st: str.replace(st, \"LIGHT_Daylight, artificial\", \"Light Daylight Artificial\"), robbery_x_names))\n",
    "robbery_x_names = list(map(lambda st: str.replace(st, \"LIGHT_Dusk\", \"Light Dusk\"), robbery_x_names))\n",
    "robbery_x_names = list(map(lambda st: str.replace(st, \"LIGHT_Dusk, artificial\", \"Light Dusk Artificial\"), robbery_x_names))\n",
    "robbery_x_names = list(map(lambda st: str.replace(st, \"LIGHT_Other\", \"Light Other\"), robbery_x_names))\n",
    "robbery_x_names = list(map(lambda st: str.replace(st, \" artificial\", \" Artificial\"), robbery_x_names))\n",
    "robbery_x_names = list(map(lambda st: str.replace(st, \"turning_lo\", \"Turning Loop Distance\"), robbery_x_names))\n",
    "robbery_x_names = list(map(lambda st: str.replace(st, \"crossing\", \"Crossing Distance\"), robbery_x_names))\n",
    "robbery_x_names = list(map(lambda st: str.replace(st, \"give_way\", \"Give Way Distance\"), robbery_x_names))\n",
    "robbery_x_names = list(map(lambda st: str.replace(st, \"speed_came\", \"Speed Camera Distance\"), robbery_x_names))\n",
    "robbery_x_names = list(map(lambda st: str.replace(st, \"stop\", \"Stop Distance\"), robbery_x_names))\n",
    "robbery_x_names = list(map(lambda st: str.replace(st, \"traffic_si\", \"Traffic Signal\"), robbery_x_names))"
   ]
  },
  {
   "cell_type": "code",
   "execution_count": 170,
   "metadata": {},
   "outputs": [],
   "source": [
    "pedestrian_x_names = list(map(lambda st: str.replace(st, \"Police_Div_\", \"Police Division \"), pedestrian_features_names))\n",
    "pedestrian_x_names = list(map(lambda st: str.replace(st, \"Hood_ID_\", \"Hood ID \"), pedestrian_x_names))\n",
    "pedestrian_x_names = list(map(lambda st: str.replace(st, \"dyear\", \"Year\"), pedestrian_x_names))\n",
    "pedestrian_x_names = list(map(lambda st: str.replace(st, \"dday\", \"Day of Month\"), pedestrian_x_names))\n",
    "pedestrian_x_names = list(map(lambda st: str.replace(st, \"dhour\", \"Day of Month\"), pedestrian_x_names))\n",
    "pedestrian_x_names = list(map(lambda st: str.replace(st, \"turning_lo\", \"Turning Loop Distance\"), pedestrian_x_names))\n",
    "pedestrian_x_names = list(map(lambda st: str.replace(st, \"crossing\", \"Crossing Distance\"), pedestrian_x_names))\n",
    "pedestrian_x_names = list(map(lambda st: str.replace(st, \"give_way\", \"Give Way Distance\"), pedestrian_x_names))\n",
    "pedestrian_x_names = list(map(lambda st: str.replace(st, \"speed_came\", \"Speed Camera Distance\"), pedestrian_x_names))\n",
    "pedestrian_x_names = list(map(lambda st: str.replace(st, \"stop\", \"Stop Distance\"), pedestrian_x_names))\n",
    "pedestrian_x_names = list(map(lambda st: str.replace(st, \"traffic_si\", \"Traffic Signal\"), pedestrian_x_names))"
   ]
  },
  {
   "cell_type": "code",
   "execution_count": 217,
   "metadata": {},
   "outputs": [],
   "source": [
    "import numpy\n",
    "numpy.set_printoptions(suppress=True) #prevent numpy exponentia\n",
    "pedestrian_vif = pandas.DataFrame(numpy.column_stack([pedestrian_x_names, importance_pedestrian.astype(float)]), \n",
    "                               columns=['Variable', 'VIF'])\n",
    "\n",
    "pedestrian_vif.sort_values('VIF',inplace=True, ascending=False)\n",
    "\n",
    "robbery_vif = pandas.DataFrame(numpy.column_stack([robbery_x_names, importance_robbery.astype(float)]), \n",
    "                               columns=['Variable', 'VIF'])\n",
    "robbery_vif.sort_values('VIF',inplace=True, ascending=False)"
   ]
  },
  {
   "cell_type": "code",
   "execution_count": 139,
   "metadata": {},
   "outputs": [
    {
     "data": {
      "text/plain": [
       "10"
      ]
     },
     "execution_count": 139,
     "metadata": {},
     "output_type": "execute_result"
    }
   ],
   "source": [
    "len(pedestrian_vif['Variable'][0:10])"
   ]
  },
  {
   "cell_type": "code",
   "execution_count": 199,
   "metadata": {},
   "outputs": [
    {
     "data": {
      "text/html": [
       "<div>\n",
       "<style scoped>\n",
       "    .dataframe tbody tr th:only-of-type {\n",
       "        vertical-align: middle;\n",
       "    }\n",
       "\n",
       "    .dataframe tbody tr th {\n",
       "        vertical-align: top;\n",
       "    }\n",
       "\n",
       "    .dataframe thead th {\n",
       "        text-align: right;\n",
       "    }\n",
       "</style>\n",
       "<table border=\"1\" class=\"dataframe\">\n",
       "  <thead>\n",
       "    <tr style=\"text-align: right;\">\n",
       "      <th></th>\n",
       "      <th>Variable</th>\n",
       "      <th>VIF</th>\n",
       "    </tr>\n",
       "  </thead>\n",
       "  <tbody>\n",
       "    <tr>\n",
       "      <th>8</th>\n",
       "      <td>Traffic Signal</td>\n",
       "      <td>0.19798635265733</td>\n",
       "    </tr>\n",
       "    <tr>\n",
       "      <th>4</th>\n",
       "      <td>Crossing Distance</td>\n",
       "      <td>0.18594550989686365</td>\n",
       "    </tr>\n",
       "    <tr>\n",
       "      <th>7</th>\n",
       "      <td>Stop Distance</td>\n",
       "      <td>0.0793655025951428</td>\n",
       "    </tr>\n",
       "    <tr>\n",
       "      <th>2</th>\n",
       "      <td>Day of Month</td>\n",
       "      <td>0.07810588063555522</td>\n",
       "    </tr>\n",
       "    <tr>\n",
       "      <th>6</th>\n",
       "      <td>Speed Camera Distance</td>\n",
       "      <td>0.059453952102947245</td>\n",
       "    </tr>\n",
       "    <tr>\n",
       "      <th>...</th>\n",
       "      <td>...</td>\n",
       "      <td>...</td>\n",
       "    </tr>\n",
       "    <tr>\n",
       "      <th>88</th>\n",
       "      <td>Hood ID 29</td>\n",
       "      <td>0.00022806244103558505</td>\n",
       "    </tr>\n",
       "    <tr>\n",
       "      <th>44</th>\n",
       "      <td>Hood ID 115</td>\n",
       "      <td>0.00022038938923924306</td>\n",
       "    </tr>\n",
       "    <tr>\n",
       "      <th>111</th>\n",
       "      <td>Hood ID 5</td>\n",
       "      <td>0.00021897556095657394</td>\n",
       "    </tr>\n",
       "    <tr>\n",
       "      <th>119</th>\n",
       "      <td>Hood ID 57</td>\n",
       "      <td>0.00018539478301395936</td>\n",
       "    </tr>\n",
       "    <tr>\n",
       "      <th>162</th>\n",
       "      <td>Hood ID 96</td>\n",
       "      <td>0.00011934532566351695</td>\n",
       "    </tr>\n",
       "  </tbody>\n",
       "</table>\n",
       "<p>166 rows × 2 columns</p>\n",
       "</div>"
      ],
      "text/plain": [
       "                  Variable                     VIF\n",
       "8           Traffic Signal        0.19798635265733\n",
       "4        Crossing Distance     0.18594550989686365\n",
       "7            Stop Distance      0.0793655025951428\n",
       "2             Day of Month     0.07810588063555522\n",
       "6    Speed Camera Distance    0.059453952102947245\n",
       "..                     ...                     ...\n",
       "88              Hood ID 29  0.00022806244103558505\n",
       "44             Hood ID 115  0.00022038938923924306\n",
       "111              Hood ID 5  0.00021897556095657394\n",
       "119             Hood ID 57  0.00018539478301395936\n",
       "162             Hood ID 96  0.00011934532566351695\n",
       "\n",
       "[166 rows x 2 columns]"
      ]
     },
     "execution_count": 199,
     "metadata": {},
     "output_type": "execute_result"
    }
   ],
   "source": [
    " #prevent numpy exponentia\n",
    "pedestrian_vif"
   ]
  },
  {
   "cell_type": "code",
   "execution_count": 203,
   "metadata": {},
   "outputs": [
    {
     "data": {
      "text/plain": [
       "132    0.000100\n",
       "10     0.166617\n",
       "16     0.138573\n",
       "3      0.130422\n",
       "8      0.066237\n",
       "1      0.051677\n",
       "20     0.042178\n",
       "14     0.036048\n",
       "9      0.032051\n",
       "7      0.030413\n",
       "Name: VIF, dtype: float64"
      ]
     },
     "execution_count": 203,
     "metadata": {},
     "output_type": "execute_result"
    }
   ],
   "source": [
    "robbery_vif['VIF'][0:10].astype(float)"
   ]
  },
  {
   "cell_type": "code",
   "execution_count": 220,
   "metadata": {},
   "outputs": [
    {
     "data": {
      "image/png": "[encoded data removed]",
      "text/plain": [
       "<Figure size 1080x432 with 1 Axes>"
      ]
     },
     "metadata": {
      "needs_background": "light"
     },
     "output_type": "display_data"
    }
   ],
   "source": [
    "import matplotlib.pyplot as plt\n",
    "\n",
    "figure, ax = plt.subplots(1, figsize=(15, 6))\n",
    "ax.barh(robbery_vif['Variable'][1:16],robbery_vif['VIF'][1:16].astype(float), color = \"darkgoldenrod\", ec=\"darkgoldenrod\")\n",
    "\n",
    "save_results_to = 'C:/Users/jodyn/PycharmProjects/InsightFDS/notebooks/figures/'\n",
    "plt.savefig(save_results_to + 'Feature-Importance_Mug.png', dpi = 300)"
   ]
  },
  {
   "cell_type": "code",
   "execution_count": 219,
   "metadata": {},
   "outputs": [
    {
     "data": {
      "image/png": "[encoded data removed]",
      "text/plain": [
       "<Figure size 1080x576 with 1 Axes>"
      ]
     },
     "metadata": {
      "needs_background": "light"
     },
     "output_type": "display_data"
    }
   ],
   "source": [
    "figure, ax = plt.subplots(1, figsize=(15, 8))\n",
    "ax.barh(pedestrian_vif['Variable'][0:15],pedestrian_vif['VIF'][0:15].astype(float), color = \"lightseagreen\", ec=\"lightseagreen\")\n",
    "save_results_to = 'C:/Users/jodyn/PycharmProjects/InsightFDS/notebooks/figures/'\n",
    "plt.savefig(save_results_to + 'Feature-Importance_Car.png', dpi = 300)"
   ]
  },
  {
   "cell_type": "markdown",
   "metadata": {},
   "source": [
    "# Predicting Risks - Random Forest"
   ]
  },
  {
   "cell_type": "code",
   "execution_count": 221,
   "metadata": {},
   "outputs": [],
   "source": [
    "# I am going to run this on the full dataset\n",
    "# and select the features in this final model\n",
    "pedestrian_features_final = pandas.DataFrame(pedestrian_features,\n",
    "                                          columns=pedestrian_features_names)\n",
    "robbery_features_final = pandas.DataFrame(robbery_features,\n",
    "                                          columns=robbery_model_names)"
   ]
  },
  {
   "cell_type": "code",
   "execution_count": 222,
   "metadata": {},
   "outputs": [],
   "source": [
    "# will add these data to the main dataframe\n",
    "pedestrian_model_data_dummies_bal['Collison'] = pandas.DataFrame((pedestrian_model_best_RF.predict_proba(pedestrian_features_final)))[1]\n",
    "\n",
    "robbery_model_data_dummies_bal['Mugging'] = pandas.DataFrame((robbery_model_best_RF.predict_proba(robbery_features_final)))[1]\n"
   ]
  },
  {
   "cell_type": "code",
   "execution_count": 226,
   "metadata": {},
   "outputs": [
    {
     "data": {
      "text/html": [
       "<div>\n",
       "<style scoped>\n",
       "    .dataframe tbody tr th:only-of-type {\n",
       "        vertical-align: middle;\n",
       "    }\n",
       "\n",
       "    .dataframe tbody tr th {\n",
       "        vertical-align: top;\n",
       "    }\n",
       "\n",
       "    .dataframe thead th {\n",
       "        text-align: right;\n",
       "    }\n",
       "</style>\n",
       "<table border=\"1\" class=\"dataframe\">\n",
       "  <thead>\n",
       "    <tr style=\"text-align: right;\">\n",
       "      <th></th>\n",
       "      <th>Longitude</th>\n",
       "      <th>Latitude</th>\n",
       "      <th>Collison</th>\n",
       "    </tr>\n",
       "  </thead>\n",
       "  <tbody>\n",
       "    <tr>\n",
       "      <th>0</th>\n",
       "      <td>643504.5428</td>\n",
       "      <td>4.844612e+06</td>\n",
       "      <td>0.749685</td>\n",
       "    </tr>\n",
       "    <tr>\n",
       "      <th>1</th>\n",
       "      <td>620730.7547</td>\n",
       "      <td>4.828645e+06</td>\n",
       "      <td>0.581189</td>\n",
       "    </tr>\n",
       "    <tr>\n",
       "      <th>2</th>\n",
       "      <td>630453.7364</td>\n",
       "      <td>4.835282e+06</td>\n",
       "      <td>0.882606</td>\n",
       "    </tr>\n",
       "    <tr>\n",
       "      <th>3</th>\n",
       "      <td>633097.7097</td>\n",
       "      <td>4.839541e+06</td>\n",
       "      <td>0.587363</td>\n",
       "    </tr>\n",
       "    <tr>\n",
       "      <th>4</th>\n",
       "      <td>633097.7097</td>\n",
       "      <td>4.839541e+06</td>\n",
       "      <td>0.587363</td>\n",
       "    </tr>\n",
       "    <tr>\n",
       "      <th>...</th>\n",
       "      <td>...</td>\n",
       "      <td>...</td>\n",
       "      <td>...</td>\n",
       "    </tr>\n",
       "    <tr>\n",
       "      <th>10277</th>\n",
       "      <td>631192.9984</td>\n",
       "      <td>4.837074e+06</td>\n",
       "      <td>0.230168</td>\n",
       "    </tr>\n",
       "    <tr>\n",
       "      <th>10278</th>\n",
       "      <td>633766.5733</td>\n",
       "      <td>4.850536e+06</td>\n",
       "      <td>0.341021</td>\n",
       "    </tr>\n",
       "    <tr>\n",
       "      <th>10279</th>\n",
       "      <td>622555.5458</td>\n",
       "      <td>4.843273e+06</td>\n",
       "      <td>0.333857</td>\n",
       "    </tr>\n",
       "    <tr>\n",
       "      <th>10280</th>\n",
       "      <td>649783.5711</td>\n",
       "      <td>4.848682e+06</td>\n",
       "      <td>0.376136</td>\n",
       "    </tr>\n",
       "    <tr>\n",
       "      <th>10281</th>\n",
       "      <td>630914.5446</td>\n",
       "      <td>4.841529e+06</td>\n",
       "      <td>0.249815</td>\n",
       "    </tr>\n",
       "  </tbody>\n",
       "</table>\n",
       "<p>10282 rows × 3 columns</p>\n",
       "</div>"
      ],
      "text/plain": [
       "         Longitude      Latitude  Collison\n",
       "0      643504.5428  4.844612e+06  0.749685\n",
       "1      620730.7547  4.828645e+06  0.581189\n",
       "2      630453.7364  4.835282e+06  0.882606\n",
       "3      633097.7097  4.839541e+06  0.587363\n",
       "4      633097.7097  4.839541e+06  0.587363\n",
       "...            ...           ...       ...\n",
       "10277  631192.9984  4.837074e+06  0.230168\n",
       "10278  633766.5733  4.850536e+06  0.341021\n",
       "10279  622555.5458  4.843273e+06  0.333857\n",
       "10280  649783.5711  4.848682e+06  0.376136\n",
       "10281  630914.5446  4.841529e+06  0.249815\n",
       "\n",
       "[10282 rows x 3 columns]"
      ]
     },
     "execution_count": 226,
     "metadata": {},
     "output_type": "execute_result"
    }
   ],
   "source": [
    "pedestrian_model_data_dummies_bal[['Longitude','Latitude','Collison']]"
   ]
  },
  {
   "cell_type": "code",
   "execution_count": 225,
   "metadata": {},
   "outputs": [
    {
     "data": {
      "text/plain": [
       "['Presence_A',\n",
       " 'dyear',\n",
       " 'dday',\n",
       " 'dhour',\n",
       " 'turning_lo',\n",
       " 'crossing',\n",
       " 'give_way',\n",
       " 'speed_came',\n",
       " 'stop',\n",
       " 'traffic_si',\n",
       " 'geometry',\n",
       " 'Latitude',\n",
       " 'Longitude',\n",
       " 'Police_Div_D11',\n",
       " 'Police_Div_D12',\n",
       " 'Police_Div_D13',\n",
       " 'Police_Div_D14',\n",
       " 'Police_Div_D22',\n",
       " 'Police_Div_D23',\n",
       " 'Police_Div_D31',\n",
       " 'Police_Div_D32',\n",
       " 'Police_Div_D33',\n",
       " 'Police_Div_D41',\n",
       " 'Police_Div_D42',\n",
       " 'Police_Div_D43',\n",
       " 'Police_Div_D51',\n",
       " 'Police_Div_D52',\n",
       " 'Police_Div_D53',\n",
       " 'Police_Div_D54',\n",
       " 'Police_Div_D55',\n",
       " 'Hood_ID_1',\n",
       " 'Hood_ID_10',\n",
       " 'Hood_ID_100',\n",
       " 'Hood_ID_101',\n",
       " 'Hood_ID_102',\n",
       " 'Hood_ID_103',\n",
       " 'Hood_ID_104',\n",
       " 'Hood_ID_105',\n",
       " 'Hood_ID_106',\n",
       " 'Hood_ID_107',\n",
       " 'Hood_ID_108',\n",
       " 'Hood_ID_109',\n",
       " 'Hood_ID_11',\n",
       " 'Hood_ID_110',\n",
       " 'Hood_ID_111',\n",
       " 'Hood_ID_112',\n",
       " 'Hood_ID_113',\n",
       " 'Hood_ID_114',\n",
       " 'Hood_ID_115',\n",
       " 'Hood_ID_116',\n",
       " 'Hood_ID_117',\n",
       " 'Hood_ID_118',\n",
       " 'Hood_ID_119',\n",
       " 'Hood_ID_12',\n",
       " 'Hood_ID_120',\n",
       " 'Hood_ID_121',\n",
       " 'Hood_ID_122',\n",
       " 'Hood_ID_123',\n",
       " 'Hood_ID_124',\n",
       " 'Hood_ID_125',\n",
       " 'Hood_ID_126',\n",
       " 'Hood_ID_127',\n",
       " 'Hood_ID_128',\n",
       " 'Hood_ID_129',\n",
       " 'Hood_ID_13',\n",
       " 'Hood_ID_130',\n",
       " 'Hood_ID_131',\n",
       " 'Hood_ID_132',\n",
       " 'Hood_ID_133',\n",
       " 'Hood_ID_134',\n",
       " 'Hood_ID_135',\n",
       " 'Hood_ID_136',\n",
       " 'Hood_ID_137',\n",
       " 'Hood_ID_138',\n",
       " 'Hood_ID_139',\n",
       " 'Hood_ID_14',\n",
       " 'Hood_ID_140',\n",
       " 'Hood_ID_15',\n",
       " 'Hood_ID_16',\n",
       " 'Hood_ID_17',\n",
       " 'Hood_ID_18',\n",
       " 'Hood_ID_19',\n",
       " 'Hood_ID_2',\n",
       " 'Hood_ID_20',\n",
       " 'Hood_ID_21',\n",
       " 'Hood_ID_22',\n",
       " 'Hood_ID_23',\n",
       " 'Hood_ID_24',\n",
       " 'Hood_ID_25',\n",
       " 'Hood_ID_26',\n",
       " 'Hood_ID_27',\n",
       " 'Hood_ID_28',\n",
       " 'Hood_ID_29',\n",
       " 'Hood_ID_3',\n",
       " 'Hood_ID_30',\n",
       " 'Hood_ID_31',\n",
       " 'Hood_ID_32',\n",
       " 'Hood_ID_33',\n",
       " 'Hood_ID_34',\n",
       " 'Hood_ID_35',\n",
       " 'Hood_ID_36',\n",
       " 'Hood_ID_37',\n",
       " 'Hood_ID_38',\n",
       " 'Hood_ID_39',\n",
       " 'Hood_ID_4',\n",
       " 'Hood_ID_40',\n",
       " 'Hood_ID_41',\n",
       " 'Hood_ID_42',\n",
       " 'Hood_ID_43',\n",
       " 'Hood_ID_44',\n",
       " 'Hood_ID_45',\n",
       " 'Hood_ID_46',\n",
       " 'Hood_ID_47',\n",
       " 'Hood_ID_48',\n",
       " 'Hood_ID_49',\n",
       " 'Hood_ID_5',\n",
       " 'Hood_ID_50',\n",
       " 'Hood_ID_51',\n",
       " 'Hood_ID_52',\n",
       " 'Hood_ID_53',\n",
       " 'Hood_ID_54',\n",
       " 'Hood_ID_55',\n",
       " 'Hood_ID_56',\n",
       " 'Hood_ID_57',\n",
       " 'Hood_ID_58',\n",
       " 'Hood_ID_59',\n",
       " 'Hood_ID_6',\n",
       " 'Hood_ID_60',\n",
       " 'Hood_ID_61',\n",
       " 'Hood_ID_62',\n",
       " 'Hood_ID_63',\n",
       " 'Hood_ID_64',\n",
       " 'Hood_ID_65',\n",
       " 'Hood_ID_66',\n",
       " 'Hood_ID_67',\n",
       " 'Hood_ID_68',\n",
       " 'Hood_ID_69',\n",
       " 'Hood_ID_7',\n",
       " 'Hood_ID_70',\n",
       " 'Hood_ID_71',\n",
       " 'Hood_ID_72',\n",
       " 'Hood_ID_73',\n",
       " 'Hood_ID_74',\n",
       " 'Hood_ID_75',\n",
       " 'Hood_ID_76',\n",
       " 'Hood_ID_77',\n",
       " 'Hood_ID_78',\n",
       " 'Hood_ID_79',\n",
       " 'Hood_ID_8',\n",
       " 'Hood_ID_80',\n",
       " 'Hood_ID_81',\n",
       " 'Hood_ID_82',\n",
       " 'Hood_ID_83',\n",
       " 'Hood_ID_84',\n",
       " 'Hood_ID_85',\n",
       " 'Hood_ID_86',\n",
       " 'Hood_ID_87',\n",
       " 'Hood_ID_88',\n",
       " 'Hood_ID_89',\n",
       " 'Hood_ID_9',\n",
       " 'Hood_ID_90',\n",
       " 'Hood_ID_91',\n",
       " 'Hood_ID_92',\n",
       " 'Hood_ID_93',\n",
       " 'Hood_ID_94',\n",
       " 'Hood_ID_95',\n",
       " 'Hood_ID_96',\n",
       " 'Hood_ID_97',\n",
       " 'Hood_ID_98',\n",
       " 'Hood_ID_99',\n",
       " 'Collison']"
      ]
     },
     "execution_count": 225,
     "metadata": {},
     "output_type": "execute_result"
    }
   ],
   "source": [
    "robbery_model_data_dummies_bal[['Longitude','Latitude','Mugging']]"
   ]
  },
  {
   "cell_type": "code",
   "execution_count": 17,
   "metadata": {},
   "outputs": [
    {
     "data": {
      "text/plain": [
       "['Latitude', 'Longitude', 'Collison']"
      ]
     },
     "execution_count": 17,
     "metadata": {},
     "output_type": "execute_result"
    }
   ],
   "source": [
    "list(pedestrian_model_data_dummies_bal.iloc[:, numpy.r_[2:4,25]])"
   ]
  },
  {
   "cell_type": "code",
   "execution_count": 227,
   "metadata": {},
   "outputs": [],
   "source": [
    "robbery_model_nodes = robbery_model_data_dummies_bal[['Longitude','Latitude','Mugging']]\n",
    "pedestrian_model_nodes = pedestrian_model_data_dummies_bal[['Longitude','Latitude','Collison']]"
   ]
  },
  {
   "cell_type": "code",
   "execution_count": 228,
   "metadata": {},
   "outputs": [],
   "source": [
    "def create_gdf(df, Longitude, Latitude, projection):\n",
    "    return geopandas.GeoDataFrame(df, geometry=geopandas.points_from_xy(df[Longitude], df[Latitude]),\n",
    "                                  crs=projection)\n",
    "\n",
    "# need as a geopanda dataframe to append to nodes\n",
    "pedestrian_model_nodes_2958 = create_gdf(pedestrian_model_nodes,                                      \n",
    "                                      Longitude='Longitude',\n",
    "                                      Latitude='Latitude',\n",
    "                                      projection=\"EPSG:2958\")"
   ]
  },
  {
   "cell_type": "code",
   "execution_count": 229,
   "metadata": {},
   "outputs": [],
   "source": [
    "robbery_model_nodes_2958 = create_gdf(robbery_model_nodes,\n",
    "                                      Longitude='Longitude',\n",
    "                                      Latitude='Latitude',\n",
    "                                      projection=\"EPSG:2958\")"
   ]
  },
  {
   "cell_type": "code",
   "execution_count": 231,
   "metadata": {},
   "outputs": [],
   "source": [
    "robbery_model_nodes_2958.to_pickle(\"C:/Users/jodyn/Google Drive/Insight Data Science/Insight/Processed Data/robbery_model_nodes_2958.pkl\")\n",
    "pedestrian_model_nodes_2958.to_pickle(\"C:/Users/jodyn/Google Drive/Insight Data Science/Insight/Processed Data/pedestrian_model_nodes_2958.pkl\")"
   ]
  },
  {
   "cell_type": "markdown",
   "metadata": {},
   "source": [
    "Juptyter crashed when I tried to do the edge weights in here. So, I wil finish in PyCharm."
   ]
  }
 ],
 "metadata": {
  "kernelspec": {
   "display_name": "Python 3",
   "language": "python",
   "name": "python3"
  },
  "language_info": {
   "codemirror_mode": {
    "name": "ipython",
    "version": 3
   },
   "file_extension": ".py",
   "mimetype": "text/x-python",
   "name": "python",
   "nbconvert_exporter": "python",
   "pygments_lexer": "ipython3",
   "version": "3.7.6"
  }
 },
 "nbformat": 4,
 "nbformat_minor": 4
}
