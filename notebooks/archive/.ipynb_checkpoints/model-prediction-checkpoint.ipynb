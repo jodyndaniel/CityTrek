{
 "cells": [
  {
   "cell_type": "markdown",
   "metadata": {},
   "source": [
    "# Logistic Regression - Predicting Risks"
   ]
  },
  {
   "cell_type": "markdown",
   "metadata": {},
   "source": [
    "I am interested in finding the best model. But first, I will use default settings. Then, I will use a random grid search to fine tune parameters. Then grid search to narrow down the paramerters I should use. Finally, I will compare this best model to the one produced by the default settings. I am going to try **logistic regression** and **random forest**."
   ]
  },
  {
   "cell_type": "code",
   "execution_count": 93,
   "metadata": {},
   "outputs": [],
   "source": [
    "from sklearn.model_selection import train_test_split # to measure within momdel acuracy\n",
    "from sklearn.preprocessing import StandardScaler # need to scale data for logistic regression\n",
    "from sklearn.linear_model import LogisticRegression\n",
    "from sklearn.ensemble  import RandomForestClassifier\n",
    "from sklearn.metrics import classification_report\n",
    "import pandas\n",
    "from sklearn.model_selection import GridSearchCV\n",
    "from sklearn.model_selection import RandomizedSearchCV\n",
    "import osmnx\n",
    "import pickle\n",
    "import folium\n",
    "from sklearn.pipeline import Pipeline\n",
    "from sklearn.ensemble import RandomForestClassifier\n",
    "import numpy\n",
    "import time\n",
    "import geopandas\n",
    "from scipy import ndimage, interpolate\n",
    "from photutils.utils import ShepardIDWInterpolator"
   ]
  },
  {
   "cell_type": "code",
   "execution_count": 68,
   "metadata": {},
   "outputs": [],
   "source": [
    "# loading data\n",
    "robbery_model_data_dummies_bal = pandas.read_pickle('C:/Users/jodyn/Google Drive/Insight/Processed Data/robbery_model_data_dummies_bal.pkl')\n",
    "pedestrian_model_data_dummies_bal = pandas.read_pickle('C:/Users/jodyn/Google Drive/Insight/Processed Data/pedestrian_model_data_dummies_bal.pkl')"
   ]
  },
  {
   "cell_type": "code",
   "execution_count": 50,
   "metadata": {},
   "outputs": [
    {
     "data": {
      "text/html": [
       "<div>\n",
       "<style scoped>\n",
       "    .dataframe tbody tr th:only-of-type {\n",
       "        vertical-align: middle;\n",
       "    }\n",
       "\n",
       "    .dataframe tbody tr th {\n",
       "        vertical-align: top;\n",
       "    }\n",
       "\n",
       "    .dataframe thead th {\n",
       "        text-align: right;\n",
       "    }\n",
       "</style>\n",
       "<table border=\"1\" class=\"dataframe\">\n",
       "  <thead>\n",
       "    <tr style=\"text-align: right;\">\n",
       "      <th></th>\n",
       "      <th>dyear</th>\n",
       "      <th>dday</th>\n",
       "      <th>ddayofyear</th>\n",
       "      <th>dhour</th>\n",
       "      <th>Hood_ID</th>\n",
       "      <th>Longitude</th>\n",
       "      <th>Latitude</th>\n",
       "      <th>Presence_Absence</th>\n",
       "      <th>Division_D11</th>\n",
       "      <th>Division_D12</th>\n",
       "      <th>...</th>\n",
       "      <th>Division_D32</th>\n",
       "      <th>Division_D33</th>\n",
       "      <th>Division_D41</th>\n",
       "      <th>Division_D42</th>\n",
       "      <th>Division_D43</th>\n",
       "      <th>Division_D51</th>\n",
       "      <th>Division_D52</th>\n",
       "      <th>Division_D53</th>\n",
       "      <th>Division_D54</th>\n",
       "      <th>Division_D55</th>\n",
       "    </tr>\n",
       "  </thead>\n",
       "  <tbody>\n",
       "    <tr>\n",
       "      <th>0</th>\n",
       "      <td>2014</td>\n",
       "      <td>6</td>\n",
       "      <td>187</td>\n",
       "      <td>3</td>\n",
       "      <td>139</td>\n",
       "      <td>-79.217850</td>\n",
       "      <td>43.740662</td>\n",
       "      <td>1</td>\n",
       "      <td>0</td>\n",
       "      <td>0</td>\n",
       "      <td>...</td>\n",
       "      <td>0</td>\n",
       "      <td>0</td>\n",
       "      <td>0</td>\n",
       "      <td>0</td>\n",
       "      <td>1</td>\n",
       "      <td>0</td>\n",
       "      <td>0</td>\n",
       "      <td>0</td>\n",
       "      <td>0</td>\n",
       "      <td>0</td>\n",
       "    </tr>\n",
       "    <tr>\n",
       "      <th>1</th>\n",
       "      <td>2014</td>\n",
       "      <td>6</td>\n",
       "      <td>187</td>\n",
       "      <td>19</td>\n",
       "      <td>18</td>\n",
       "      <td>-79.504143</td>\n",
       "      <td>43.601009</td>\n",
       "      <td>1</td>\n",
       "      <td>0</td>\n",
       "      <td>0</td>\n",
       "      <td>...</td>\n",
       "      <td>0</td>\n",
       "      <td>0</td>\n",
       "      <td>0</td>\n",
       "      <td>0</td>\n",
       "      <td>0</td>\n",
       "      <td>0</td>\n",
       "      <td>0</td>\n",
       "      <td>0</td>\n",
       "      <td>0</td>\n",
       "      <td>0</td>\n",
       "    </tr>\n",
       "    <tr>\n",
       "      <th>2</th>\n",
       "      <td>2014</td>\n",
       "      <td>12</td>\n",
       "      <td>12</td>\n",
       "      <td>22</td>\n",
       "      <td>76</td>\n",
       "      <td>-79.382118</td>\n",
       "      <td>43.659100</td>\n",
       "      <td>1</td>\n",
       "      <td>0</td>\n",
       "      <td>0</td>\n",
       "      <td>...</td>\n",
       "      <td>0</td>\n",
       "      <td>0</td>\n",
       "      <td>0</td>\n",
       "      <td>0</td>\n",
       "      <td>0</td>\n",
       "      <td>1</td>\n",
       "      <td>0</td>\n",
       "      <td>0</td>\n",
       "      <td>0</td>\n",
       "      <td>0</td>\n",
       "    </tr>\n",
       "    <tr>\n",
       "      <th>3</th>\n",
       "      <td>2014</td>\n",
       "      <td>20</td>\n",
       "      <td>140</td>\n",
       "      <td>19</td>\n",
       "      <td>58</td>\n",
       "      <td>-79.348290</td>\n",
       "      <td>43.696964</td>\n",
       "      <td>1</td>\n",
       "      <td>0</td>\n",
       "      <td>0</td>\n",
       "      <td>...</td>\n",
       "      <td>0</td>\n",
       "      <td>0</td>\n",
       "      <td>0</td>\n",
       "      <td>0</td>\n",
       "      <td>0</td>\n",
       "      <td>0</td>\n",
       "      <td>0</td>\n",
       "      <td>0</td>\n",
       "      <td>1</td>\n",
       "      <td>0</td>\n",
       "    </tr>\n",
       "    <tr>\n",
       "      <th>4</th>\n",
       "      <td>2014</td>\n",
       "      <td>20</td>\n",
       "      <td>140</td>\n",
       "      <td>19</td>\n",
       "      <td>58</td>\n",
       "      <td>-79.348290</td>\n",
       "      <td>43.696964</td>\n",
       "      <td>1</td>\n",
       "      <td>0</td>\n",
       "      <td>0</td>\n",
       "      <td>...</td>\n",
       "      <td>0</td>\n",
       "      <td>0</td>\n",
       "      <td>0</td>\n",
       "      <td>0</td>\n",
       "      <td>0</td>\n",
       "      <td>0</td>\n",
       "      <td>0</td>\n",
       "      <td>0</td>\n",
       "      <td>1</td>\n",
       "      <td>0</td>\n",
       "    </tr>\n",
       "    <tr>\n",
       "      <th>...</th>\n",
       "      <td>...</td>\n",
       "      <td>...</td>\n",
       "      <td>...</td>\n",
       "      <td>...</td>\n",
       "      <td>...</td>\n",
       "      <td>...</td>\n",
       "      <td>...</td>\n",
       "      <td>...</td>\n",
       "      <td>...</td>\n",
       "      <td>...</td>\n",
       "      <td>...</td>\n",
       "      <td>...</td>\n",
       "      <td>...</td>\n",
       "      <td>...</td>\n",
       "      <td>...</td>\n",
       "      <td>...</td>\n",
       "      <td>...</td>\n",
       "      <td>...</td>\n",
       "      <td>...</td>\n",
       "      <td>...</td>\n",
       "      <td>...</td>\n",
       "    </tr>\n",
       "    <tr>\n",
       "      <th>10277</th>\n",
       "      <td>2019</td>\n",
       "      <td>19</td>\n",
       "      <td>212</td>\n",
       "      <td>3</td>\n",
       "      <td>124</td>\n",
       "      <td>-79.235779</td>\n",
       "      <td>43.796328</td>\n",
       "      <td>0</td>\n",
       "      <td>0</td>\n",
       "      <td>0</td>\n",
       "      <td>...</td>\n",
       "      <td>0</td>\n",
       "      <td>0</td>\n",
       "      <td>0</td>\n",
       "      <td>0</td>\n",
       "      <td>0</td>\n",
       "      <td>0</td>\n",
       "      <td>0</td>\n",
       "      <td>0</td>\n",
       "      <td>0</td>\n",
       "      <td>0</td>\n",
       "    </tr>\n",
       "    <tr>\n",
       "      <th>10278</th>\n",
       "      <td>2015</td>\n",
       "      <td>16</td>\n",
       "      <td>14</td>\n",
       "      <td>1</td>\n",
       "      <td>50</td>\n",
       "      <td>-79.349284</td>\n",
       "      <td>43.703551</td>\n",
       "      <td>0</td>\n",
       "      <td>0</td>\n",
       "      <td>0</td>\n",
       "      <td>...</td>\n",
       "      <td>0</td>\n",
       "      <td>0</td>\n",
       "      <td>0</td>\n",
       "      <td>1</td>\n",
       "      <td>0</td>\n",
       "      <td>0</td>\n",
       "      <td>0</td>\n",
       "      <td>0</td>\n",
       "      <td>0</td>\n",
       "      <td>0</td>\n",
       "    </tr>\n",
       "    <tr>\n",
       "      <th>10279</th>\n",
       "      <td>2018</td>\n",
       "      <td>19</td>\n",
       "      <td>36</td>\n",
       "      <td>21</td>\n",
       "      <td>71</td>\n",
       "      <td>-79.148878</td>\n",
       "      <td>43.742300</td>\n",
       "      <td>0</td>\n",
       "      <td>0</td>\n",
       "      <td>0</td>\n",
       "      <td>...</td>\n",
       "      <td>0</td>\n",
       "      <td>0</td>\n",
       "      <td>0</td>\n",
       "      <td>1</td>\n",
       "      <td>0</td>\n",
       "      <td>0</td>\n",
       "      <td>0</td>\n",
       "      <td>0</td>\n",
       "      <td>0</td>\n",
       "      <td>0</td>\n",
       "    </tr>\n",
       "    <tr>\n",
       "      <th>10280</th>\n",
       "      <td>2015</td>\n",
       "      <td>20</td>\n",
       "      <td>168</td>\n",
       "      <td>17</td>\n",
       "      <td>53</td>\n",
       "      <td>-79.284522</td>\n",
       "      <td>43.795091</td>\n",
       "      <td>0</td>\n",
       "      <td>0</td>\n",
       "      <td>0</td>\n",
       "      <td>...</td>\n",
       "      <td>0</td>\n",
       "      <td>1</td>\n",
       "      <td>0</td>\n",
       "      <td>0</td>\n",
       "      <td>0</td>\n",
       "      <td>0</td>\n",
       "      <td>0</td>\n",
       "      <td>0</td>\n",
       "      <td>0</td>\n",
       "      <td>0</td>\n",
       "    </tr>\n",
       "    <tr>\n",
       "      <th>10281</th>\n",
       "      <td>2015</td>\n",
       "      <td>17</td>\n",
       "      <td>25</td>\n",
       "      <td>20</td>\n",
       "      <td>135</td>\n",
       "      <td>-79.217744</td>\n",
       "      <td>43.642369</td>\n",
       "      <td>0</td>\n",
       "      <td>0</td>\n",
       "      <td>0</td>\n",
       "      <td>...</td>\n",
       "      <td>1</td>\n",
       "      <td>0</td>\n",
       "      <td>0</td>\n",
       "      <td>0</td>\n",
       "      <td>0</td>\n",
       "      <td>0</td>\n",
       "      <td>0</td>\n",
       "      <td>0</td>\n",
       "      <td>0</td>\n",
       "      <td>0</td>\n",
       "    </tr>\n",
       "  </tbody>\n",
       "</table>\n",
       "<p>10282 rows × 25 columns</p>\n",
       "</div>"
      ],
      "text/plain": [
       "       dyear  dday  ddayofyear  dhour  Hood_ID  Longitude   Latitude  \\\n",
       "0       2014     6         187      3      139 -79.217850  43.740662   \n",
       "1       2014     6         187     19       18 -79.504143  43.601009   \n",
       "2       2014    12          12     22       76 -79.382118  43.659100   \n",
       "3       2014    20         140     19       58 -79.348290  43.696964   \n",
       "4       2014    20         140     19       58 -79.348290  43.696964   \n",
       "...      ...   ...         ...    ...      ...        ...        ...   \n",
       "10277   2019    19         212      3      124 -79.235779  43.796328   \n",
       "10278   2015    16          14      1       50 -79.349284  43.703551   \n",
       "10279   2018    19          36     21       71 -79.148878  43.742300   \n",
       "10280   2015    20         168     17       53 -79.284522  43.795091   \n",
       "10281   2015    17          25     20      135 -79.217744  43.642369   \n",
       "\n",
       "       Presence_Absence  Division_D11  Division_D12  ...  Division_D32  \\\n",
       "0                     1             0             0  ...             0   \n",
       "1                     1             0             0  ...             0   \n",
       "2                     1             0             0  ...             0   \n",
       "3                     1             0             0  ...             0   \n",
       "4                     1             0             0  ...             0   \n",
       "...                 ...           ...           ...  ...           ...   \n",
       "10277                 0             0             0  ...             0   \n",
       "10278                 0             0             0  ...             0   \n",
       "10279                 0             0             0  ...             0   \n",
       "10280                 0             0             0  ...             0   \n",
       "10281                 0             0             0  ...             1   \n",
       "\n",
       "       Division_D33  Division_D41  Division_D42  Division_D43  Division_D51  \\\n",
       "0                 0             0             0             1             0   \n",
       "1                 0             0             0             0             0   \n",
       "2                 0             0             0             0             1   \n",
       "3                 0             0             0             0             0   \n",
       "4                 0             0             0             0             0   \n",
       "...             ...           ...           ...           ...           ...   \n",
       "10277             0             0             0             0             0   \n",
       "10278             0             0             1             0             0   \n",
       "10279             0             0             1             0             0   \n",
       "10280             1             0             0             0             0   \n",
       "10281             0             0             0             0             0   \n",
       "\n",
       "       Division_D52  Division_D53  Division_D54  Division_D55  \n",
       "0                 0             0             0             0  \n",
       "1                 0             0             0             0  \n",
       "2                 0             0             0             0  \n",
       "3                 0             0             1             0  \n",
       "4                 0             0             1             0  \n",
       "...             ...           ...           ...           ...  \n",
       "10277             0             0             0             0  \n",
       "10278             0             0             0             0  \n",
       "10279             0             0             0             0  \n",
       "10280             0             0             0             0  \n",
       "10281             0             0             0             0  \n",
       "\n",
       "[10282 rows x 25 columns]"
      ]
     },
     "execution_count": 50,
     "metadata": {},
     "output_type": "execute_result"
    }
   ],
   "source": [
    "robbery_model_data_dummies_bal"
   ]
  },
  {
   "cell_type": "code",
   "execution_count": 51,
   "metadata": {},
   "outputs": [
    {
     "data": {
      "text/html": [
       "<div>\n",
       "<style scoped>\n",
       "    .dataframe tbody tr th:only-of-type {\n",
       "        vertical-align: middle;\n",
       "    }\n",
       "\n",
       "    .dataframe tbody tr th {\n",
       "        vertical-align: top;\n",
       "    }\n",
       "\n",
       "    .dataframe thead th {\n",
       "        text-align: right;\n",
       "    }\n",
       "</style>\n",
       "<table border=\"1\" class=\"dataframe\">\n",
       "  <thead>\n",
       "    <tr style=\"text-align: right;\">\n",
       "      <th></th>\n",
       "      <th>YEAR</th>\n",
       "      <th>HOUR</th>\n",
       "      <th>Latitude</th>\n",
       "      <th>Longitude</th>\n",
       "      <th>crossing</th>\n",
       "      <th>give_way</th>\n",
       "      <th>stop</th>\n",
       "      <th>traffic_signals</th>\n",
       "      <th>turning_loop</th>\n",
       "      <th>speed_camera</th>\n",
       "      <th>...</th>\n",
       "      <th>ROAD_CLASS_Minor Arterial</th>\n",
       "      <th>LIGHT_Dark</th>\n",
       "      <th>LIGHT_Dark, artificial</th>\n",
       "      <th>LIGHT_Dawn</th>\n",
       "      <th>LIGHT_Dawn, artificial</th>\n",
       "      <th>LIGHT_Daylight</th>\n",
       "      <th>LIGHT_Daylight, artificial</th>\n",
       "      <th>LIGHT_Dusk</th>\n",
       "      <th>LIGHT_Dusk, artificial</th>\n",
       "      <th>LIGHT_Other</th>\n",
       "    </tr>\n",
       "  </thead>\n",
       "  <tbody>\n",
       "    <tr>\n",
       "      <th>0</th>\n",
       "      <td>2006</td>\n",
       "      <td>7</td>\n",
       "      <td>43.652892</td>\n",
       "      <td>-79.406253</td>\n",
       "      <td>17.981884</td>\n",
       "      <td>969.579684</td>\n",
       "      <td>60.326632</td>\n",
       "      <td>29.443103</td>\n",
       "      <td>1229.990423</td>\n",
       "      <td>6835.780559</td>\n",
       "      <td>...</td>\n",
       "      <td>0</td>\n",
       "      <td>0</td>\n",
       "      <td>1</td>\n",
       "      <td>0</td>\n",
       "      <td>0</td>\n",
       "      <td>0</td>\n",
       "      <td>0</td>\n",
       "      <td>0</td>\n",
       "      <td>0</td>\n",
       "      <td>0</td>\n",
       "    </tr>\n",
       "    <tr>\n",
       "      <th>1</th>\n",
       "      <td>2006</td>\n",
       "      <td>7</td>\n",
       "      <td>43.652892</td>\n",
       "      <td>-79.406253</td>\n",
       "      <td>17.981884</td>\n",
       "      <td>969.579684</td>\n",
       "      <td>60.326632</td>\n",
       "      <td>29.443103</td>\n",
       "      <td>1229.990423</td>\n",
       "      <td>6835.780559</td>\n",
       "      <td>...</td>\n",
       "      <td>0</td>\n",
       "      <td>0</td>\n",
       "      <td>1</td>\n",
       "      <td>0</td>\n",
       "      <td>0</td>\n",
       "      <td>0</td>\n",
       "      <td>0</td>\n",
       "      <td>0</td>\n",
       "      <td>0</td>\n",
       "      <td>0</td>\n",
       "    </tr>\n",
       "    <tr>\n",
       "      <th>2</th>\n",
       "      <td>2006</td>\n",
       "      <td>19</td>\n",
       "      <td>43.655145</td>\n",
       "      <td>-79.433590</td>\n",
       "      <td>3.095428</td>\n",
       "      <td>503.854514</td>\n",
       "      <td>35.844610</td>\n",
       "      <td>4.051852</td>\n",
       "      <td>2325.026837</td>\n",
       "      <td>3807.828169</td>\n",
       "      <td>...</td>\n",
       "      <td>0</td>\n",
       "      <td>1</td>\n",
       "      <td>0</td>\n",
       "      <td>0</td>\n",
       "      <td>0</td>\n",
       "      <td>0</td>\n",
       "      <td>0</td>\n",
       "      <td>0</td>\n",
       "      <td>0</td>\n",
       "      <td>0</td>\n",
       "    </tr>\n",
       "    <tr>\n",
       "      <th>3</th>\n",
       "      <td>2006</td>\n",
       "      <td>19</td>\n",
       "      <td>43.655145</td>\n",
       "      <td>-79.433590</td>\n",
       "      <td>3.095428</td>\n",
       "      <td>503.854514</td>\n",
       "      <td>35.844610</td>\n",
       "      <td>4.051852</td>\n",
       "      <td>2325.026837</td>\n",
       "      <td>3807.828169</td>\n",
       "      <td>...</td>\n",
       "      <td>0</td>\n",
       "      <td>1</td>\n",
       "      <td>0</td>\n",
       "      <td>0</td>\n",
       "      <td>0</td>\n",
       "      <td>0</td>\n",
       "      <td>0</td>\n",
       "      <td>0</td>\n",
       "      <td>0</td>\n",
       "      <td>0</td>\n",
       "    </tr>\n",
       "    <tr>\n",
       "      <th>4</th>\n",
       "      <td>2006</td>\n",
       "      <td>22</td>\n",
       "      <td>43.777056</td>\n",
       "      <td>-79.347858</td>\n",
       "      <td>6.696265</td>\n",
       "      <td>847.166243</td>\n",
       "      <td>153.802302</td>\n",
       "      <td>7.466501</td>\n",
       "      <td>2883.840549</td>\n",
       "      <td>13630.191961</td>\n",
       "      <td>...</td>\n",
       "      <td>0</td>\n",
       "      <td>0</td>\n",
       "      <td>1</td>\n",
       "      <td>0</td>\n",
       "      <td>0</td>\n",
       "      <td>0</td>\n",
       "      <td>0</td>\n",
       "      <td>0</td>\n",
       "      <td>0</td>\n",
       "      <td>0</td>\n",
       "    </tr>\n",
       "    <tr>\n",
       "      <th>...</th>\n",
       "      <td>...</td>\n",
       "      <td>...</td>\n",
       "      <td>...</td>\n",
       "      <td>...</td>\n",
       "      <td>...</td>\n",
       "      <td>...</td>\n",
       "      <td>...</td>\n",
       "      <td>...</td>\n",
       "      <td>...</td>\n",
       "      <td>...</td>\n",
       "      <td>...</td>\n",
       "      <td>...</td>\n",
       "      <td>...</td>\n",
       "      <td>...</td>\n",
       "      <td>...</td>\n",
       "      <td>...</td>\n",
       "      <td>...</td>\n",
       "      <td>...</td>\n",
       "      <td>...</td>\n",
       "      <td>...</td>\n",
       "      <td>...</td>\n",
       "    </tr>\n",
       "    <tr>\n",
       "      <th>12759</th>\n",
       "      <td>2007</td>\n",
       "      <td>22</td>\n",
       "      <td>43.836693</td>\n",
       "      <td>-79.302868</td>\n",
       "      <td>356.812078</td>\n",
       "      <td>2345.295865</td>\n",
       "      <td>490.014227</td>\n",
       "      <td>356.910494</td>\n",
       "      <td>2331.446094</td>\n",
       "      <td>18779.906013</td>\n",
       "      <td>...</td>\n",
       "      <td>0</td>\n",
       "      <td>0</td>\n",
       "      <td>0</td>\n",
       "      <td>0</td>\n",
       "      <td>0</td>\n",
       "      <td>0</td>\n",
       "      <td>0</td>\n",
       "      <td>0</td>\n",
       "      <td>1</td>\n",
       "      <td>0</td>\n",
       "    </tr>\n",
       "    <tr>\n",
       "      <th>12760</th>\n",
       "      <td>2016</td>\n",
       "      <td>15</td>\n",
       "      <td>43.806733</td>\n",
       "      <td>-79.212209</td>\n",
       "      <td>170.878482</td>\n",
       "      <td>1299.369459</td>\n",
       "      <td>45.896940</td>\n",
       "      <td>78.032306</td>\n",
       "      <td>115.701347</td>\n",
       "      <td>28620.660776</td>\n",
       "      <td>...</td>\n",
       "      <td>0</td>\n",
       "      <td>0</td>\n",
       "      <td>0</td>\n",
       "      <td>0</td>\n",
       "      <td>0</td>\n",
       "      <td>0</td>\n",
       "      <td>1</td>\n",
       "      <td>0</td>\n",
       "      <td>0</td>\n",
       "      <td>0</td>\n",
       "    </tr>\n",
       "    <tr>\n",
       "      <th>12761</th>\n",
       "      <td>2018</td>\n",
       "      <td>19</td>\n",
       "      <td>43.688603</td>\n",
       "      <td>-79.595672</td>\n",
       "      <td>34.773621</td>\n",
       "      <td>38.725278</td>\n",
       "      <td>96.563957</td>\n",
       "      <td>36.574360</td>\n",
       "      <td>120.075875</td>\n",
       "      <td>10394.656798</td>\n",
       "      <td>...</td>\n",
       "      <td>1</td>\n",
       "      <td>0</td>\n",
       "      <td>1</td>\n",
       "      <td>0</td>\n",
       "      <td>0</td>\n",
       "      <td>0</td>\n",
       "      <td>0</td>\n",
       "      <td>0</td>\n",
       "      <td>0</td>\n",
       "      <td>0</td>\n",
       "    </tr>\n",
       "    <tr>\n",
       "      <th>12762</th>\n",
       "      <td>2006</td>\n",
       "      <td>18</td>\n",
       "      <td>43.770122</td>\n",
       "      <td>-79.267954</td>\n",
       "      <td>93.886291</td>\n",
       "      <td>831.296267</td>\n",
       "      <td>85.218211</td>\n",
       "      <td>163.521124</td>\n",
       "      <td>951.179175</td>\n",
       "      <td>22375.682163</td>\n",
       "      <td>...</td>\n",
       "      <td>1</td>\n",
       "      <td>0</td>\n",
       "      <td>0</td>\n",
       "      <td>0</td>\n",
       "      <td>0</td>\n",
       "      <td>0</td>\n",
       "      <td>0</td>\n",
       "      <td>1</td>\n",
       "      <td>0</td>\n",
       "      <td>0</td>\n",
       "    </tr>\n",
       "    <tr>\n",
       "      <th>12763</th>\n",
       "      <td>2006</td>\n",
       "      <td>23</td>\n",
       "      <td>43.756756</td>\n",
       "      <td>-79.318865</td>\n",
       "      <td>167.582321</td>\n",
       "      <td>959.307442</td>\n",
       "      <td>37.911718</td>\n",
       "      <td>173.239626</td>\n",
       "      <td>442.063889</td>\n",
       "      <td>16728.688311</td>\n",
       "      <td>...</td>\n",
       "      <td>0</td>\n",
       "      <td>0</td>\n",
       "      <td>0</td>\n",
       "      <td>0</td>\n",
       "      <td>0</td>\n",
       "      <td>1</td>\n",
       "      <td>0</td>\n",
       "      <td>0</td>\n",
       "      <td>0</td>\n",
       "      <td>0</td>\n",
       "    </tr>\n",
       "  </tbody>\n",
       "</table>\n",
       "<p>12764 rows × 25 columns</p>\n",
       "</div>"
      ],
      "text/plain": [
       "       YEAR  HOUR   Latitude  Longitude    crossing     give_way        stop  \\\n",
       "0      2006     7  43.652892 -79.406253   17.981884   969.579684   60.326632   \n",
       "1      2006     7  43.652892 -79.406253   17.981884   969.579684   60.326632   \n",
       "2      2006    19  43.655145 -79.433590    3.095428   503.854514   35.844610   \n",
       "3      2006    19  43.655145 -79.433590    3.095428   503.854514   35.844610   \n",
       "4      2006    22  43.777056 -79.347858    6.696265   847.166243  153.802302   \n",
       "...     ...   ...        ...        ...         ...          ...         ...   \n",
       "12759  2007    22  43.836693 -79.302868  356.812078  2345.295865  490.014227   \n",
       "12760  2016    15  43.806733 -79.212209  170.878482  1299.369459   45.896940   \n",
       "12761  2018    19  43.688603 -79.595672   34.773621    38.725278   96.563957   \n",
       "12762  2006    18  43.770122 -79.267954   93.886291   831.296267   85.218211   \n",
       "12763  2006    23  43.756756 -79.318865  167.582321   959.307442   37.911718   \n",
       "\n",
       "       traffic_signals  turning_loop  speed_camera  ...  \\\n",
       "0            29.443103   1229.990423   6835.780559  ...   \n",
       "1            29.443103   1229.990423   6835.780559  ...   \n",
       "2             4.051852   2325.026837   3807.828169  ...   \n",
       "3             4.051852   2325.026837   3807.828169  ...   \n",
       "4             7.466501   2883.840549  13630.191961  ...   \n",
       "...                ...           ...           ...  ...   \n",
       "12759       356.910494   2331.446094  18779.906013  ...   \n",
       "12760        78.032306    115.701347  28620.660776  ...   \n",
       "12761        36.574360    120.075875  10394.656798  ...   \n",
       "12762       163.521124    951.179175  22375.682163  ...   \n",
       "12763       173.239626    442.063889  16728.688311  ...   \n",
       "\n",
       "       ROAD_CLASS_Minor Arterial  LIGHT_Dark  LIGHT_Dark, artificial  \\\n",
       "0                              0           0                       1   \n",
       "1                              0           0                       1   \n",
       "2                              0           1                       0   \n",
       "3                              0           1                       0   \n",
       "4                              0           0                       1   \n",
       "...                          ...         ...                     ...   \n",
       "12759                          0           0                       0   \n",
       "12760                          0           0                       0   \n",
       "12761                          1           0                       1   \n",
       "12762                          1           0                       0   \n",
       "12763                          0           0                       0   \n",
       "\n",
       "       LIGHT_Dawn  LIGHT_Dawn, artificial  LIGHT_Daylight  \\\n",
       "0               0                       0               0   \n",
       "1               0                       0               0   \n",
       "2               0                       0               0   \n",
       "3               0                       0               0   \n",
       "4               0                       0               0   \n",
       "...           ...                     ...             ...   \n",
       "12759           0                       0               0   \n",
       "12760           0                       0               0   \n",
       "12761           0                       0               0   \n",
       "12762           0                       0               0   \n",
       "12763           0                       0               1   \n",
       "\n",
       "       LIGHT_Daylight, artificial  LIGHT_Dusk  LIGHT_Dusk, artificial  \\\n",
       "0                               0           0                       0   \n",
       "1                               0           0                       0   \n",
       "2                               0           0                       0   \n",
       "3                               0           0                       0   \n",
       "4                               0           0                       0   \n",
       "...                           ...         ...                     ...   \n",
       "12759                           0           0                       1   \n",
       "12760                           1           0                       0   \n",
       "12761                           0           0                       0   \n",
       "12762                           0           1                       0   \n",
       "12763                           0           0                       0   \n",
       "\n",
       "       LIGHT_Other  \n",
       "0                0  \n",
       "1                0  \n",
       "2                0  \n",
       "3                0  \n",
       "4                0  \n",
       "...            ...  \n",
       "12759            0  \n",
       "12760            0  \n",
       "12761            0  \n",
       "12762            0  \n",
       "12763            0  \n",
       "\n",
       "[12764 rows x 25 columns]"
      ]
     },
     "execution_count": 51,
     "metadata": {},
     "output_type": "execute_result"
    }
   ],
   "source": [
    "pedestrian_model_data_dummies_bal"
   ]
  },
  {
   "cell_type": "code",
   "execution_count": 69,
   "metadata": {},
   "outputs": [],
   "source": [
    "# Labels are the values we want to predict\n",
    "robbery_labels = robbery_model_data_dummies_bal['Presence_Absence']\n",
    "robbery_features = robbery_model_data_dummies_bal.drop(['Presence_Absence','Latitude', 'Longitude'], axis = 1)\n",
    "robbery_model_names = list(robbery_model_data_dummies_bal.drop(['Presence_Absence','Latitude', 'Longitude'], axis = 1)) \n",
    "pedestrian_labels = pedestrian_model_data_dummies_bal['Presence_Absence']\n",
    "pedestrian_features = pedestrian_model_data_dummies_bal.drop(['Presence_Absence','Latitude', 'Longitude'], axis = 1)\n",
    "pedestrian_features_names = list(pedestrian_model_data_dummies_bal.drop(['Presence_Absence','Latitude', 'Longitude'], axis = 1))\n",
    "# Split the data into training and testing sets\n",
    "robbery_train, robbery_test, robbery_presence_train, robbery_presence_test = train_test_split(\n",
    "    robbery_features,robbery_labels, test_size=0.3, random_state=42)\n",
    "pedestrian_train, pedestrian_test, pedestrian_presence_train, pedestrian_presence_test = train_test_split(\n",
    "    pedestrian_features,pedestrian_labels, test_size=0.3, random_state=42)"
   ]
  },
  {
   "cell_type": "code",
   "execution_count": 53,
   "metadata": {},
   "outputs": [
    {
     "data": {
      "text/plain": [
       "['dyear',\n",
       " 'dday',\n",
       " 'ddayofyear',\n",
       " 'dhour',\n",
       " 'Hood_ID',\n",
       " 'Division_D11',\n",
       " 'Division_D12',\n",
       " 'Division_D13',\n",
       " 'Division_D14',\n",
       " 'Division_D22',\n",
       " 'Division_D23',\n",
       " 'Division_D31',\n",
       " 'Division_D32',\n",
       " 'Division_D33',\n",
       " 'Division_D41',\n",
       " 'Division_D42',\n",
       " 'Division_D43',\n",
       " 'Division_D51',\n",
       " 'Division_D52',\n",
       " 'Division_D53',\n",
       " 'Division_D54',\n",
       " 'Division_D55']"
      ]
     },
     "execution_count": 53,
     "metadata": {},
     "output_type": "execute_result"
    }
   ],
   "source": [
    "robbery_model_names"
   ]
  },
  {
   "cell_type": "code",
   "execution_count": 54,
   "metadata": {},
   "outputs": [
    {
     "data": {
      "text/plain": [
       "['YEAR',\n",
       " 'HOUR',\n",
       " 'crossing',\n",
       " 'give_way',\n",
       " 'stop',\n",
       " 'traffic_signals',\n",
       " 'turning_loop',\n",
       " 'speed_camera',\n",
       " 'ROAD_CLASS_Collector',\n",
       " 'ROAD_CLASS_Expressway',\n",
       " 'ROAD_CLASS_Local',\n",
       " 'ROAD_CLASS_Major Arterial',\n",
       " 'ROAD_CLASS_Minor Arterial',\n",
       " 'LIGHT_Dark',\n",
       " 'LIGHT_Dark, artificial',\n",
       " 'LIGHT_Dawn',\n",
       " 'LIGHT_Dawn, artificial',\n",
       " 'LIGHT_Daylight',\n",
       " 'LIGHT_Daylight, artificial',\n",
       " 'LIGHT_Dusk',\n",
       " 'LIGHT_Dusk, artificial',\n",
       " 'LIGHT_Other']"
      ]
     },
     "execution_count": 54,
     "metadata": {},
     "output_type": "execute_result"
    }
   ],
   "source": [
    "pedestrian_features_names"
   ]
  },
  {
   "cell_type": "code",
   "execution_count": 70,
   "metadata": {},
   "outputs": [],
   "source": [
    "# Scale data for logistic regression\n",
    "scaler = StandardScaler()\n",
    "robbery_train_lr = pandas.DataFrame(scaler.fit_transform(robbery_train),\n",
    "                                   columns=robbery_model_names)\n",
    "\n",
    "robbery_test_lr = pandas.DataFrame(scaler.fit_transform(robbery_test),\n",
    "                                  columns=robbery_model_names)\n",
    "\n",
    "scaler = StandardScaler()\n",
    "pedestrian_train_lr = pandas.DataFrame(scaler.fit_transform(pedestrian_train),\n",
    "                                   columns=pedestrian_features_names)\n",
    "\n",
    "pedestrian_test_lr = pandas.DataFrame(scaler.fit_transform(pedestrian_test),\n",
    "                                  columns=pedestrian_features_names)"
   ]
  },
  {
   "cell_type": "code",
   "execution_count": 71,
   "metadata": {},
   "outputs": [],
   "source": [
    "# Time to build the base model\n",
    "robbery_model_LR = LogisticRegression()\n",
    "robbery_model_LR.fit(robbery_train_lr, robbery_presence_train)\n",
    "robbery_model_prediction_LR = robbery_model_LR.predict(robbery_test_lr)\n",
    "\n",
    "pedestrian_model_LR = LogisticRegression()\n",
    "pedestrian_model_LR.fit(pedestrian_train_lr, pedestrian_presence_train)\n",
    "pedestrian_model_prediction_LR = pedestrian_model_LR.predict(pedestrian_test_lr)"
   ]
  },
  {
   "cell_type": "code",
   "execution_count": 72,
   "metadata": {},
   "outputs": [
    {
     "name": "stdout",
     "output_type": "stream",
     "text": [
      "              precision    recall  f1-score   support\n",
      "\n",
      "           0       0.58      0.63      0.60      1512\n",
      "           1       0.61      0.56      0.58      1573\n",
      "\n",
      "    accuracy                           0.59      3085\n",
      "   macro avg       0.59      0.59      0.59      3085\n",
      "weighted avg       0.59      0.59      0.59      3085\n",
      "\n"
     ]
    }
   ],
   "source": [
    "# how did these models perform?\n",
    "print(classification_report(robbery_presence_test, robbery_model_prediction_LR))"
   ]
  },
  {
   "cell_type": "code",
   "execution_count": 73,
   "metadata": {},
   "outputs": [
    {
     "name": "stdout",
     "output_type": "stream",
     "text": [
      "              precision    recall  f1-score   support\n",
      "\n",
      "           0       0.94      0.92      0.93      1885\n",
      "           1       0.93      0.94      0.93      1945\n",
      "\n",
      "    accuracy                           0.93      3830\n",
      "   macro avg       0.93      0.93      0.93      3830\n",
      "weighted avg       0.93      0.93      0.93      3830\n",
      "\n"
     ]
    }
   ],
   "source": [
    "print(classification_report(pedestrian_presence_test, pedestrian_model_prediction_LR))"
   ]
  },
  {
   "cell_type": "markdown",
   "metadata": {},
   "source": [
    "## Random Forest"
   ]
  },
  {
   "cell_type": "code",
   "execution_count": 74,
   "metadata": {},
   "outputs": [
    {
     "name": "stdout",
     "output_type": "stream",
     "text": [
      "              precision    recall  f1-score   support\n",
      "\n",
      "           0       0.94      0.90      0.92      1512\n",
      "           1       0.91      0.94      0.92      1573\n",
      "\n",
      "    accuracy                           0.92      3085\n",
      "   macro avg       0.92      0.92      0.92      3085\n",
      "weighted avg       0.92      0.92      0.92      3085\n",
      "\n"
     ]
    }
   ],
   "source": [
    "# Time to build the base model\n",
    "robbery_model_RF = RandomForestClassifier()\n",
    "robbery_model_RF.fit(robbery_train, robbery_presence_train)\n",
    "robbery_model_prediction_RF = robbery_model_RF.predict(robbery_test)\n",
    "print(classification_report(robbery_presence_test,robbery_model_prediction_RF))"
   ]
  },
  {
   "cell_type": "code",
   "execution_count": 75,
   "metadata": {},
   "outputs": [
    {
     "name": "stdout",
     "output_type": "stream",
     "text": [
      "              precision    recall  f1-score   support\n",
      "\n",
      "           0       0.97      0.95      0.96      1885\n",
      "           1       0.96      0.97      0.96      1945\n",
      "\n",
      "    accuracy                           0.96      3830\n",
      "   macro avg       0.96      0.96      0.96      3830\n",
      "weighted avg       0.96      0.96      0.96      3830\n",
      "\n"
     ]
    }
   ],
   "source": [
    "# Time to build the base model\n",
    "pedestrian_model_RF = RandomForestClassifier()\n",
    "pedestrian_model_RF.fit(pedestrian_train, pedestrian_presence_train)\n",
    "pedestrian_model_prediction_RF = pedestrian_model_RF.predict(pedestrian_test)\n",
    "print(classification_report(pedestrian_presence_test,pedestrian_model_prediction_RF))"
   ]
  },
  {
   "cell_type": "markdown",
   "metadata": {},
   "source": [
    "# Model Tuning"
   ]
  },
  {
   "cell_type": "markdown",
   "metadata": {},
   "source": [
    "## Logistic Regression"
   ]
  },
  {
   "cell_type": "code",
   "execution_count": 76,
   "metadata": {},
   "outputs": [],
   "source": [
    "# Create first pipeline for base without reducing features.\n",
    "pipe_lr = Pipeline([('classifier' , LogisticRegression())])\n",
    "\n",
    "# Create param grid.\n",
    "\n",
    "param_grid_lr = [\n",
    "    {'classifier' : [LogisticRegression()],\n",
    "     'classifier__penalty' : ['l1', 'l2'],\n",
    "    'classifier__C' : numpy.logspace(-4, 4, 20),\n",
    "    'classifier__solver' : ['liblinear']}]"
   ]
  },
  {
   "cell_type": "code",
   "execution_count": 62,
   "metadata": {},
   "outputs": [
    {
     "name": "stdout",
     "output_type": "stream",
     "text": [
      "Fitting 5 folds for each of 40 candidates, totalling 200 fits\n"
     ]
    },
    {
     "name": "stderr",
     "output_type": "stream",
     "text": [
      "[Parallel(n_jobs=-1)]: Using backend LokyBackend with 8 concurrent workers.\n",
      "[Parallel(n_jobs=-1)]: Done  34 tasks      | elapsed:    3.2s\n",
      "[Parallel(n_jobs=-1)]: Done 185 out of 200 | elapsed:    4.7s remaining:    0.3s\n"
     ]
    },
    {
     "name": "stdout",
     "output_type": "stream",
     "text": [
      "Best: 0.614982 using {'classifier': LogisticRegression(C=0.004832930238571752, penalty='l1', solver='liblinear'), 'classifier__C': 0.004832930238571752, 'classifier__penalty': 'l1', 'classifier__solver': 'liblinear'}\n",
      "Execution time: 5.251265525817871 ms\n"
     ]
    },
    {
     "name": "stderr",
     "output_type": "stream",
     "text": [
      "[Parallel(n_jobs=-1)]: Done 200 out of 200 | elapsed:    5.0s finished\n"
     ]
    }
   ],
   "source": [
    "# Create grid search object\n",
    "grid_search_lr = GridSearchCV(pipe_lr, param_grid = param_grid_lr, cv = 5, verbose=True, n_jobs=-1)\n",
    "\n",
    "start_time = time.time()\n",
    "\n",
    "# Fit on data\n",
    "robbery_best_lr = grid_search_lr.fit(robbery_train_lr, robbery_presence_train)\n",
    "print(\"Best: %f using %s\" % (robbery_best_lr.best_score_, robbery_best_lr.best_params_))\n",
    "print(\"Execution time: \" + str((time.time() - start_time)) + ' ms')"
   ]
  },
  {
   "cell_type": "code",
   "execution_count": 76,
   "metadata": {},
   "outputs": [
    {
     "name": "stdout",
     "output_type": "stream",
     "text": [
      "Fitting 5 folds for each of 40 candidates, totalling 200 fits\n"
     ]
    },
    {
     "name": "stderr",
     "output_type": "stream",
     "text": [
      "[Parallel(n_jobs=-1)]: Using backend LokyBackend with 8 concurrent workers.\n",
      "[Parallel(n_jobs=-1)]: Done  56 tasks      | elapsed:    0.6s\n",
      "[Parallel(n_jobs=-1)]: Done 185 out of 200 | elapsed:    3.5s remaining:    0.2s\n"
     ]
    },
    {
     "name": "stdout",
     "output_type": "stream",
     "text": [
      "Best: 0.891426 using {'classifier': LogisticRegression(C=4.281332398719396, solver='liblinear'), 'classifier__C': 4.281332398719396, 'classifier__penalty': 'l2', 'classifier__solver': 'liblinear'}\n",
      "Execution time: 4.1199870109558105 ms\n"
     ]
    },
    {
     "name": "stderr",
     "output_type": "stream",
     "text": [
      "[Parallel(n_jobs=-1)]: Done 200 out of 200 | elapsed:    3.9s finished\n"
     ]
    }
   ],
   "source": [
    "start_time = time.time()\n",
    "pedestrian_best_lr = grid_search_lr.fit(pedestrian_train_lr, pedestrian_presence_train)\n",
    "print(\"Best: %f using %s\" % (pedestrian_best_lr.best_score_, pedestrian_best_lr.best_params_))\n",
    "print(\"Execution time: \" + str((time.time() - start_time)) + ' ms')"
   ]
  },
  {
   "cell_type": "code",
   "execution_count": 77,
   "metadata": {},
   "outputs": [
    {
     "name": "stdout",
     "output_type": "stream",
     "text": [
      "              precision    recall  f1-score   support\n",
      "\n",
      "           0       0.94      0.92      0.93      1885\n",
      "           1       0.93      0.94      0.93      1945\n",
      "\n",
      "    accuracy                           0.93      3830\n",
      "   macro avg       0.93      0.93      0.93      3830\n",
      "weighted avg       0.93      0.93      0.93      3830\n",
      "\n"
     ]
    }
   ],
   "source": [
    "# does this model perform better?\n",
    "pedestrian_model_best_LR = LogisticRegression(penalty='l2', C = 4.281332398719396, solver='liblinear', \n",
    "                                              max_iter=500)\n",
    "pedestrian_model_best_LR.fit(pedestrian_train_lr, pedestrian_presence_train)\n",
    "pedestrian_model_prediction_best_LR = pedestrian_model_best_LR.predict(pedestrian_test_lr)\n",
    "# how did these models perform?\n",
    "print(classification_report(pedestrian_presence_test, pedestrian_model_prediction_best_LR))"
   ]
  },
  {
   "cell_type": "code",
   "execution_count": 78,
   "metadata": {},
   "outputs": [
    {
     "name": "stdout",
     "output_type": "stream",
     "text": [
      "              precision    recall  f1-score   support\n",
      "\n",
      "           0       0.62      0.58      0.60      1512\n",
      "           1       0.62      0.65      0.63      1573\n",
      "\n",
      "    accuracy                           0.62      3085\n",
      "   macro avg       0.62      0.62      0.62      3085\n",
      "weighted avg       0.62      0.62      0.62      3085\n",
      "\n"
     ]
    }
   ],
   "source": [
    "# does this model perform better?\n",
    "robbery_model_best_LR = LogisticRegression(penalty='l1', C = 0.004832930238571752, solver='liblinear', \n",
    "                                              max_iter=500)\n",
    "robbery_model_best_LR.fit(robbery_train_lr, robbery_presence_train)\n",
    "robbery_model_prediction_best_LR = robbery_model_best_LR.predict(robbery_test_lr)\n",
    "# how did these models perform?\n",
    "print(classification_report(robbery_presence_test, robbery_model_prediction_best_LR))"
   ]
  },
  {
   "cell_type": "markdown",
   "metadata": {},
   "source": [
    "## Random Forest"
   ]
  },
  {
   "cell_type": "code",
   "execution_count": 14,
   "metadata": {},
   "outputs": [],
   "source": [
    "# Create first pipeline for base without reducing features.\n",
    "pipe_rf = Pipeline([('classifier' , RandomForestClassifier())])\n",
    "\n",
    "# Create param grid.\n",
    "\n",
    "param_grid_rf = [\n",
    "     {\n",
    "    'classifier__bootstrap': [True],\n",
    "    'classifier__max_depth': [80, 90, 100, 110],\n",
    "    'classifier__max_features': [2, 3],\n",
    "    'classifier__min_samples_leaf': [3, 4, 5],\n",
    "    'classifier__min_samples_split': [8, 10, 12],\n",
    "    'classifier__n_estimators': [100, 200, 300, 1000]\n",
    "}\n",
    "]\n",
    "\n",
    "random_grid_rf = {'classifier__n_estimators': [200, 400, 600, 800, 1000, 1200, 1400, 1600, 1800, 2000],\n",
    "               'classifier__max_features': ['auto', 'sqrt'],\n",
    "               'classifier__max_depth': [10, 20, 30, 40, 50, 60, 70, 80, 90, 100, None],\n",
    "               'classifier__min_samples_split': [1, 2, 4],\n",
    "               'classifier__min_samples_leaf': [2, 5, 10],\n",
    "               'classifier__bootstrap': [True]}\n",
    "\n",
    "grid_search_rf = GridSearchCV(pipe_rf, param_grid = param_grid_rf, cv = 3, n_jobs = -1, verbose = 2)\n",
    "\n",
    "random_grid_search_rf = RandomizedSearchCV(pipe_rf, param_distributions = random_grid_rf, n_iter = 100, cv = 3,\n",
    "                                           verbose=2, random_state=42, n_jobs = -1)"
   ]
  },
  {
   "cell_type": "code",
   "execution_count": 64,
   "metadata": {},
   "outputs": [
    {
     "name": "stdout",
     "output_type": "stream",
     "text": [
      "Fitting 3 folds for each of 288 candidates, totalling 864 fits\n"
     ]
    },
    {
     "name": "stderr",
     "output_type": "stream",
     "text": [
      "[Parallel(n_jobs=-1)]: Using backend LokyBackend with 8 concurrent workers.\n",
      "[Parallel(n_jobs=-1)]: Done  25 tasks      | elapsed:    9.5s\n",
      "[Parallel(n_jobs=-1)]: Done 146 tasks      | elapsed:  1.2min\n",
      "[Parallel(n_jobs=-1)]: Done 349 tasks      | elapsed:  2.7min\n",
      "[Parallel(n_jobs=-1)]: Done 632 tasks      | elapsed:  4.9min\n",
      "[Parallel(n_jobs=-1)]: Done 864 out of 864 | elapsed:  6.8min finished\n"
     ]
    },
    {
     "name": "stdout",
     "output_type": "stream",
     "text": [
      "Best: 0.897179 using {'classifier__bootstrap': True, 'classifier__max_depth': 80, 'classifier__max_features': 3, 'classifier__min_samples_leaf': 3, 'classifier__min_samples_split': 8, 'classifier__n_estimators': 1000}\n",
      "Execution time: 414.94893050193787 ms\n"
     ]
    }
   ],
   "source": [
    "# Fit on data\n",
    "start_time = time.time()\n",
    "robbery_best_rf = grid_search_rf.fit(robbery_train, robbery_presence_train)\n",
    "print(\"Best: %f using %s\" % (robbery_best_rf.best_score_, robbery_best_rf.best_params_))\n",
    "print(\"Execution time: \" + str((time.time() - start_time)) + ' ms')\n",
    "#robbery_best_rf_random = random_grid_search_rf.fit(robbery_train, robbery_presence_train)\n",
    "#print(\"Best: %f using %s\" % (robbery_best_rf_random.best_score_, robbery_best_rf_random.best_params_))\n",
    "#print(\"Execution time: \" + str((time.time() - start_time)) + ' ms')"
   ]
  },
  {
   "cell_type": "code",
   "execution_count": 16,
   "metadata": {},
   "outputs": [
    {
     "name": "stdout",
     "output_type": "stream",
     "text": [
      "Fitting 3 folds for each of 288 candidates, totalling 864 fits\n"
     ]
    },
    {
     "name": "stderr",
     "output_type": "stream",
     "text": [
      "[Parallel(n_jobs=-1)]: Using backend LokyBackend with 8 concurrent workers.\n",
      "[Parallel(n_jobs=-1)]: Done  25 tasks      | elapsed:   11.7s\n",
      "[Parallel(n_jobs=-1)]: Done 146 tasks      | elapsed:  1.6min\n",
      "[Parallel(n_jobs=-1)]: Done 349 tasks      | elapsed:  4.1min\n",
      "[Parallel(n_jobs=-1)]: Done 632 tasks      | elapsed:  7.2min\n",
      "[Parallel(n_jobs=-1)]: Done 864 out of 864 | elapsed:  9.8min finished\n"
     ]
    },
    {
     "name": "stdout",
     "output_type": "stream",
     "text": [
      "Best: 0.931386 using {'classifier__bootstrap': True, 'classifier__max_depth': 110, 'classifier__max_features': 3, 'classifier__min_samples_leaf': 3, 'classifier__min_samples_split': 8, 'classifier__n_estimators': 100}\n",
      "Execution time: 591.2980108261108 ms\n"
     ]
    }
   ],
   "source": [
    "start_time = time.time()\n",
    "pedestrian_best_rf = grid_search_rf.fit(pedestrian_train, pedestrian_presence_train)\n",
    "print(\"Best: %f using %s\" % (pedestrian_best_rf.best_score_, pedestrian_best_rf.best_params_))\n",
    "print(\"Execution time: \" + str((time.time() - start_time)) + ' ms')\n",
    "\n",
    "#start_time = time.time()\n",
    "#pedestrian_best_rf_random = random_grid_search_rf.fit(pedestrian_train, pedestrian_presence_train)\n",
    "#print(\"Best: %f using %s\" % (pedestrian_best_rf_random.best_score_, pedestrian_best_rf_random.best_params_))\n",
    "#print(\"Execution time: \" + str((time.time() - start_time)) + ' ms')"
   ]
  },
  {
   "cell_type": "code",
   "execution_count": 79,
   "metadata": {},
   "outputs": [
    {
     "name": "stdout",
     "output_type": "stream",
     "text": [
      "              precision    recall  f1-score   support\n",
      "\n",
      "           0       0.95      0.95      0.95      1885\n",
      "           1       0.95      0.96      0.95      1945\n",
      "\n",
      "    accuracy                           0.95      3830\n",
      "   macro avg       0.95      0.95      0.95      3830\n",
      "weighted avg       0.95      0.95      0.95      3830\n",
      "\n"
     ]
    }
   ],
   "source": [
    "# does this model perform better?\n",
    "pedestrian_model_best_RF = RandomForestClassifier(bootstrap= True, max_depth = 110, \n",
    "                                                  max_features= 3, min_samples_leaf = 8,\n",
    "                                                  min_samples_split = 8, n_estimators = 100)\n",
    "pedestrian_model_best_RF.fit(pedestrian_train, pedestrian_presence_train)\n",
    "pedestrian_model_prediction_best_RF = pedestrian_model_best_RF.predict(pedestrian_test)\n",
    "# how did these models perform?\n",
    "print(classification_report(pedestrian_presence_test, pedestrian_model_prediction_best_RF))"
   ]
  },
  {
   "cell_type": "code",
   "execution_count": 80,
   "metadata": {},
   "outputs": [
    {
     "name": "stdout",
     "output_type": "stream",
     "text": [
      "              precision    recall  f1-score   support\n",
      "\n",
      "           0       0.93      0.90      0.91      1512\n",
      "           1       0.91      0.93      0.92      1573\n",
      "\n",
      "    accuracy                           0.92      3085\n",
      "   macro avg       0.92      0.92      0.92      3085\n",
      "weighted avg       0.92      0.92      0.92      3085\n",
      "\n"
     ]
    }
   ],
   "source": [
    "# does this model perform better?\n",
    "robbery_model_best_RF = RandomForestClassifier(bootstrap= True, max_depth = 80, \n",
    "                                                  max_features= 3, min_samples_leaf = 3,\n",
    "                                                  min_samples_split = 8, n_estimators = 1000)\n",
    "robbery_model_best_RF.fit(robbery_train, robbery_presence_train)\n",
    "robbery_model_prediction_best_RF = robbery_model_best_RF.predict(robbery_test)\n",
    "# how did these models perform?\n",
    "print(classification_report(robbery_presence_test, robbery_model_prediction_best_RF))"
   ]
  },
  {
   "cell_type": "markdown",
   "metadata": {},
   "source": [
    "# Predicting Risks - Random Forest"
   ]
  },
  {
   "cell_type": "code",
   "execution_count": 82,
   "metadata": {},
   "outputs": [],
   "source": [
    "# I am going to run this on the full dataset\n",
    "# and select the features in this final model\n",
    "pedestrian_features_final = pandas.DataFrame(pedestrian_features,\n",
    "                                          columns=pedestrian_features_names)\n",
    "robbery_features_final = pandas.DataFrame(robbery_features,\n",
    "                                          columns=robbery_model_names)"
   ]
  },
  {
   "cell_type": "code",
   "execution_count": 83,
   "metadata": {},
   "outputs": [],
   "source": [
    "# will add these data to the main dataframe\n",
    "pedestrian_model_data_dummies_bal['Collison'] = pandas.DataFrame((pedestrian_model_best_RF.predict_proba(pedestrian_features_final)))[1]\n",
    "\n",
    "robbery_model_data_dummies_bal['Mugging'] = pandas.DataFrame((robbery_model_best_RF.predict_proba(robbery_features_final)))[1]\n"
   ]
  },
  {
   "cell_type": "code",
   "execution_count": 84,
   "metadata": {},
   "outputs": [
    {
     "data": {
      "text/plain": [
       "['YEAR',\n",
       " 'HOUR',\n",
       " 'Latitude',\n",
       " 'Longitude',\n",
       " 'crossing',\n",
       " 'give_way',\n",
       " 'stop',\n",
       " 'traffic_signals',\n",
       " 'turning_loop',\n",
       " 'speed_camera',\n",
       " 'Presence_Absence',\n",
       " 'ROAD_CLASS_Collector',\n",
       " 'ROAD_CLASS_Expressway',\n",
       " 'ROAD_CLASS_Local',\n",
       " 'ROAD_CLASS_Major Arterial',\n",
       " 'ROAD_CLASS_Minor Arterial',\n",
       " 'LIGHT_Dark',\n",
       " 'LIGHT_Dark, artificial',\n",
       " 'LIGHT_Dawn',\n",
       " 'LIGHT_Dawn, artificial',\n",
       " 'LIGHT_Daylight',\n",
       " 'LIGHT_Daylight, artificial',\n",
       " 'LIGHT_Dusk',\n",
       " 'LIGHT_Dusk, artificial',\n",
       " 'LIGHT_Other',\n",
       " 'Collison']"
      ]
     },
     "execution_count": 84,
     "metadata": {},
     "output_type": "execute_result"
    }
   ],
   "source": [
    "list(pedestrian_model_data_dummies_bal)"
   ]
  },
  {
   "cell_type": "code",
   "execution_count": 85,
   "metadata": {},
   "outputs": [
    {
     "data": {
      "text/plain": [
       "['dyear',\n",
       " 'dday',\n",
       " 'ddayofyear',\n",
       " 'dhour',\n",
       " 'Hood_ID',\n",
       " 'Longitude',\n",
       " 'Latitude',\n",
       " 'Presence_Absence',\n",
       " 'Division_D11',\n",
       " 'Division_D12',\n",
       " 'Division_D13',\n",
       " 'Division_D14',\n",
       " 'Division_D22',\n",
       " 'Division_D23',\n",
       " 'Division_D31',\n",
       " 'Division_D32',\n",
       " 'Division_D33',\n",
       " 'Division_D41',\n",
       " 'Division_D42',\n",
       " 'Division_D43',\n",
       " 'Division_D51',\n",
       " 'Division_D52',\n",
       " 'Division_D53',\n",
       " 'Division_D54',\n",
       " 'Division_D55',\n",
       " 'Mugging']"
      ]
     },
     "execution_count": 85,
     "metadata": {},
     "output_type": "execute_result"
    }
   ],
   "source": [
    "list(robbery_model_data_dummies_bal)"
   ]
  },
  {
   "cell_type": "code",
   "execution_count": 87,
   "metadata": {},
   "outputs": [
    {
     "data": {
      "text/plain": [
       "['Longitude', 'Latitude', 'Mugging']"
      ]
     },
     "execution_count": 87,
     "metadata": {},
     "output_type": "execute_result"
    }
   ],
   "source": [
    "list(robbery_model_data_dummies_bal.iloc[:, numpy.r_[5,6,25]])"
   ]
  },
  {
   "cell_type": "code",
   "execution_count": 90,
   "metadata": {},
   "outputs": [
    {
     "data": {
      "text/plain": [
       "['Latitude', 'Longitude', 'Collison']"
      ]
     },
     "execution_count": 90,
     "metadata": {},
     "output_type": "execute_result"
    }
   ],
   "source": [
    "list(pedestrian_model_data_dummies_bal.iloc[:, numpy.r_[2:4,25]])"
   ]
  },
  {
   "cell_type": "code",
   "execution_count": 101,
   "metadata": {},
   "outputs": [],
   "source": [
    "robbery_model_nodes = robbery_model_data_dummies_bal.iloc[:, numpy.r_[5,6,25]]\n",
    "pedestrian_model_nodes = pedestrian_model_data_dummies_bal.iloc[:, numpy.r_[2:4,25]]"
   ]
  },
  {
   "cell_type": "code",
   "execution_count": 102,
   "metadata": {},
   "outputs": [],
   "source": [
    "def create_gdf(df, Longitude, Latitude, projection):\n",
    "    return geopandas.GeoDataFrame(df, geometry=geopandas.points_from_xy(df[Longitude], df[Latitude]),\n",
    "                                  crs=projection)\n",
    "\n",
    "# need as a geopanda dataframe to append to nodes\n",
    "pedestrian_model_nodes_4326 = create_gdf(pedestrian_model_nodes,                                      \n",
    "                                      Longitude='Longitude',\n",
    "                                      Latitude='Latitude',\n",
    "                                      projection=\"EPSG:4326\")\n",
    "\n"
   ]
  },
  {
   "cell_type": "code",
   "execution_count": 98,
   "metadata": {},
   "outputs": [],
   "source": [
    "robbery_model_nodes_4326 = create_gdf(robbery_model_nodes,\n",
    "                                      Longitude='Longitude',\n",
    "                                      Latitude='Latitude',\n",
    "                                      projection=\"EPSG:4326\")"
   ]
  },
  {
   "cell_type": "markdown",
   "metadata": {},
   "source": [
    "# Preparing Terrain Data - Government of Canada\n",
    "Need to pull in the terrain data so that I can add them to the road network nodes and then to the edges as weights"
   ]
  },
  {
   "cell_type": "code",
   "execution_count": null,
   "metadata": {},
   "outputs": [],
   "source": [
    "import gdal # dealing with raster data\n",
    "\n",
    "filepath_TSC = r\"C:/Users/jodyn/Google Drive/Insight/Terrain/TSC_2958.tif\"\n",
    "filepath_Hillshade = r\"C:/Users/jodyn/Google Drive/Insight/Terrain/Hillshade_2958.tif\"\n",
    "raster_TSC = gdal.Open(filepath_TSC)\n",
    "raster_Hillshade = gdal.Open(filepath_Hillshade)"
   ]
  },
  {
   "cell_type": "markdown",
   "metadata": {},
   "source": [
    "# Preparing Path Data - OSMNX"
   ]
  },
  {
   "cell_type": "code",
   "execution_count": null,
   "metadata": {},
   "outputs": [],
   "source": [
    "place_name = 'City of Toronto'\n",
    "walk_path_GTA = osmnx.graph_from_place(place_name, network_type='walk')\n",
    "\n",
    "# what does this look like?\n",
    "osmnx.folium.plot_graph_folium(walk_path_GTA)"
   ]
  },
  {
   "cell_type": "code",
   "execution_count": null,
   "metadata": {},
   "outputs": [],
   "source": [
    "# need to reproject to UTM for later analysis\n",
    "walk_path_GTA_proj = osmnx.project_graph(walk_path_GTA)\n",
    "\n",
    "# need edges and nodes to append data to\n",
    "walk_nodes_proj, walk_edges_proj = osmnx.graph_to_gdfs(walk_path_GTA, nodes=True, edges=True)\n",
    "\n",
    "# making sure its in NAD 1983 and save\n",
    "walk_nodes_proj = walk_nodes_proj.to_crs(epsg = 2958)\n",
    "\n",
    "walk_nodes_proj['Index'] = walk_nodes_proj.index\n",
    "\n",
    "# converting the node data to a geopanda dataframe so that I can extract elevation data\n",
    "walk_node_id = pandas.DataFrame(walk_nodes_proj)\n",
    "walk_nodes_gdf = create_gdf(df=walk_node_id,\n",
    "                            Latitude=\"y\",\n",
    "                            Longitude=\"x\",\n",
    "                            projection=\"EPSG:4326\")\n",
    "walk_nodes_gdf = walk_nodes_gdf.to_crs(epsg=2958) "
   ]
  },
  {
   "cell_type": "markdown",
   "metadata": {},
   "source": [
    "# Extracting Data - Nodes"
   ]
  },
  {
   "cell_type": "markdown",
   "metadata": {},
   "source": [
    "I will use IDW to interpolate the probabilty values at each node. I will then extract each of the terrain values at each node by simply using a raster extract."
   ]
  },
  {
   "cell_type": "code",
   "execution_count": null,
   "metadata": {},
   "outputs": [],
   "source": [
    "# first I need to set up the IDW\n",
    "idw_mugging = ShepardIDWInterpolator(rowcol_list,value)\n",
    "idw_collision = ShepardIDWInterpolator(rowcol_list,value)\n",
    "\n",
    "interpolated_mugging = f(pixel_coords,n_neighbors=19,power=1.0,reg=5.,eps=0.1)\n",
    "interpolated_collision = f(pixel_coords,n_neighbors=19,power=1.0,reg=5.,eps=0.1)"
   ]
  },
  {
   "cell_type": "code",
   "execution_count": null,
   "metadata": {},
   "outputs": [],
   "source": [
    "walk_nodes_gdf['TSC'] = rasterstats.point_query(walk_nodes_gdf, filepath_TSC,\n",
    "                                                interpolate='nearest')\n",
    "walk_nodes_gdf['Hillshade'] = rasterstats.point_query(walk_nodes_gdf, filepath_Hillshade,\n",
    "                                                      interpolate='nearest')"
   ]
  },
  {
   "cell_type": "markdown",
   "metadata": {},
   "source": [
    "# Exporting Node & Edge Data for Shortest Path in Application"
   ]
  },
  {
   "cell_type": "code",
   "execution_count": null,
   "metadata": {},
   "outputs": [],
   "source": [
    "# need path in wgs\n",
    "walk_nodes_gdf = walk_nodes_gdf.to_crs(epsg = 4326)\n",
    "# saving as something else so that I can add to my main dataframe\n",
    "walk_nodes_gdf_NB = nearest_neighbor_2(walk_nodes_gdf, robbery_model_nodes_4326,\n",
    "                                             return_dist=True)\n",
    "walk_nodes_gdf_NB_pd = nearest_neighbor_2(walk_nodes_gdf, pedestrian_model_nodes_4326,\n",
    "                                             return_dist=True)\n",
    "# adding index for future join to full node dataset\n",
    "walk_nodes_gdf_NB.set_index(walk_nodes_gdf.index,inplace = True)\n",
    "walk_nodes_gdf_NB_pd.set_index(walk_nodes_gdf.index,inplace = True)\n",
    "# also adding model outputs at each nodes for edge weights later\n",
    "walk_nodes_gdf_NB['TSC'] = list(walk_nodes_gdf['TSC'])\n",
    "walk_nodes_gdf_NB['Hillshade'] = list(walk_nodes_gdf['Hillshade'])\n",
    "walk_nodes_gdf_NB['Collison'] = list(walk_nodes_gdf_NB_pd['Collison'])\n",
    "walk_nodes_gdf_NB['Mugging'] = list(walk_nodes_gdf_NB_pd['Mugging'])"
   ]
  },
  {
   "cell_type": "code",
   "execution_count": null,
   "metadata": {},
   "outputs": [],
   "source": [
    "import pickle\n",
    "walk_nodes_gdf_NB.to_pickle(\"data/cleaned/walknodes.pkl\")\n",
    "walk_edges_proj.to_pickle(\"data/cleaned/edges.pkl\")\n",
    "walk_nodes_proj.to_pickle(\"data/cleaned/nodes.pkl\")\n",
    "with open(\"data/cleaned/path.p\", 'wb') as f:\n",
    "    pickle.dump(walk_path_GTA_proj,f)\n"
   ]
  }
 ],
 "metadata": {
  "kernelspec": {
   "display_name": "Python 3",
   "language": "python",
   "name": "python3"
  },
  "language_info": {
   "codemirror_mode": {
    "name": "ipython",
    "version": 3
   },
   "file_extension": ".py",
   "mimetype": "text/x-python",
   "name": "python",
   "nbconvert_exporter": "python",
   "pygments_lexer": "ipython3",
   "version": "3.7.6"
  }
 },
 "nbformat": 4,
 "nbformat_minor": 4
}
