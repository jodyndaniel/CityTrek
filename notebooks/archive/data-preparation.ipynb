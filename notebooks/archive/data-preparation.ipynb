{
 "cells": [
  {
   "cell_type": "markdown",
   "metadata": {},
   "source": [
    "# Scraping Safety Data - City of Toronto Police\n",
    "\n",
    "Because this is GEOJSON data, I could not use Beautifulsoup4. So, the processes below is really to import and convert to a pandas dataframe. Then, I can explore these data."
   ]
  },
  {
   "cell_type": "code",
   "execution_count": 5,
   "metadata": {},
   "outputs": [],
   "source": [
    "import osmnx  # to import and manage road netwrok data\n",
    "import geopandas  # needed get background data\n",
    "import requests  # for making standard html requests\n",
    "import pandas  # premier library for data organization\n",
    "import numpy  # for data manipulation\n",
    "import rasterstats # to interpolate raster data\n",
    "from random import shuffle # for managing psedoabsences\n",
    "\n",
    "URL_Robbery = 'https://opendata.arcgis.com/datasets/9115accc55f24938b4eb573dd222c33b_0.geojson'\n",
    "URL_Pedestrian = 'https://opendata.arcgis.com/datasets/1e8a71c533fb4b0aa522cf1b1236bee7_0.geojson'\n",
    "page_robbery = requests.get(URL_Robbery).json()\n",
    "page_pedestrian = requests.get(URL_Pedestrian).json()\n",
    "\n",
    "pedestrian_json_df = pandas.json_normalize(page_pedestrian['features'])\n",
    "robbery_json_df = pandas.json_normalize(page_robbery['features'])  "
   ]
  },
  {
   "cell_type": "markdown",
   "metadata": {},
   "source": [
    "Interested in the number of features and which columns I should keep."
   ]
  },
  {
   "cell_type": "code",
   "execution_count": 6,
   "metadata": {},
   "outputs": [
    {
     "data": {
      "text/plain": [
       "['type',\n",
       " 'properties.Index_',\n",
       " 'properties.ACCNUM',\n",
       " 'properties.YEAR',\n",
       " 'properties.DATE',\n",
       " 'properties.TIME',\n",
       " 'properties.HOUR',\n",
       " 'properties.STREET1',\n",
       " 'properties.STREET2',\n",
       " 'properties.OFFSET',\n",
       " 'properties.ROAD_CLASS',\n",
       " 'properties.District',\n",
       " 'properties.WardNum',\n",
       " 'properties.Division',\n",
       " 'properties.LATITUDE',\n",
       " 'properties.LONGITUDE',\n",
       " 'properties.LOCCOORD',\n",
       " 'properties.ACCLOC',\n",
       " 'properties.TRAFFCTL',\n",
       " 'properties.VISIBILITY',\n",
       " 'properties.LIGHT',\n",
       " 'properties.RDSFCOND',\n",
       " 'properties.ACCLASS',\n",
       " 'properties.IMPACTYPE',\n",
       " 'properties.INVTYPE',\n",
       " 'properties.INVAGE',\n",
       " 'properties.INJURY',\n",
       " 'properties.FATAL_NO',\n",
       " 'properties.INITDIR',\n",
       " 'properties.VEHTYPE',\n",
       " 'properties.MANOEUVER',\n",
       " 'properties.DRIVACT',\n",
       " 'properties.DRIVCOND',\n",
       " 'properties.PEDTYPE',\n",
       " 'properties.PEDACT',\n",
       " 'properties.PEDCOND',\n",
       " 'properties.CYCLISTYPE',\n",
       " 'properties.CYCACT',\n",
       " 'properties.CYCCOND',\n",
       " 'properties.PEDESTRIAN',\n",
       " 'properties.CYCLIST',\n",
       " 'properties.AUTOMOBILE',\n",
       " 'properties.MOTORCYCLE',\n",
       " 'properties.TRUCK',\n",
       " 'properties.TRSN_CITY_VEH',\n",
       " 'properties.EMERG_VEH',\n",
       " 'properties.PASSENGER',\n",
       " 'properties.SPEEDING',\n",
       " 'properties.AG_DRIV',\n",
       " 'properties.REDLIGHT',\n",
       " 'properties.ALCOHOL',\n",
       " 'properties.DISABILITY',\n",
       " 'properties.Hood_ID',\n",
       " 'properties.Neighbourhood',\n",
       " 'properties.ObjectId',\n",
       " 'geometry.type',\n",
       " 'geometry.coordinates']"
      ]
     },
     "execution_count": 6,
     "metadata": {},
     "output_type": "execute_result"
    }
   ],
   "source": [
    "list(pedestrian_json_df)"
   ]
  },
  {
   "cell_type": "code",
   "execution_count": 7,
   "metadata": {},
   "outputs": [
    {
     "data": {
      "text/plain": [
       "6484"
      ]
     },
     "execution_count": 7,
     "metadata": {},
     "output_type": "execute_result"
    }
   ],
   "source": [
    "len(pedestrian_json_df)"
   ]
  },
  {
   "cell_type": "code",
   "execution_count": 8,
   "metadata": {},
   "outputs": [
    {
     "data": {
      "text/plain": [
       "['type',\n",
       " 'properties.Index_',\n",
       " 'properties.event_unique_id',\n",
       " 'properties.occurrencedate',\n",
       " 'properties.reporteddate',\n",
       " 'properties.premisetype',\n",
       " 'properties.ucr_code',\n",
       " 'properties.ucr_ext',\n",
       " 'properties.offence',\n",
       " 'properties.reportedyear',\n",
       " 'properties.reportedmonth',\n",
       " 'properties.reportedday',\n",
       " 'properties.reporteddayofyear',\n",
       " 'properties.reporteddayofweek',\n",
       " 'properties.reportedhour',\n",
       " 'properties.occurrenceyear',\n",
       " 'properties.occurrencemonth',\n",
       " 'properties.occurrenceday',\n",
       " 'properties.occurrencedayofyear',\n",
       " 'properties.occurrencedayofweek',\n",
       " 'properties.occurrencehour',\n",
       " 'properties.MCI',\n",
       " 'properties.Division',\n",
       " 'properties.Hood_ID',\n",
       " 'properties.Neighbourhood',\n",
       " 'properties.Long',\n",
       " 'properties.Lat',\n",
       " 'properties.ObjectId',\n",
       " 'geometry.type',\n",
       " 'geometry.coordinates']"
      ]
     },
     "execution_count": 8,
     "metadata": {},
     "output_type": "execute_result"
    }
   ],
   "source": [
    "list(robbery_json_df)"
   ]
  },
  {
   "cell_type": "code",
   "execution_count": 9,
   "metadata": {},
   "outputs": [
    {
     "data": {
      "text/plain": [
       "21543"
      ]
     },
     "execution_count": 9,
     "metadata": {},
     "output_type": "execute_result"
    }
   ],
   "source": [
    "len(robbery_json_df)"
   ]
  },
  {
   "cell_type": "markdown",
   "metadata": {},
   "source": [
    "Strange, but each column has a properties. prefix. Looks weird, so I am going to remove it"
   ]
  },
  {
   "cell_type": "code",
   "execution_count": 10,
   "metadata": {},
   "outputs": [],
   "source": [
    "pedestrian_json_df.columns = pedestrian_json_df.columns.str.lstrip('properties.')\n",
    "robbery_json_df.columns = robbery_json_df.columns.str.lstrip('properties.')"
   ]
  },
  {
   "cell_type": "markdown",
   "metadata": {},
   "source": [
    "Focusing on features that I believe are predictive."
   ]
  },
  {
   "cell_type": "code",
   "execution_count": 19,
   "metadata": {},
   "outputs": [
    {
     "data": {
      "text/html": [
       "<div>\n",
       "<style scoped>\n",
       "    .dataframe tbody tr th:only-of-type {\n",
       "        vertical-align: middle;\n",
       "    }\n",
       "\n",
       "    .dataframe tbody tr th {\n",
       "        vertical-align: top;\n",
       "    }\n",
       "\n",
       "    .dataframe thead th {\n",
       "        text-align: right;\n",
       "    }\n",
       "</style>\n",
       "<table border=\"1\" class=\"dataframe\">\n",
       "  <thead>\n",
       "    <tr style=\"text-align: right;\">\n",
       "      <th></th>\n",
       "      <th>YEAR</th>\n",
       "      <th>TIME</th>\n",
       "      <th>HOUR</th>\n",
       "      <th>ROAD_CLASS</th>\n",
       "      <th>LATITUDE</th>\n",
       "      <th>LONGITUDE</th>\n",
       "      <th>VISIBILITY</th>\n",
       "      <th>LIGHT</th>\n",
       "      <th>Hood_ID</th>\n",
       "    </tr>\n",
       "  </thead>\n",
       "  <tbody>\n",
       "    <tr>\n",
       "      <th>0</th>\n",
       "      <td>2006</td>\n",
       "      <td>705</td>\n",
       "      <td>7</td>\n",
       "      <td>Major Arterial</td>\n",
       "      <td>43.652892</td>\n",
       "      <td>-79.406253</td>\n",
       "      <td>Other</td>\n",
       "      <td>Dark, artificial</td>\n",
       "      <td>78</td>\n",
       "    </tr>\n",
       "    <tr>\n",
       "      <th>1</th>\n",
       "      <td>2006</td>\n",
       "      <td>705</td>\n",
       "      <td>7</td>\n",
       "      <td>Major Arterial</td>\n",
       "      <td>43.652892</td>\n",
       "      <td>-79.406253</td>\n",
       "      <td>Other</td>\n",
       "      <td>Dark, artificial</td>\n",
       "      <td>78</td>\n",
       "    </tr>\n",
       "    <tr>\n",
       "      <th>2</th>\n",
       "      <td>2006</td>\n",
       "      <td>1940</td>\n",
       "      <td>19</td>\n",
       "      <td>Major Arterial</td>\n",
       "      <td>43.655145</td>\n",
       "      <td>-79.433590</td>\n",
       "      <td>Rain</td>\n",
       "      <td>Dark</td>\n",
       "      <td>83</td>\n",
       "    </tr>\n",
       "    <tr>\n",
       "      <th>3</th>\n",
       "      <td>2006</td>\n",
       "      <td>1940</td>\n",
       "      <td>19</td>\n",
       "      <td>Major Arterial</td>\n",
       "      <td>43.655145</td>\n",
       "      <td>-79.433590</td>\n",
       "      <td>Rain</td>\n",
       "      <td>Dark</td>\n",
       "      <td>83</td>\n",
       "    </tr>\n",
       "    <tr>\n",
       "      <th>4</th>\n",
       "      <td>2006</td>\n",
       "      <td>2210</td>\n",
       "      <td>22</td>\n",
       "      <td>Major Arterial</td>\n",
       "      <td>43.777056</td>\n",
       "      <td>-79.347858</td>\n",
       "      <td>Clear</td>\n",
       "      <td>Dark, artificial</td>\n",
       "      <td>47</td>\n",
       "    </tr>\n",
       "    <tr>\n",
       "      <th>...</th>\n",
       "      <td>...</td>\n",
       "      <td>...</td>\n",
       "      <td>...</td>\n",
       "      <td>...</td>\n",
       "      <td>...</td>\n",
       "      <td>...</td>\n",
       "      <td>...</td>\n",
       "      <td>...</td>\n",
       "      <td>...</td>\n",
       "    </tr>\n",
       "    <tr>\n",
       "      <th>6479</th>\n",
       "      <td>2019</td>\n",
       "      <td>2002</td>\n",
       "      <td>20</td>\n",
       "      <td>Major Arterial</td>\n",
       "      <td>43.765876</td>\n",
       "      <td>-79.270527</td>\n",
       "      <td>Clear</td>\n",
       "      <td>Daylight</td>\n",
       "      <td>127</td>\n",
       "    </tr>\n",
       "    <tr>\n",
       "      <th>6480</th>\n",
       "      <td>2019</td>\n",
       "      <td>2002</td>\n",
       "      <td>20</td>\n",
       "      <td>Major Arterial</td>\n",
       "      <td>43.765876</td>\n",
       "      <td>-79.270527</td>\n",
       "      <td>Clear</td>\n",
       "      <td>Daylight</td>\n",
       "      <td>127</td>\n",
       "    </tr>\n",
       "    <tr>\n",
       "      <th>6481</th>\n",
       "      <td>2019</td>\n",
       "      <td>902</td>\n",
       "      <td>9</td>\n",
       "      <td>Major Arterial</td>\n",
       "      <td>43.652610</td>\n",
       "      <td>-79.378055</td>\n",
       "      <td>Clear</td>\n",
       "      <td>Daylight</td>\n",
       "      <td>75</td>\n",
       "    </tr>\n",
       "    <tr>\n",
       "      <th>6482</th>\n",
       "      <td>2019</td>\n",
       "      <td>902</td>\n",
       "      <td>9</td>\n",
       "      <td>Major Arterial</td>\n",
       "      <td>43.652610</td>\n",
       "      <td>-79.378055</td>\n",
       "      <td>Clear</td>\n",
       "      <td>Daylight</td>\n",
       "      <td>75</td>\n",
       "    </tr>\n",
       "    <tr>\n",
       "      <th>6483</th>\n",
       "      <td>2019</td>\n",
       "      <td>1850</td>\n",
       "      <td>18</td>\n",
       "      <td>Major Arterial</td>\n",
       "      <td>43.600013</td>\n",
       "      <td>-79.508610</td>\n",
       "      <td>Clear</td>\n",
       "      <td>Daylight</td>\n",
       "      <td>18</td>\n",
       "    </tr>\n",
       "  </tbody>\n",
       "</table>\n",
       "<p>6484 rows × 9 columns</p>\n",
       "</div>"
      ],
      "text/plain": [
       "      YEAR  TIME  HOUR      ROAD_CLASS   LATITUDE  LONGITUDE VISIBILITY  \\\n",
       "0     2006   705     7  Major Arterial  43.652892 -79.406253      Other   \n",
       "1     2006   705     7  Major Arterial  43.652892 -79.406253      Other   \n",
       "2     2006  1940    19  Major Arterial  43.655145 -79.433590       Rain   \n",
       "3     2006  1940    19  Major Arterial  43.655145 -79.433590       Rain   \n",
       "4     2006  2210    22  Major Arterial  43.777056 -79.347858      Clear   \n",
       "...    ...   ...   ...             ...        ...        ...        ...   \n",
       "6479  2019  2002    20  Major Arterial  43.765876 -79.270527      Clear   \n",
       "6480  2019  2002    20  Major Arterial  43.765876 -79.270527      Clear   \n",
       "6481  2019   902     9  Major Arterial  43.652610 -79.378055      Clear   \n",
       "6482  2019   902     9  Major Arterial  43.652610 -79.378055      Clear   \n",
       "6483  2019  1850    18  Major Arterial  43.600013 -79.508610      Clear   \n",
       "\n",
       "                 LIGHT  Hood_ID  \n",
       "0     Dark, artificial       78  \n",
       "1     Dark, artificial       78  \n",
       "2                 Dark       83  \n",
       "3                 Dark       83  \n",
       "4     Dark, artificial       47  \n",
       "...                ...      ...  \n",
       "6479          Daylight      127  \n",
       "6480          Daylight      127  \n",
       "6481          Daylight       75  \n",
       "6482          Daylight       75  \n",
       "6483          Daylight       18  \n",
       "\n",
       "[6484 rows x 9 columns]"
      ]
     },
     "execution_count": 19,
     "metadata": {},
     "output_type": "execute_result"
    }
   ],
   "source": [
    "pedestrian_df = pedestrian_json_df.iloc[:, numpy.r_[3,5,6, 10, 14,15, 19, 20,52]]\n",
    "pedestrian_df"
   ]
  },
  {
   "cell_type": "code",
   "execution_count": 20,
   "metadata": {},
   "outputs": [
    {
     "data": {
      "text/html": [
       "<div>\n",
       "<style scoped>\n",
       "    .dataframe tbody tr th:only-of-type {\n",
       "        vertical-align: middle;\n",
       "    }\n",
       "\n",
       "    .dataframe tbody tr th {\n",
       "        vertical-align: top;\n",
       "    }\n",
       "\n",
       "    .dataframe thead th {\n",
       "        text-align: right;\n",
       "    }\n",
       "</style>\n",
       "<table border=\"1\" class=\"dataframe\">\n",
       "  <thead>\n",
       "    <tr style=\"text-align: right;\">\n",
       "      <th></th>\n",
       "      <th>Index_</th>\n",
       "      <th>vent_unique_id</th>\n",
       "      <th>dyear</th>\n",
       "      <th>dmonth</th>\n",
       "      <th>dday</th>\n",
       "      <th>ddayofyear</th>\n",
       "      <th>ddayofweek</th>\n",
       "      <th>dhour</th>\n",
       "      <th>misetype</th>\n",
       "      <th>ffence</th>\n",
       "      <th>Division</th>\n",
       "      <th>Hood_ID</th>\n",
       "      <th>Long</th>\n",
       "      <th>Lat</th>\n",
       "    </tr>\n",
       "  </thead>\n",
       "  <tbody>\n",
       "    <tr>\n",
       "      <th>0</th>\n",
       "      <td>1</td>\n",
       "      <td>GO-20141289469</td>\n",
       "      <td>2014</td>\n",
       "      <td>January</td>\n",
       "      <td>6</td>\n",
       "      <td>6</td>\n",
       "      <td>Monday</td>\n",
       "      <td>1</td>\n",
       "      <td>Other</td>\n",
       "      <td>Robbery - Mugging</td>\n",
       "      <td>D31</td>\n",
       "      <td>27</td>\n",
       "      <td>-79.503388</td>\n",
       "      <td>43.769791</td>\n",
       "    </tr>\n",
       "    <tr>\n",
       "      <th>1</th>\n",
       "      <td>609</td>\n",
       "      <td>GO-20142439653</td>\n",
       "      <td>2014</td>\n",
       "      <td>July</td>\n",
       "      <td>6</td>\n",
       "      <td>187</td>\n",
       "      <td>Sunday</td>\n",
       "      <td>1</td>\n",
       "      <td>Outside</td>\n",
       "      <td>Robbery - Taxi</td>\n",
       "      <td>D51</td>\n",
       "      <td>75</td>\n",
       "      <td>-79.371910</td>\n",
       "      <td>43.650467</td>\n",
       "    </tr>\n",
       "    <tr>\n",
       "      <th>2</th>\n",
       "      <td>4</td>\n",
       "      <td>GO-20141331950</td>\n",
       "      <td>2014</td>\n",
       "      <td>January</td>\n",
       "      <td>12</td>\n",
       "      <td>12</td>\n",
       "      <td>Sunday</td>\n",
       "      <td>20</td>\n",
       "      <td>Other</td>\n",
       "      <td>Robbery With Weapon</td>\n",
       "      <td>D42</td>\n",
       "      <td>130</td>\n",
       "      <td>-79.300468</td>\n",
       "      <td>43.808918</td>\n",
       "    </tr>\n",
       "    <tr>\n",
       "      <th>3</th>\n",
       "      <td>610</td>\n",
       "      <td>GO-20142440272</td>\n",
       "      <td>2014</td>\n",
       "      <td>July</td>\n",
       "      <td>6</td>\n",
       "      <td>187</td>\n",
       "      <td>Sunday</td>\n",
       "      <td>3</td>\n",
       "      <td>Outside</td>\n",
       "      <td>Robbery - Mugging</td>\n",
       "      <td>D43</td>\n",
       "      <td>139</td>\n",
       "      <td>-79.217850</td>\n",
       "      <td>43.740662</td>\n",
       "    </tr>\n",
       "    <tr>\n",
       "      <th>4</th>\n",
       "      <td>5</td>\n",
       "      <td>GO-20141331950</td>\n",
       "      <td>2014</td>\n",
       "      <td>January</td>\n",
       "      <td>12</td>\n",
       "      <td>12</td>\n",
       "      <td>Sunday</td>\n",
       "      <td>20</td>\n",
       "      <td>Other</td>\n",
       "      <td>Robbery With Weapon</td>\n",
       "      <td>D42</td>\n",
       "      <td>130</td>\n",
       "      <td>-79.300468</td>\n",
       "      <td>43.808918</td>\n",
       "    </tr>\n",
       "    <tr>\n",
       "      <th>...</th>\n",
       "      <td>...</td>\n",
       "      <td>...</td>\n",
       "      <td>...</td>\n",
       "      <td>...</td>\n",
       "      <td>...</td>\n",
       "      <td>...</td>\n",
       "      <td>...</td>\n",
       "      <td>...</td>\n",
       "      <td>...</td>\n",
       "      <td>...</td>\n",
       "      <td>...</td>\n",
       "      <td>...</td>\n",
       "      <td>...</td>\n",
       "      <td>...</td>\n",
       "    </tr>\n",
       "    <tr>\n",
       "      <th>21538</th>\n",
       "      <td>194136</td>\n",
       "      <td>GO-20182197844</td>\n",
       "      <td>2018</td>\n",
       "      <td>November</td>\n",
       "      <td>29</td>\n",
       "      <td>333</td>\n",
       "      <td>Thursday</td>\n",
       "      <td>20</td>\n",
       "      <td>Outside</td>\n",
       "      <td>Robbery - Other</td>\n",
       "      <td>D23</td>\n",
       "      <td>5</td>\n",
       "      <td>-79.551002</td>\n",
       "      <td>43.723167</td>\n",
       "    </tr>\n",
       "    <tr>\n",
       "      <th>21539</th>\n",
       "      <td>194141</td>\n",
       "      <td>GO-20182269351</td>\n",
       "      <td>2018</td>\n",
       "      <td>December</td>\n",
       "      <td>11</td>\n",
       "      <td>345</td>\n",
       "      <td>Tuesday</td>\n",
       "      <td>1</td>\n",
       "      <td>Apartment</td>\n",
       "      <td>Robbery - Home Invasion</td>\n",
       "      <td>D51</td>\n",
       "      <td>72</td>\n",
       "      <td>-79.358688</td>\n",
       "      <td>43.662418</td>\n",
       "    </tr>\n",
       "    <tr>\n",
       "      <th>21540</th>\n",
       "      <td>194142</td>\n",
       "      <td>GO-20182269351</td>\n",
       "      <td>2018</td>\n",
       "      <td>December</td>\n",
       "      <td>11</td>\n",
       "      <td>345</td>\n",
       "      <td>Tuesday</td>\n",
       "      <td>1</td>\n",
       "      <td>Apartment</td>\n",
       "      <td>Robbery - Home Invasion</td>\n",
       "      <td>D51</td>\n",
       "      <td>72</td>\n",
       "      <td>-79.358688</td>\n",
       "      <td>43.662418</td>\n",
       "    </tr>\n",
       "    <tr>\n",
       "      <th>21541</th>\n",
       "      <td>194143</td>\n",
       "      <td>GO-20182269351</td>\n",
       "      <td>2018</td>\n",
       "      <td>December</td>\n",
       "      <td>11</td>\n",
       "      <td>345</td>\n",
       "      <td>Tuesday</td>\n",
       "      <td>1</td>\n",
       "      <td>Apartment</td>\n",
       "      <td>Robbery - Home Invasion</td>\n",
       "      <td>D51</td>\n",
       "      <td>72</td>\n",
       "      <td>-79.358688</td>\n",
       "      <td>43.662418</td>\n",
       "    </tr>\n",
       "    <tr>\n",
       "      <th>21542</th>\n",
       "      <td>194152</td>\n",
       "      <td>GO-20182100644</td>\n",
       "      <td>2018</td>\n",
       "      <td>November</td>\n",
       "      <td>14</td>\n",
       "      <td>318</td>\n",
       "      <td>Wednesday</td>\n",
       "      <td>15</td>\n",
       "      <td>Commercial</td>\n",
       "      <td>Robbery - Business</td>\n",
       "      <td>D31</td>\n",
       "      <td>26</td>\n",
       "      <td>-79.491081</td>\n",
       "      <td>43.724621</td>\n",
       "    </tr>\n",
       "  </tbody>\n",
       "</table>\n",
       "<p>21543 rows × 14 columns</p>\n",
       "</div>"
      ],
      "text/plain": [
       "       Index_  vent_unique_id  dyear    dmonth  dday  ddayofyear  ddayofweek  \\\n",
       "0           1  GO-20141289469   2014   January     6           6  Monday       \n",
       "1         609  GO-20142439653   2014      July     6         187  Sunday       \n",
       "2           4  GO-20141331950   2014   January    12          12  Sunday       \n",
       "3         610  GO-20142440272   2014      July     6         187  Sunday       \n",
       "4           5  GO-20141331950   2014   January    12          12  Sunday       \n",
       "...       ...             ...    ...       ...   ...         ...         ...   \n",
       "21538  194136  GO-20182197844   2018  November    29         333  Thursday     \n",
       "21539  194141  GO-20182269351   2018  December    11         345  Tuesday      \n",
       "21540  194142  GO-20182269351   2018  December    11         345  Tuesday      \n",
       "21541  194143  GO-20182269351   2018  December    11         345  Tuesday      \n",
       "21542  194152  GO-20182100644   2018  November    14         318  Wednesday    \n",
       "\n",
       "       dhour    misetype                   ffence Division  Hood_ID  \\\n",
       "0          1       Other        Robbery - Mugging      D31       27   \n",
       "1          1     Outside           Robbery - Taxi      D51       75   \n",
       "2         20       Other      Robbery With Weapon      D42      130   \n",
       "3          3     Outside        Robbery - Mugging      D43      139   \n",
       "4         20       Other      Robbery With Weapon      D42      130   \n",
       "...      ...         ...                      ...      ...      ...   \n",
       "21538     20     Outside          Robbery - Other      D23        5   \n",
       "21539      1   Apartment  Robbery - Home Invasion      D51       72   \n",
       "21540      1   Apartment  Robbery - Home Invasion      D51       72   \n",
       "21541      1   Apartment  Robbery - Home Invasion      D51       72   \n",
       "21542     15  Commercial       Robbery - Business      D31       26   \n",
       "\n",
       "            Long        Lat  \n",
       "0     -79.503388  43.769791  \n",
       "1     -79.371910  43.650467  \n",
       "2     -79.300468  43.808918  \n",
       "3     -79.217850  43.740662  \n",
       "4     -79.300468  43.808918  \n",
       "...          ...        ...  \n",
       "21538 -79.551002  43.723167  \n",
       "21539 -79.358688  43.662418  \n",
       "21540 -79.358688  43.662418  \n",
       "21541 -79.358688  43.662418  \n",
       "21542 -79.491081  43.724621  \n",
       "\n",
       "[21543 rows x 14 columns]"
      ]
     },
     "execution_count": 20,
     "metadata": {},
     "output_type": "execute_result"
    }
   ],
   "source": [
    "robbery_df = robbery_json_df.iloc[:, numpy.r_[1:3, 9, 10, 11, 12, 13, 14, 5, 8, 22, 23, 25, 26]]\n",
    "robbery_df"
   ]
  },
  {
   "cell_type": "markdown",
   "metadata": {},
   "source": [
    "I will subset the data. For the robbery data, I only want the mugging data because this is most applicable for pedestrians"
   ]
  },
  {
   "cell_type": "code",
   "execution_count": 81,
   "metadata": {},
   "outputs": [
    {
     "data": {
      "text/html": [
       "<div>\n",
       "<style scoped>\n",
       "    .dataframe tbody tr th:only-of-type {\n",
       "        vertical-align: middle;\n",
       "    }\n",
       "\n",
       "    .dataframe tbody tr th {\n",
       "        vertical-align: top;\n",
       "    }\n",
       "\n",
       "    .dataframe thead th {\n",
       "        text-align: right;\n",
       "    }\n",
       "</style>\n",
       "<table border=\"1\" class=\"dataframe\">\n",
       "  <thead>\n",
       "    <tr style=\"text-align: right;\">\n",
       "      <th></th>\n",
       "      <th>Index_</th>\n",
       "      <th>vent_unique_id</th>\n",
       "      <th>dyear</th>\n",
       "      <th>dmonth</th>\n",
       "      <th>dday</th>\n",
       "      <th>ddayofyear</th>\n",
       "      <th>ddayofweek</th>\n",
       "      <th>dhour</th>\n",
       "      <th>misetype</th>\n",
       "      <th>ffence</th>\n",
       "      <th>Division</th>\n",
       "      <th>Hood_ID</th>\n",
       "      <th>Long</th>\n",
       "      <th>Lat</th>\n",
       "    </tr>\n",
       "  </thead>\n",
       "  <tbody>\n",
       "    <tr>\n",
       "      <th>3</th>\n",
       "      <td>610</td>\n",
       "      <td>GO-20142440272</td>\n",
       "      <td>2014</td>\n",
       "      <td>July</td>\n",
       "      <td>6</td>\n",
       "      <td>187</td>\n",
       "      <td>Sunday</td>\n",
       "      <td>3</td>\n",
       "      <td>Outside</td>\n",
       "      <td>Robbery - Mugging</td>\n",
       "      <td>D43</td>\n",
       "      <td>139</td>\n",
       "      <td>-79.217850</td>\n",
       "      <td>43.740662</td>\n",
       "    </tr>\n",
       "    <tr>\n",
       "      <th>5</th>\n",
       "      <td>614</td>\n",
       "      <td>GO-20142444068</td>\n",
       "      <td>2014</td>\n",
       "      <td>July</td>\n",
       "      <td>6</td>\n",
       "      <td>187</td>\n",
       "      <td>Sunday</td>\n",
       "      <td>19</td>\n",
       "      <td>Outside</td>\n",
       "      <td>Robbery - Mugging</td>\n",
       "      <td>D22</td>\n",
       "      <td>18</td>\n",
       "      <td>-79.504143</td>\n",
       "      <td>43.601009</td>\n",
       "    </tr>\n",
       "    <tr>\n",
       "      <th>6</th>\n",
       "      <td>9</td>\n",
       "      <td>GO-20141332202</td>\n",
       "      <td>2014</td>\n",
       "      <td>January</td>\n",
       "      <td>12</td>\n",
       "      <td>12</td>\n",
       "      <td>Sunday</td>\n",
       "      <td>22</td>\n",
       "      <td>Outside</td>\n",
       "      <td>Robbery - Mugging</td>\n",
       "      <td>D51</td>\n",
       "      <td>76</td>\n",
       "      <td>-79.382118</td>\n",
       "      <td>43.659100</td>\n",
       "    </tr>\n",
       "    <tr>\n",
       "      <th>7</th>\n",
       "      <td>639</td>\n",
       "      <td>GO-20142117825</td>\n",
       "      <td>2014</td>\n",
       "      <td>May</td>\n",
       "      <td>20</td>\n",
       "      <td>140</td>\n",
       "      <td>Tuesday</td>\n",
       "      <td>19</td>\n",
       "      <td>Outside</td>\n",
       "      <td>Robbery - Mugging</td>\n",
       "      <td>D54</td>\n",
       "      <td>58</td>\n",
       "      <td>-79.348290</td>\n",
       "      <td>43.696964</td>\n",
       "    </tr>\n",
       "    <tr>\n",
       "      <th>9</th>\n",
       "      <td>640</td>\n",
       "      <td>GO-20142117825</td>\n",
       "      <td>2014</td>\n",
       "      <td>May</td>\n",
       "      <td>20</td>\n",
       "      <td>140</td>\n",
       "      <td>Tuesday</td>\n",
       "      <td>19</td>\n",
       "      <td>Outside</td>\n",
       "      <td>Robbery - Mugging</td>\n",
       "      <td>D54</td>\n",
       "      <td>58</td>\n",
       "      <td>-79.348290</td>\n",
       "      <td>43.696964</td>\n",
       "    </tr>\n",
       "    <tr>\n",
       "      <th>...</th>\n",
       "      <td>...</td>\n",
       "      <td>...</td>\n",
       "      <td>...</td>\n",
       "      <td>...</td>\n",
       "      <td>...</td>\n",
       "      <td>...</td>\n",
       "      <td>...</td>\n",
       "      <td>...</td>\n",
       "      <td>...</td>\n",
       "      <td>...</td>\n",
       "      <td>...</td>\n",
       "      <td>...</td>\n",
       "      <td>...</td>\n",
       "      <td>...</td>\n",
       "    </tr>\n",
       "    <tr>\n",
       "      <th>21494</th>\n",
       "      <td>193808</td>\n",
       "      <td>GO-20192121296</td>\n",
       "      <td>2019</td>\n",
       "      <td>November</td>\n",
       "      <td>2</td>\n",
       "      <td>306</td>\n",
       "      <td>Saturday</td>\n",
       "      <td>23</td>\n",
       "      <td>Outside</td>\n",
       "      <td>Robbery - Mugging</td>\n",
       "      <td>D33</td>\n",
       "      <td>42</td>\n",
       "      <td>-79.339500</td>\n",
       "      <td>43.728607</td>\n",
       "    </tr>\n",
       "    <tr>\n",
       "      <th>21498</th>\n",
       "      <td>193848</td>\n",
       "      <td>GO-20181659688</td>\n",
       "      <td>2018</td>\n",
       "      <td>September</td>\n",
       "      <td>7</td>\n",
       "      <td>250</td>\n",
       "      <td>Friday</td>\n",
       "      <td>17</td>\n",
       "      <td>Outside</td>\n",
       "      <td>Robbery - Mugging</td>\n",
       "      <td>D31</td>\n",
       "      <td>25</td>\n",
       "      <td>-79.510452</td>\n",
       "      <td>43.749229</td>\n",
       "    </tr>\n",
       "    <tr>\n",
       "      <th>21503</th>\n",
       "      <td>193886</td>\n",
       "      <td>GO-20182208408</td>\n",
       "      <td>2018</td>\n",
       "      <td>December</td>\n",
       "      <td>1</td>\n",
       "      <td>335</td>\n",
       "      <td>Saturday</td>\n",
       "      <td>12</td>\n",
       "      <td>Outside</td>\n",
       "      <td>Robbery - Mugging</td>\n",
       "      <td>D42</td>\n",
       "      <td>116</td>\n",
       "      <td>-79.322540</td>\n",
       "      <td>43.816147</td>\n",
       "    </tr>\n",
       "    <tr>\n",
       "      <th>21516</th>\n",
       "      <td>194015</td>\n",
       "      <td>GO-20181990705</td>\n",
       "      <td>2018</td>\n",
       "      <td>October</td>\n",
       "      <td>28</td>\n",
       "      <td>301</td>\n",
       "      <td>Sunday</td>\n",
       "      <td>17</td>\n",
       "      <td>Outside</td>\n",
       "      <td>Robbery - Mugging</td>\n",
       "      <td>D43</td>\n",
       "      <td>137</td>\n",
       "      <td>-79.233078</td>\n",
       "      <td>43.758186</td>\n",
       "    </tr>\n",
       "    <tr>\n",
       "      <th>21518</th>\n",
       "      <td>194029</td>\n",
       "      <td>GO-20182078321</td>\n",
       "      <td>2018</td>\n",
       "      <td>November</td>\n",
       "      <td>11</td>\n",
       "      <td>315</td>\n",
       "      <td>Sunday</td>\n",
       "      <td>3</td>\n",
       "      <td>Outside</td>\n",
       "      <td>Robbery - Mugging</td>\n",
       "      <td>D51</td>\n",
       "      <td>73</td>\n",
       "      <td>-79.369461</td>\n",
       "      <td>43.654526</td>\n",
       "    </tr>\n",
       "  </tbody>\n",
       "</table>\n",
       "<p>5141 rows × 14 columns</p>\n",
       "</div>"
      ],
      "text/plain": [
       "       Index_  vent_unique_id  dyear     dmonth  dday  ddayofyear  ddayofweek  \\\n",
       "3         610  GO-20142440272   2014       July     6         187  Sunday       \n",
       "5         614  GO-20142444068   2014       July     6         187  Sunday       \n",
       "6           9  GO-20141332202   2014    January    12          12  Sunday       \n",
       "7         639  GO-20142117825   2014        May    20         140  Tuesday      \n",
       "9         640  GO-20142117825   2014        May    20         140  Tuesday      \n",
       "...       ...             ...    ...        ...   ...         ...         ...   \n",
       "21494  193808  GO-20192121296   2019   November     2         306  Saturday     \n",
       "21498  193848  GO-20181659688   2018  September     7         250  Friday       \n",
       "21503  193886  GO-20182208408   2018   December     1         335  Saturday     \n",
       "21516  194015  GO-20181990705   2018    October    28         301  Sunday       \n",
       "21518  194029  GO-20182078321   2018   November    11         315  Sunday       \n",
       "\n",
       "       dhour misetype             ffence Division  Hood_ID       Long  \\\n",
       "3          3  Outside  Robbery - Mugging      D43      139 -79.217850   \n",
       "5         19  Outside  Robbery - Mugging      D22       18 -79.504143   \n",
       "6         22  Outside  Robbery - Mugging      D51       76 -79.382118   \n",
       "7         19  Outside  Robbery - Mugging      D54       58 -79.348290   \n",
       "9         19  Outside  Robbery - Mugging      D54       58 -79.348290   \n",
       "...      ...      ...                ...      ...      ...        ...   \n",
       "21494     23  Outside  Robbery - Mugging      D33       42 -79.339500   \n",
       "21498     17  Outside  Robbery - Mugging      D31       25 -79.510452   \n",
       "21503     12  Outside  Robbery - Mugging      D42      116 -79.322540   \n",
       "21516     17  Outside  Robbery - Mugging      D43      137 -79.233078   \n",
       "21518      3  Outside  Robbery - Mugging      D51       73 -79.369461   \n",
       "\n",
       "             Lat  \n",
       "3      43.740662  \n",
       "5      43.601009  \n",
       "6      43.659100  \n",
       "7      43.696964  \n",
       "9      43.696964  \n",
       "...          ...  \n",
       "21494  43.728607  \n",
       "21498  43.749229  \n",
       "21503  43.816147  \n",
       "21516  43.758186  \n",
       "21518  43.654526  \n",
       "\n",
       "[5141 rows x 14 columns]"
      ]
     },
     "execution_count": 81,
     "metadata": {},
     "output_type": "execute_result"
    }
   ],
   "source": [
    "robbery_df_mugging = robbery_df.loc[robbery_df['ffence'] == 'Robbery - Mugging']  # 6847 rows\n",
    "robbery_df_mugging_outside = robbery_df_mugging.loc[robbery_df_mugging['misetype'] == 'Outside']  # 5141 rows\n",
    "robbery_df_mugging_outside"
   ]
  },
  {
   "cell_type": "markdown",
   "metadata": {},
   "source": [
    "Some features are unbalanced. I will remove accident locations with few observations (<10)\n"
   ]
  },
  {
   "cell_type": "code",
   "execution_count": 82,
   "metadata": {},
   "outputs": [],
   "source": [
    "pedestrian_df_road = pedestrian_df.loc[pedestrian_df['ROAD_CLASS'].isin(['Major Arterial', 'Minor Arterial',\n",
    "                                                                         'Collector', 'Local',\n",
    "                                                                         'Expressway'])]  # 4986 rows"
   ]
  },
  {
   "cell_type": "markdown",
   "metadata": {},
   "source": [
    "I will need to create geaodataframes many times, so a function will be best to make the code cleaner."
   ]
  },
  {
   "cell_type": "code",
   "execution_count": 23,
   "metadata": {},
   "outputs": [],
   "source": [
    "def create_gdf(df, Longitude, Latitude, projection):\n",
    "    return geopandas.GeoDataFrame(df, geometry=geopandas.points_from_xy(df[Longitude], df[Latitude]),\n",
    "                                  crs=projection)"
   ]
  },
  {
   "cell_type": "markdown",
   "metadata": {},
   "source": [
    "Need as spatial data to measure distance to features later."
   ]
  },
  {
   "cell_type": "code",
   "execution_count": 83,
   "metadata": {},
   "outputs": [],
   "source": [
    "robbery_points_gdf_2958 = create_gdf(df=robbery_df_mugging_outside,\n",
    "                                     Latitude=\"Lat\",\n",
    "                                     Longitude=\"Long\",\n",
    "                                     projection=\"EPSG:4326\")\n",
    "\n",
    "robbery_points_gdf_4326 = create_gdf(df=robbery_df_mugging_outside,\n",
    "                                     Latitude=\"Lat\",\n",
    "                                     Longitude=\"Long\",\n",
    "                                     projection=\"EPSG:4326\")\n",
    "robbery_points_gdf_2958 = robbery_points_gdf_2958.to_crs(epsg = 2958) \n",
    "pedestrian_points_gdf_2958 = create_gdf(df=pedestrian_df_road,\n",
    "                                     Latitude=\"LATITUDE\",\n",
    "                                     Longitude=\"LONGITUDE\",\n",
    "                                     projection=\"EPSG:4326\")\n",
    "\n",
    "pedestrian_points_gdf_4326 = create_gdf(df=pedestrian_df_road,\n",
    "                                        Latitude=\"LATITUDE\",\n",
    "                                        Longitude=\"LONGITUDE\",\n",
    "                                     projection=\"EPSG:4326\")\n",
    "pedestrian_points_gdf_2958 = pedestrian_points_gdf_2958.to_crs(epsg = 2958)  "
   ]
  },
  {
   "cell_type": "markdown",
   "metadata": {},
   "source": [
    "Need consistency in labelling for future analyses"
   ]
  },
  {
   "cell_type": "code",
   "execution_count": 3,
   "metadata": {},
   "outputs": [],
   "source": [
    "# Importing background points I generated in ArcMap\n",
    "backgroundpoints = geopandas.read_file('C:/Users/jodyn/Google Drive/Insight Data Science/Insight/Terrain/Toronto_Roads_Background_2958.shp')"
   ]
  },
  {
   "cell_type": "code",
   "execution_count": 61,
   "metadata": {},
   "outputs": [],
   "source": [
    "# need to randomly select the same number of backgrounds point as in my data  \n",
    "robbery_backgroundpoints = backgroundpoints.sample(n=len(robbery_points_gdf_2958))\n",
    "robbery_backgroundpoints['Latitude'] = list(robbery_backgroundpoints['geometry'].y)\n",
    "robbery_backgroundpoints['Longitude'] = list(robbery_backgroundpoints['geometry'].x)\n",
    "pedestrian_backgroundpoints = backgroundpoints.sample(n=len(pedestrian_points_gdf_2958))\n",
    "pedestrian_backgroundpoints['Latitude'] = list(pedestrian_backgroundpoints['geometry'].y)\n",
    "pedestrian_backgroundpoints['Longitude'] = list(pedestrian_backgroundpoints['geometry'].x)\n"
   ]
  },
  {
   "cell_type": "code",
   "execution_count": 80,
   "metadata": {},
   "outputs": [],
   "source": [
    "# need to make sure that the projections are correct for when I generate the distances to other features\n",
    "robbery_backgroundpoints_gdf_2958 =  create_gdf(df=robbery_backgroundpoints,\n",
    "                                               Latitude=\"Latitude\",\n",
    "                                               Longitude=\"Longitude\",\n",
    "                                               projection=\"EPSG:2958\")\n",
    "\n",
    "robbery_backgroundpoints_gdf_4326 = robbery_backgroundpoints_2958.to_crs(epsg = 4326)\n",
    "robbery_backgroundpoints_gdf_4326 = robbery_backgroundpoints_gdf_4326.drop(['Latitude', 'Longitude'], axis = 1)\n",
    "robbery_backgroundpoints_gdf_4326['Latitude'] = list(robbery_backgroundpoints_gdf_4326['geometry'].y)\n",
    "robbery_backgroundpoints_gdf_4326['Longitude'] = list(robbery_backgroundpoints_gdf_4326['geometry'].x)\n",
    "\n",
    "pedestrian_backgroundpoints_gdf_2958 =  create_gdf(df=pedestrian_backgroundpoints,\n",
    "                                               Latitude=\"Latitude\",\n",
    "                                               Longitude=\"Longitude\",\n",
    "                                               projection=\"EPSG:2958\")\n",
    "pedestrian_backgroundpoints_gdf_4326 = pedestrian_backgroundpoints_2958.to_crs(epsg = 4326)\n",
    "pedestrian_backgroundpoints_gdf_4326 = pedestrian_backgroundpoints_gdf_4326.drop(['Latitude', 'Longitude'], axis = 1)\n",
    "pedestrian_backgroundpoints_gdf_4326['Latitude'] = list(pedestrian_backgroundpoints_gdf_4326['geometry'].y)\n",
    "pedestrian_backgroundpoints_gdf_4326['Longitude'] = list(pedestrian_backgroundpoints_gdf_4326['geometry'].x)\n"
   ]
  },
  {
   "cell_type": "code",
   "execution_count": 41,
   "metadata": {},
   "outputs": [],
   "source": [
    "# I want consistency in the lat/long names for later measures\n",
    "robbery_points_gdf_2958 = robbery_points_gdf_2958.rename(columns={\"Long\": \"Longitude\", \"Lat\": \"Latitude\"})\n",
    "robbery_points_gdf_4326 = robbery_points_gdf_4326.rename(columns={\"Long\": \"Longitude\", \"Lat\": \"Latitude\"})\n",
    "pedestrian_points_gdf_2958 = pedestrian_points_gdf_2958.rename(columns={\"LONGITUDE\": \"Longitude\", \"LATITUDE\": \"Latitude\"})\n",
    "pedestrian_points_gdf_4326 = pedestrian_points_gdf_4326.rename(columns={\"LONGITUDE\": \"Longitude\", \"LATITUDE\": \"Latitude\"})\n"
   ]
  },
  {
   "cell_type": "markdown",
   "metadata": {},
   "source": [
    "It will be easier to re-run making the psedoabsences if I make a function considering that I might extend to the GTA and not just Old Toronto."
   ]
  },
  {
   "cell_type": "code",
   "execution_count": 85,
   "metadata": {},
   "outputs": [],
   "source": [
    "special = list(set(list(robbery_points_gdf_4326)) - set(list(robbery_backgroundpoints_gdf_4326)))\n",
    "for i in special:\n",
    "    longer = list(robbery_points_gdf_4326[i].unique())\n",
    "    call = numpy.repeat(longer,\n",
    "                        len(robbery_backgroundpoints_gdf_4326) / len(longer) * 2)\n",
    "    shuffle(call)\n",
    "    robbery_backgroundpoints_gdf_4326[i] = call[0:len(robbery_backgroundpoints_gdf_4326)]\n",
    "\n",
    "robbery_points_gdf_4326['Presence_Absence'] = numpy.repeat(1,\n",
    "                                                           len(robbery_points_gdf_4326))\n",
    "robbery_backgroundpoints_gdf_4326['Presence_Absence'] = numpy.repeat(0,\n",
    "                                                                     len(robbery_backgroundpoints_gdf_4326))\n",
    "\n",
    "special = list(set(list(pedestrian_points_gdf_4326)) - set(list(pedestrian_backgroundpoints_gdf_4326)))\n",
    "for i in special:\n",
    "    longer = list(pedestrian_points_gdf_4326[i].unique())\n",
    "    call = numpy.repeat(longer,\n",
    "                        len(pedestrian_backgroundpoints_gdf_4326) / len(longer) * 2)\n",
    "    shuffle(call)\n",
    "    pedestrian_backgroundpoints_gdf_4326[i] = call[0:len(pedestrian_backgroundpoints_gdf_4326)]\n",
    "\n",
    "pedestrian_points_gdf_4326['Presence_Absence'] = numpy.repeat(1,\n",
    "                                                           len(pedestrian_points_gdf_4326))\n",
    "pedestrian_backgroundpoints_gdf_4326['Presence_Absence'] = numpy.repeat(0,\n",
    "                                                                     len(pedestrian_backgroundpoints_gdf_4326))"
   ]
  },
  {
   "cell_type": "code",
   "execution_count": 86,
   "metadata": {},
   "outputs": [
    {
     "data": {
      "text/plain": [
       "1    5141\n",
       "0    5141\n",
       "Name: Presence_Absence, dtype: int64"
      ]
     },
     "execution_count": 86,
     "metadata": {},
     "output_type": "execute_result"
    }
   ],
   "source": [
    "# now we can combine both data sets and\n",
    "robbery_model_data = robbery_points_gdf_4326.append(\n",
    "    pandas.DataFrame(data=robbery_backgroundpoints_gdf_4326),\n",
    "    ignore_index=True)\n",
    "robbery_model_data_final = robbery_model_data.iloc[:, numpy.r_[0, 2:len(list(robbery_model_data))]]\n",
    "robbery_model_data_final.Presence_Absence.value_counts()"
   ]
  },
  {
   "cell_type": "markdown",
   "metadata": {},
   "source": [
    "Importing location Data to Measure Proximity transporation data to later measure distance to feature for regression/random forest need a UTM projection for distance to feature.\n"
   ]
  },
  {
   "cell_type": "code",
   "execution_count": 87,
   "metadata": {},
   "outputs": [
    {
     "data": {
      "text/plain": [
       "1    6433\n",
       "0    6433\n",
       "Name: Presence_Absence, dtype: int64"
      ]
     },
     "execution_count": 87,
     "metadata": {},
     "output_type": "execute_result"
    }
   ],
   "source": [
    "pedestrian_model_data = pedestrian_points_gdf_4326.append(\n",
    "    pandas.DataFrame(data=pedestrian_backgroundpoints_gdf_4326),\n",
    "    ignore_index=True)\n",
    "pedestrian_model_data_final = pedestrian_model_data.iloc[:, numpy.r_[0, 2:len(list(pedestrian_model_data))]]\n",
    "pedestrian_model_data_final.Presence_Absence.value_counts()"
   ]
  },
  {
   "cell_type": "code",
   "execution_count": 42,
   "metadata": {},
   "outputs": [
    {
     "data": {
      "image/png": "[encoded data removed]",
      "text/plain": [
       "<Figure size 432x432 with 1 Axes>"
      ]
     },
     "metadata": {
      "needs_background": "light"
     },
     "output_type": "display_data"
    },
    {
     "data": {
      "text/plain": [
       "(<Figure size 432x432 with 1 Axes>,\n",
       " <matplotlib.axes._subplots.AxesSubplot at 0x2a4ef4e9e88>)"
      ]
     },
     "execution_count": 42,
     "metadata": {},
     "output_type": "execute_result"
    }
   ],
   "source": [
    "place_name = 'City of Toronto'\n",
    "place_shape = osmnx.gdf_from_place(place_name)\n",
    "osmnx.plot_shape(osmnx.projection.project_gdf(place_shape))"
   ]
  },
  {
   "cell_type": "code",
   "execution_count": 43,
   "metadata": {},
   "outputs": [],
   "source": [
    "selected_tags = {'highway': True}\n",
    "stations_OldToronto = osmnx.pois_from_place(place = place_name, tags = selected_tags)"
   ]
  },
  {
   "cell_type": "markdown",
   "metadata": {},
   "source": [
    "Dropping some fetaures that I do not need some of them are polygons."
   ]
  },
  {
   "cell_type": "code",
   "execution_count": 44,
   "metadata": {},
   "outputs": [],
   "source": [
    "features_location_names = ['crossing', 'give_way', 'stop', 'traffic_signals', 'turning_loop', 'speed_camera']\n",
    "stations_OldToronto_4326 = stations_OldToronto[stations_OldToronto.highway.isin(features_location_names)]\n",
    "stations_OldToronto_4326 = stations_OldToronto_4326.iloc[:, numpy.r_[0, 1, 4]]"
   ]
  },
  {
   "cell_type": "code",
   "execution_count": 45,
   "metadata": {},
   "outputs": [
    {
     "data": {
      "text/html": [
       "<div>\n",
       "<style scoped>\n",
       "    .dataframe tbody tr th:only-of-type {\n",
       "        vertical-align: middle;\n",
       "    }\n",
       "\n",
       "    .dataframe tbody tr th {\n",
       "        vertical-align: top;\n",
       "    }\n",
       "\n",
       "    .dataframe thead th {\n",
       "        text-align: right;\n",
       "    }\n",
       "</style>\n",
       "<table border=\"1\" class=\"dataframe\">\n",
       "  <thead>\n",
       "    <tr style=\"text-align: right;\">\n",
       "      <th></th>\n",
       "      <th>osmid</th>\n",
       "      <th>geometry</th>\n",
       "      <th>highway</th>\n",
       "    </tr>\n",
       "  </thead>\n",
       "  <tbody>\n",
       "    <tr>\n",
       "      <th>1497993</th>\n",
       "      <td>1497993</td>\n",
       "      <td>POINT (-79.34694 43.75577)</td>\n",
       "      <td>traffic_signals</td>\n",
       "    </tr>\n",
       "    <tr>\n",
       "      <th>1497996</th>\n",
       "      <td>1497996</td>\n",
       "      <td>POINT (-79.34700 43.75864)</td>\n",
       "      <td>traffic_signals</td>\n",
       "    </tr>\n",
       "    <tr>\n",
       "      <th>1498001</th>\n",
       "      <td>1498001</td>\n",
       "      <td>POINT (-79.34711 43.76181)</td>\n",
       "      <td>traffic_signals</td>\n",
       "    </tr>\n",
       "    <tr>\n",
       "      <th>1498018</th>\n",
       "      <td>1498018</td>\n",
       "      <td>POINT (-79.34642 43.76957)</td>\n",
       "      <td>traffic_signals</td>\n",
       "    </tr>\n",
       "    <tr>\n",
       "      <th>1498033</th>\n",
       "      <td>1498033</td>\n",
       "      <td>POINT (-79.34698 43.77518)</td>\n",
       "      <td>traffic_signals</td>\n",
       "    </tr>\n",
       "    <tr>\n",
       "      <th>...</th>\n",
       "      <td>...</td>\n",
       "      <td>...</td>\n",
       "      <td>...</td>\n",
       "    </tr>\n",
       "    <tr>\n",
       "      <th>7620725135</th>\n",
       "      <td>7620725135</td>\n",
       "      <td>POINT (-79.30694 43.73462)</td>\n",
       "      <td>stop</td>\n",
       "    </tr>\n",
       "    <tr>\n",
       "      <th>7624297885</th>\n",
       "      <td>7624297885</td>\n",
       "      <td>POINT (-79.40099 43.71833)</td>\n",
       "      <td>stop</td>\n",
       "    </tr>\n",
       "    <tr>\n",
       "      <th>7624298019</th>\n",
       "      <td>7624298019</td>\n",
       "      <td>POINT (-79.40075 43.71879)</td>\n",
       "      <td>stop</td>\n",
       "    </tr>\n",
       "    <tr>\n",
       "      <th>7626829863</th>\n",
       "      <td>7626829863</td>\n",
       "      <td>POINT (-79.38793 43.69139)</td>\n",
       "      <td>stop</td>\n",
       "    </tr>\n",
       "    <tr>\n",
       "      <th>7626829864</th>\n",
       "      <td>7626829864</td>\n",
       "      <td>POINT (-79.38822 43.69131)</td>\n",
       "      <td>stop</td>\n",
       "    </tr>\n",
       "  </tbody>\n",
       "</table>\n",
       "<p>24336 rows × 3 columns</p>\n",
       "</div>"
      ],
      "text/plain": [
       "                 osmid                    geometry          highway\n",
       "1497993        1497993  POINT (-79.34694 43.75577)  traffic_signals\n",
       "1497996        1497996  POINT (-79.34700 43.75864)  traffic_signals\n",
       "1498001        1498001  POINT (-79.34711 43.76181)  traffic_signals\n",
       "1498018        1498018  POINT (-79.34642 43.76957)  traffic_signals\n",
       "1498033        1498033  POINT (-79.34698 43.77518)  traffic_signals\n",
       "...                ...                         ...              ...\n",
       "7620725135  7620725135  POINT (-79.30694 43.73462)             stop\n",
       "7624297885  7624297885  POINT (-79.40099 43.71833)             stop\n",
       "7624298019  7624298019  POINT (-79.40075 43.71879)             stop\n",
       "7626829863  7626829863  POINT (-79.38793 43.69139)             stop\n",
       "7626829864  7626829864  POINT (-79.38822 43.69131)             stop\n",
       "\n",
       "[24336 rows x 3 columns]"
      ]
     },
     "execution_count": 45,
     "metadata": {},
     "output_type": "execute_result"
    }
   ],
   "source": [
    "stations_OldToronto_4326"
   ]
  },
  {
   "cell_type": "markdown",
   "metadata": {},
   "source": [
    "Converting to other projections gives me errors, so the gemteory tab is in ESPG 2958, but it read in as ESPG 4326 I will need to covert this to a etract the x y data convert to a dataframe, then reproject."
   ]
  },
  {
   "cell_type": "code",
   "execution_count": 46,
   "metadata": {},
   "outputs": [],
   "source": [
    "stations_OldToronto_4326['x'] = stations_OldToronto_4326['geometry'].x\n",
    "stations_OldToronto_4326['y'] = stations_OldToronto_4326['geometry'].y\n",
    "stations_OldToronto_4326 = pandas.DataFrame(stations_OldToronto_4326)"
   ]
  },
  {
   "cell_type": "code",
   "execution_count": 47,
   "metadata": {},
   "outputs": [
    {
     "data": {
      "text/html": [
       "<div>\n",
       "<style scoped>\n",
       "    .dataframe tbody tr th:only-of-type {\n",
       "        vertical-align: middle;\n",
       "    }\n",
       "\n",
       "    .dataframe tbody tr th {\n",
       "        vertical-align: top;\n",
       "    }\n",
       "\n",
       "    .dataframe thead th {\n",
       "        text-align: right;\n",
       "    }\n",
       "</style>\n",
       "<table border=\"1\" class=\"dataframe\">\n",
       "  <thead>\n",
       "    <tr style=\"text-align: right;\">\n",
       "      <th></th>\n",
       "      <th>osmid</th>\n",
       "      <th>geometry</th>\n",
       "      <th>highway</th>\n",
       "      <th>x</th>\n",
       "      <th>y</th>\n",
       "    </tr>\n",
       "  </thead>\n",
       "  <tbody>\n",
       "    <tr>\n",
       "      <th>1497993</th>\n",
       "      <td>1497993</td>\n",
       "      <td>POINT (-79.34694 43.75577)</td>\n",
       "      <td>traffic_signals</td>\n",
       "      <td>-79.346939</td>\n",
       "      <td>43.755775</td>\n",
       "    </tr>\n",
       "    <tr>\n",
       "      <th>1497996</th>\n",
       "      <td>1497996</td>\n",
       "      <td>POINT (-79.34700 43.75864)</td>\n",
       "      <td>traffic_signals</td>\n",
       "      <td>-79.347003</td>\n",
       "      <td>43.758640</td>\n",
       "    </tr>\n",
       "    <tr>\n",
       "      <th>1498001</th>\n",
       "      <td>1498001</td>\n",
       "      <td>POINT (-79.34711 43.76181)</td>\n",
       "      <td>traffic_signals</td>\n",
       "      <td>-79.347105</td>\n",
       "      <td>43.761808</td>\n",
       "    </tr>\n",
       "    <tr>\n",
       "      <th>1498018</th>\n",
       "      <td>1498018</td>\n",
       "      <td>POINT (-79.34642 43.76957)</td>\n",
       "      <td>traffic_signals</td>\n",
       "      <td>-79.346419</td>\n",
       "      <td>43.769574</td>\n",
       "    </tr>\n",
       "    <tr>\n",
       "      <th>1498033</th>\n",
       "      <td>1498033</td>\n",
       "      <td>POINT (-79.34698 43.77518)</td>\n",
       "      <td>traffic_signals</td>\n",
       "      <td>-79.346985</td>\n",
       "      <td>43.775183</td>\n",
       "    </tr>\n",
       "    <tr>\n",
       "      <th>...</th>\n",
       "      <td>...</td>\n",
       "      <td>...</td>\n",
       "      <td>...</td>\n",
       "      <td>...</td>\n",
       "      <td>...</td>\n",
       "    </tr>\n",
       "    <tr>\n",
       "      <th>7620725135</th>\n",
       "      <td>7620725135</td>\n",
       "      <td>POINT (-79.30694 43.73462)</td>\n",
       "      <td>stop</td>\n",
       "      <td>-79.306942</td>\n",
       "      <td>43.734623</td>\n",
       "    </tr>\n",
       "    <tr>\n",
       "      <th>7624297885</th>\n",
       "      <td>7624297885</td>\n",
       "      <td>POINT (-79.40099 43.71833)</td>\n",
       "      <td>stop</td>\n",
       "      <td>-79.400988</td>\n",
       "      <td>43.718328</td>\n",
       "    </tr>\n",
       "    <tr>\n",
       "      <th>7624298019</th>\n",
       "      <td>7624298019</td>\n",
       "      <td>POINT (-79.40075 43.71879)</td>\n",
       "      <td>stop</td>\n",
       "      <td>-79.400746</td>\n",
       "      <td>43.718791</td>\n",
       "    </tr>\n",
       "    <tr>\n",
       "      <th>7626829863</th>\n",
       "      <td>7626829863</td>\n",
       "      <td>POINT (-79.38793 43.69139)</td>\n",
       "      <td>stop</td>\n",
       "      <td>-79.387932</td>\n",
       "      <td>43.691393</td>\n",
       "    </tr>\n",
       "    <tr>\n",
       "      <th>7626829864</th>\n",
       "      <td>7626829864</td>\n",
       "      <td>POINT (-79.38822 43.69131)</td>\n",
       "      <td>stop</td>\n",
       "      <td>-79.388217</td>\n",
       "      <td>43.691314</td>\n",
       "    </tr>\n",
       "  </tbody>\n",
       "</table>\n",
       "<p>24336 rows × 5 columns</p>\n",
       "</div>"
      ],
      "text/plain": [
       "                 osmid                    geometry          highway  \\\n",
       "1497993        1497993  POINT (-79.34694 43.75577)  traffic_signals   \n",
       "1497996        1497996  POINT (-79.34700 43.75864)  traffic_signals   \n",
       "1498001        1498001  POINT (-79.34711 43.76181)  traffic_signals   \n",
       "1498018        1498018  POINT (-79.34642 43.76957)  traffic_signals   \n",
       "1498033        1498033  POINT (-79.34698 43.77518)  traffic_signals   \n",
       "...                ...                         ...              ...   \n",
       "7620725135  7620725135  POINT (-79.30694 43.73462)             stop   \n",
       "7624297885  7624297885  POINT (-79.40099 43.71833)             stop   \n",
       "7624298019  7624298019  POINT (-79.40075 43.71879)             stop   \n",
       "7626829863  7626829863  POINT (-79.38793 43.69139)             stop   \n",
       "7626829864  7626829864  POINT (-79.38822 43.69131)             stop   \n",
       "\n",
       "                    x          y  \n",
       "1497993    -79.346939  43.755775  \n",
       "1497996    -79.347003  43.758640  \n",
       "1498001    -79.347105  43.761808  \n",
       "1498018    -79.346419  43.769574  \n",
       "1498033    -79.346985  43.775183  \n",
       "...               ...        ...  \n",
       "7620725135 -79.306942  43.734623  \n",
       "7624297885 -79.400988  43.718328  \n",
       "7624298019 -79.400746  43.718791  \n",
       "7626829863 -79.387932  43.691393  \n",
       "7626829864 -79.388217  43.691314  \n",
       "\n",
       "[24336 rows x 5 columns]"
      ]
     },
     "execution_count": 47,
     "metadata": {},
     "output_type": "execute_result"
    }
   ],
   "source": [
    "stations_OldToronto_4326"
   ]
  },
  {
   "cell_type": "markdown",
   "metadata": {},
   "source": [
    "Converting the node data to a geopanda dataframe so that I can extract elevation data."
   ]
  },
  {
   "cell_type": "code",
   "execution_count": 48,
   "metadata": {},
   "outputs": [],
   "source": [
    "stations_OldToronto_4326 = create_gdf(df=stations_OldToronto_4326,\n",
    "                                      Latitude=\"y\",\n",
    "                                      Longitude=\"x\",\n",
    "                                      projection=\"EPSG:4326\")\n",
    "stations_OldToronto_2958 = create_gdf(df=stations_OldToronto_4326,\n",
    "                                      Latitude=\"y\",\n",
    "                                      Longitude=\"x\",\n",
    "                                      projection=\"EPSG:4326\")\n",
    "stations_OldToronto_2958 = stations_OldToronto_4326.to_crs(epsg=2958) \n",
    "\n",
    "stations_OldToronto_2958 = stations_OldToronto_2958.iloc[:, numpy.r_[0, 1, 2]]\n",
    "stations_OldToronto_2958['x'] = stations_OldToronto_2958['geometry'].x\n",
    "stations_OldToronto_2958['y'] = stations_OldToronto_2958['geometry'].y"
   ]
  },
  {
   "cell_type": "markdown",
   "metadata": {},
   "source": [
    "I am only interested in a few proximity features for my application, and the function to measure distance needs the projection in espg 4362 + the x and y coordinates named as x y."
   ]
  },
  {
   "cell_type": "code",
   "execution_count": 98,
   "metadata": {},
   "outputs": [],
   "source": [
    "robbery_model_data_final_arcmap.to_file(\"C:/Users/jodyn/Google Drive/Insight Data Science/Insight/Terrain/robbery_model_data_final_arcmap.shp\")\n",
    "pedestrian_model_data_final_arcmap.to_file(\"C:/Users/jodyn/Google Drive/Insight Data Science/Insight/Terrain/pedestrian_model_data_final_arcmap.shp\")\n",
    "stations_OldToronto_2958.to_file(\"C:/Users/jodyn/Google Drive/Insight Data Science/Insight/Terrain/stations_OldToronto_2958.shp\")"
   ]
  },
  {
   "cell_type": "code",
   "execution_count": 229,
   "metadata": {},
   "outputs": [],
   "source": [
    "robbery_model_data_final = geopandas.read_file(\"C:/Users/jodyn/Google Drive/Insight Data Science/Insight/Terrain/robbery_model_2958_distances_final.shp\")\n",
    "pedestrian_model_data_final = geopandas.read_file(\"C:/Users/jodyn/Google Drive/Insight Data Science/Insight/Terrain/pedestrian_model_2958_distances_final.shp\")"
   ]
  },
  {
   "cell_type": "markdown",
   "metadata": {},
   "source": [
    "# Generating proximity features for logistic regression/random forest"
   ]
  },
  {
   "cell_type": "markdown",
   "metadata": {},
   "source": [
    "I was not able to find a function in python that allows me to easily measure proximity features, so I am going to use a function I found online. "
   ]
  },
  {
   "cell_type": "code",
   "execution_count": 230,
   "metadata": {},
   "outputs": [],
   "source": [
    "robbery_model_data_final['Latitude'] = robbery_model_data_final['geometry'].y\n",
    "robbery_model_data_final['Longitude'] = robbery_model_data_final['geometry'].x\n",
    "robbery_model_data_final['Hood_ID'] = robbery_model_data_final['NHood_ID'].astype('category')"
   ]
  },
  {
   "cell_type": "code",
   "execution_count": 231,
   "metadata": {},
   "outputs": [],
   "source": [
    "pedestrian_model_data_final['Latitude'] = pedestrian_model_data_final['geometry'].y\n",
    "pedestrian_model_data_final['Longitude'] = pedestrian_model_data_final['geometry'].x\n",
    "pedestrian_model_data_final['Hood_ID'] = pedestrian_model_data_final['NHoodID'].astype('category')"
   ]
  },
  {
   "cell_type": "markdown",
   "metadata": {},
   "source": [
    "Find closest public transport stop for each building and get also the distance based on haversine distance.**Note**:haversine distance, which is implemented here is a bit slower than using e.g. 'euclidean' metric but useful as we get the distance between points in meters."
   ]
  },
  {
   "cell_type": "code",
   "execution_count": 234,
   "metadata": {},
   "outputs": [
    {
     "name": "stdout",
     "output_type": "stream",
     "text": [
      "OBJECTID      0\n",
      "turning_lo    0\n",
      "dyear         0\n",
      "dday          0\n",
      "dhour         0\n",
      "Presence_A    0\n",
      "crossing      0\n",
      "give_way      0\n",
      "speed_came    0\n",
      "stop          0\n",
      "traffic_si    0\n",
      "Police_Div    0\n",
      "NHood_ID      0\n",
      "geometry      0\n",
      "Latitude      0\n",
      "Longitude     0\n",
      "Hood_ID       0\n",
      "dtype: int64\n"
     ]
    }
   ],
   "source": [
    "print(robbery_model_data_final.isnull().sum())"
   ]
  },
  {
   "cell_type": "code",
   "execution_count": 235,
   "metadata": {},
   "outputs": [
    {
     "name": "stdout",
     "output_type": "stream",
     "text": [
      "OBJECTID      0\n",
      "YEAR          0\n",
      "HOUR          0\n",
      "ROAD_CLASS    0\n",
      "LIGHT         0\n",
      "Presence_A    0\n",
      "turning_lo    0\n",
      "crossing      0\n",
      "give_way      0\n",
      "speed_came    0\n",
      "stop          0\n",
      "traffic_si    0\n",
      "NHoodID       0\n",
      "geometry      0\n",
      "Latitude      0\n",
      "Longitude     0\n",
      "Hood_ID       0\n",
      "dtype: int64\n"
     ]
    }
   ],
   "source": [
    "print(pedestrian_model_data_final.isnull().sum())"
   ]
  },
  {
   "cell_type": "code",
   "execution_count": 236,
   "metadata": {},
   "outputs": [],
   "source": [
    "pedestrian_model_data_final_p = pedestrian_model_data_final.loc[pedestrian_model_data_final['Presence_A']==1]\n",
    "robbery_model_data_final_p = robbery_model_data_final.loc[pedestrian_model_data_final['Presence_A']==1]"
   ]
  },
  {
   "cell_type": "markdown",
   "metadata": {},
   "source": [
    "Going to make some plots to visualize these data.\n",
    "histogram: day of year, day, hour, crossing, giveway, stop, traffic signals, turning loops.\n",
    "bar chart: divison."
   ]
  },
  {
   "cell_type": "code",
   "execution_count": 238,
   "metadata": {
    "scrolled": true
   },
   "outputs": [
    {
     "data": {
      "image/png": "[encoded data removed]",
      "text/plain": [
       "<Figure size 1080x360 with 4 Axes>"
      ]
     },
     "metadata": {
      "needs_background": "light"
     },
     "output_type": "display_data"
    }
   ],
   "source": [
    "import matplotlib.pyplot as plt\n",
    "from matplotlib.ticker import PercentFormatter\n",
    "figure, ax = plt.subplots(1, 4, sharey=False, tight_layout=True, figsize=(15,5))\n",
    "\n",
    "# We can set the number of bins with the `bins` kwarg\n",
    "ax[0].hist(robbery_model_data_final_p['dyear'], bins=20, color = \"darkgoldenrod\", ec=\"darkgoldenrod\")\n",
    "ax[1].hist(robbery_model_data_final_p['dday'], bins=20, color = \"darkgoldenrod\", ec=\"darkgoldenrod\")\n",
    "ax[2].hist(robbery_model_data_final_p['dhour'], color = \"darkgoldenrod\", ec=\"darkgoldenrod\")\n",
    "ax[3].hist(pedestrian_model_data_final_p['HOUR'], bins=20, color = \"lightseagreen\", ec=\"lightseagreen\")\n",
    "\n",
    "ax[0].set_xlabel('Day of Year')\n",
    "ax[1].set_xlabel('Day of Month')\n",
    "ax[2].set_xlabel('Hour of Day')\n",
    "ax[3].set_xlabel('Hour of Day')\n",
    "\n",
    "save_results_to = 'C:/Users/jodyn/PycharmProjects/InsightFDS/notebooks/figures/'\n",
    "plt.savefig(save_results_to + 'Date-Histogram.png', dpi = 300)"
   ]
  },
  {
   "cell_type": "code",
   "execution_count": 239,
   "metadata": {},
   "outputs": [
    {
     "name": "stderr",
     "output_type": "stream",
     "text": [
      "C:\\Users\\jodyn\\anaconda3\\envs\\OSMNX\\lib\\site-packages\\ipykernel_launcher.py:31: UserWarning: Tight layout not applied. tight_layout cannot make axes width small enough to accommodate all axes decorations\n"
     ]
    },
    {
     "data": {
      "image/png": "[encoded data removed]",
      "text/plain": [
       "<Figure size 1080x360 with 10 Axes>"
      ]
     },
     "metadata": {
      "needs_background": "light"
     },
     "output_type": "display_data"
    }
   ],
   "source": [
    "figure, ((axs1,axs2,axs3,axs4,axs5),(axs6,axs7,axs8,axs9,axs10)) = plt.subplots(2, 5, sharey=False, tight_layout=True,\n",
    "                                                                                figsize=(15,5))\n",
    "\n",
    "figure.tight_layout()\n",
    "figure.tight_layout(pad=2.0)\n",
    "\n",
    "figure.get_axes()[0].annotate('Proximity of Mugging & Pedestrian Car Collisions to Other Features', (0.5, 0.95), \n",
    "                            xycoords='figure fraction', ha='center', \n",
    "                            fontsize=14\n",
    "                            )\n",
    "\n",
    "# We can set the number of bins with the `bins` kwarg\n",
    "axs1.hist(robbery_model_data_final_p['crossing'], bins=20, color = \"darkgoldenrod\", ec=\"darkgoldenrod\")\n",
    "axs2.hist(robbery_model_data_final_p['give_way'], bins=20, color = \"darkgoldenrod\", ec=\"darkgoldenrod\")\n",
    "axs3.hist(robbery_model_data_final_p['traffic_si'], bins=20, color = \"darkgoldenrod\", ec=\"darkgoldenrod\")\n",
    "axs4.hist(robbery_model_data_final_p['turning_lo'], bins=20, color = \"darkgoldenrod\", ec=\"darkgoldenrod\")\n",
    "axs5.hist(robbery_model_data_final_p['speed_came'], bins=20, color = \"darkgoldenrod\", ec=\"darkgoldenrod\")\n",
    "axs6.hist(pedestrian_model_data_final_p['crossing'], bins=20, color = \"lightseagreen\", ec=\"lightseagreen\")\n",
    "axs7.hist(pedestrian_model_data_final_p['give_way'], bins=20, color = \"lightseagreen\", ec=\"lightseagreen\")\n",
    "axs8.hist(pedestrian_model_data_final_p['traffic_si'], bins=20, color = \"lightseagreen\", ec=\"lightseagreen\")\n",
    "axs9.hist(pedestrian_model_data_final_p['turning_lo'], bins=20, color = \"lightseagreen\", ec=\"lightseagreen\")\n",
    "axs10.hist(pedestrian_model_data_final_p['speed_came'], bins=20, color = \"lightseagreen\", ec=\"lightseagreen\")\n",
    "\n",
    "axs6.set_xlabel('Crossing (m)')\n",
    "axs7.set_xlabel('Give Way (m)')\n",
    "axs8.set_xlabel('Traffic Signal (m)')\n",
    "axs9.set_xlabel('Turning Loop (m)')\n",
    "axs10.set_xlabel('Speed Camera (m)')\n",
    "\n",
    "save_results_to = 'C:/Users/jodyn/PycharmProjects/InsightFDS/notebooks/figures/'\n",
    "plt.savefig(save_results_to + 'Proximity-Histogram.png', dpi = 300)"
   ]
  },
  {
   "cell_type": "markdown",
   "metadata": {},
   "source": [
    "Adding some psedo data based on the ranges of what are in the occurrences"
   ]
  },
  {
   "cell_type": "code",
   "execution_count": 242,
   "metadata": {},
   "outputs": [
    {
     "name": "stdout",
     "output_type": "stream",
     "text": [
      "OBJECTID      0\n",
      "turning_lo    0\n",
      "dyear         0\n",
      "dday          0\n",
      "dhour         0\n",
      "Presence_A    0\n",
      "crossing      0\n",
      "give_way      0\n",
      "speed_came    0\n",
      "stop          0\n",
      "traffic_si    0\n",
      "Police_Div    0\n",
      "NHood_ID      0\n",
      "geometry      0\n",
      "Latitude      0\n",
      "Longitude     0\n",
      "Hood_ID       0\n",
      "dtype: int64\n"
     ]
    }
   ],
   "source": [
    "print(robbery_model_data_final.isnull().sum())"
   ]
  },
  {
   "cell_type": "code",
   "execution_count": 243,
   "metadata": {},
   "outputs": [
    {
     "data": {
      "text/plain": [
       "['Presence_A',\n",
       " 'dyear',\n",
       " 'dday',\n",
       " 'dhour',\n",
       " 'turning_lo',\n",
       " 'crossing',\n",
       " 'give_way',\n",
       " 'speed_came',\n",
       " 'stop',\n",
       " 'traffic_si',\n",
       " 'Police_Div',\n",
       " 'Hood_ID',\n",
       " 'geometry',\n",
       " 'Latitude',\n",
       " 'Longitude']"
      ]
     },
     "execution_count": 243,
     "metadata": {},
     "output_type": "execute_result"
    }
   ],
   "source": [
    "list(robbery_model_data_final.iloc[:,numpy.r_[5,2:5,1,6:12,16,13:16]])"
   ]
  },
  {
   "cell_type": "markdown",
   "metadata": {},
   "source": [
    "**Pedestrian**: I will drop visibility, first, then I will make dummy variables.\n",
    "**Robbery**: I wil drop the proximity features."
   ]
  },
  {
   "cell_type": "code",
   "execution_count": 245,
   "metadata": {},
   "outputs": [
    {
     "data": {
      "text/plain": [
       "1.0    6433\n",
       "0.0    6433\n",
       "Name: Presence_A, dtype: int64"
      ]
     },
     "execution_count": 245,
     "metadata": {},
     "output_type": "execute_result"
    }
   ],
   "source": [
    "# need some dummy variables for my categorical data\n",
    "# One-hot encode the data using pandas get_dummies\n",
    "robbery_model_data_dummies = pandas.get_dummies(pedestrian_model_data_final_arcmap)\n",
    "pedestrian_model_data_dummies = pandas.get_dummies(robbery_model_data_final_arcmap)\n",
    "\n",
    "# do I need to balance data?\n",
    "robbery_model_data_dummies.Presence_A.value_counts()"
   ]
  },
  {
   "cell_type": "code",
   "execution_count": 220,
   "metadata": {},
   "outputs": [
    {
     "data": {
      "text/plain": [
       "0.0    5141\n",
       "1.0    5141\n",
       "Name: Presence_A, dtype: int64"
      ]
     },
     "execution_count": 220,
     "metadata": {},
     "output_type": "execute_result"
    }
   ],
   "source": [
    "pedestrian_model_data_dummies.Presence_A.value_counts()"
   ]
  },
  {
   "cell_type": "markdown",
   "metadata": {},
   "source": [
    "# Saving Data for Predicting Probabilties"
   ]
  },
  {
   "cell_type": "code",
   "execution_count": 247,
   "metadata": {},
   "outputs": [],
   "source": [
    "import pickle\n",
    "robbery_model_data_dummies.to_pickle(\"C:/Users/jodyn/Google Drive/Insight Data Science/Insight/Processed Data/robbery_model_data_dummies_bal.pkl\")\n",
    "pedestrian_model_data_dummies.to_pickle(\"C:/Users/jodyn/Google Drive/Insight Data Science/Insight/Processed Data/pedestrian_model_data_dummies_bal.pkl\")"
   ]
  },
  {
   "cell_type": "code",
   "execution_count": null,
   "metadata": {},
   "outputs": [],
   "source": []
  }
 ],
 "metadata": {
  "kernelspec": {
   "display_name": "Python 3",
   "language": "python",
   "name": "python3"
  },
  "language_info": {
   "codemirror_mode": {
    "name": "ipython",
    "version": 3
   },
   "file_extension": ".py",
   "mimetype": "text/x-python",
   "name": "python",
   "nbconvert_exporter": "python",
   "pygments_lexer": "ipython3",
   "version": "3.7.6"
  }
 },
 "nbformat": 4,
 "nbformat_minor": 4
}
