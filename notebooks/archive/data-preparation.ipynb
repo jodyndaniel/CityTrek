{
 "cells": [
  {
   "cell_type": "markdown",
   "metadata": {},
   "source": [
    "# Scraping Safety Data - City of Toronto Police\n",
    "\n",
    "Because this is GEOJSON data, I could not use Beautifulsoup4. So, the processes below is really to import and convert to a pandas dataframe. Then, I can explore these data."
   ]
  },
  {
   "cell_type": "code",
   "execution_count": 1,
   "metadata": {},
   "outputs": [],
   "source": [
    "import osmnx  # to import and manage road netwrok data\n",
    "import geopandas  # needed get background data\n",
    "import requests  # for making standard html requests\n",
    "import pandas  # premier library for data organization\n",
    "import numpy  # for data manipulation\n",
    "import rasterstats # to interpolate raster data\n",
    "from random import shuffle # for managing psedoabsences\n",
    "\n",
    "URL_Robbery = 'https://opendata.arcgis.com/datasets/9115accc55f24938b4eb573dd222c33b_0.geojson'\n",
    "URL_Pedestrian = 'https://opendata.arcgis.com/datasets/1e8a71c533fb4b0aa522cf1b1236bee7_0.geojson'\n",
    "page_robbery = requests.get(URL_Robbery).json()\n",
    "page_pedestrian = requests.get(URL_Pedestrian).json()\n",
    "\n",
    "pedestrian_json_df = pandas.json_normalize(page_pedestrian['features'])\n",
    "robbery_json_df = pandas.json_normalize(page_robbery['features'])  "
   ]
  },
  {
   "cell_type": "markdown",
   "metadata": {},
   "source": [
    "Interested in the number of features and which columns I should keep."
   ]
  },
  {
   "cell_type": "code",
   "execution_count": 4,
   "metadata": {},
   "outputs": [
    {
     "data": {
      "text/plain": [
       "6484"
      ]
     },
     "execution_count": 4,
     "metadata": {},
     "output_type": "execute_result"
    }
   ],
   "source": [
    "list(pedestrian_json_df)\n",
    "len(pedestrian_json_df)"
   ]
  },
  {
   "cell_type": "code",
   "execution_count": 5,
   "metadata": {},
   "outputs": [
    {
     "data": {
      "text/plain": [
       "21543"
      ]
     },
     "execution_count": 5,
     "metadata": {},
     "output_type": "execute_result"
    }
   ],
   "source": [
    "list(robbery_json_df)\n",
    "len(robbery_json_df)"
   ]
  },
  {
   "cell_type": "markdown",
   "metadata": {},
   "source": [
    "Strange, but each column has a properties. prefix. Looks weird, so I am going to remove it"
   ]
  },
  {
   "cell_type": "code",
   "execution_count": 2,
   "metadata": {},
   "outputs": [],
   "source": [
    "pedestrian_json_df.columns = pedestrian_json_df.columns.str.lstrip('properties.')\n",
    "robbery_json_df.columns = robbery_json_df.columns.str.lstrip('properties.')"
   ]
  },
  {
   "cell_type": "markdown",
   "metadata": {},
   "source": [
    "Focusing on features that I believe are predictive."
   ]
  },
  {
   "cell_type": "code",
   "execution_count": 3,
   "metadata": {},
   "outputs": [],
   "source": [
    "pedestrian_df = pedestrian_json_df.iloc[:, numpy.r_[3,5,6, 10, 14,15, 19, 20]]\n",
    "robbery_df = robbery_json_df.iloc[:, numpy.r_[1:3, 9, 10, 11, 12, 13, 14, 5, 8, 22, 23, 25, 26]]"
   ]
  },
  {
   "cell_type": "markdown",
   "metadata": {},
   "source": [
    "I will subset the data. For the robbery data, I only want the mugging data because this is most applicable for pedestrians"
   ]
  },
  {
   "cell_type": "code",
   "execution_count": 4,
   "metadata": {},
   "outputs": [],
   "source": [
    "robbery_df_mugging = robbery_df.loc[robbery_df['ffence'] == 'Robbery - Mugging']  # 6847 rows\n",
    "robbery_df_mugging_outside = robbery_df_mugging.loc[robbery_df_mugging['misetype'] == 'Outside']  # 5141 rows"
   ]
  },
  {
   "cell_type": "markdown",
   "metadata": {},
   "source": [
    "Some features are unbalanced. I will remove accident locations with few observations (<10)\n"
   ]
  },
  {
   "cell_type": "code",
   "execution_count": 5,
   "metadata": {},
   "outputs": [],
   "source": [
    "pedestrian_df_road = pedestrian_df.loc[pedestrian_df['ROAD_CLASS'].isin(['Major Arterial', 'Minor Arterial',\n",
    "                                                                         'Collector', 'Local',\n",
    "                                                                         'Expressway'])]  # 4986 rows"
   ]
  },
  {
   "cell_type": "markdown",
   "metadata": {},
   "source": [
    "I will need to create geaodataframes many times, so a function will be best to make the code cleaner."
   ]
  },
  {
   "cell_type": "code",
   "execution_count": 6,
   "metadata": {},
   "outputs": [],
   "source": [
    "def create_gdf(df, Longitude, Latitude, projection):\n",
    "    return geopandas.GeoDataFrame(df, geometry=geopandas.points_from_xy(df[Longitude], df[Latitude]),\n",
    "                                  crs=projection)"
   ]
  },
  {
   "cell_type": "markdown",
   "metadata": {},
   "source": [
    "Need as spatial data to measure distance to features later."
   ]
  },
  {
   "cell_type": "code",
   "execution_count": 38,
   "metadata": {},
   "outputs": [],
   "source": [
    "robbery_points_gdf_2958 = create_gdf(df=robbery_df_mugging_outside,\n",
    "                                     Latitude=\"Lat\",\n",
    "                                     Longitude=\"Long\",\n",
    "                                     projection=\"EPSG:4326\")\n",
    "\n",
    "robbery_points_gdf_4326 = create_gdf(df=robbery_df_mugging_outside,\n",
    "                                     Latitude=\"Lat\",\n",
    "                                     Longitude=\"Long\",\n",
    "                                     projection=\"EPSG:4326\")\n",
    "robbery_points_gdf_2958 = robbery_points_gdf_2958.to_crs(epsg = 2958) \n",
    "pedestrian_points_gdf_2958 = create_gdf(df=pedestrian_df_road,\n",
    "                                     Latitude=\"LATITUDE\",\n",
    "                                     Longitude=\"LONGITUDE\",\n",
    "                                     projection=\"EPSG:4326\")\n",
    "\n",
    "pedestrian_points_gdf_4326 = create_gdf(df=pedestrian_df_road,\n",
    "                                        Latitude=\"LATITUDE\",\n",
    "                                        Longitude=\"LONGITUDE\",\n",
    "                                     projection=\"EPSG:4326\")\n",
    "pedestrian_points_gdf_2958 = pedestrian_points_gdf_2958.to_crs(epsg = 2958)  "
   ]
  },
  {
   "cell_type": "markdown",
   "metadata": {},
   "source": [
    "Need consistency in labelling for future analyses"
   ]
  },
  {
   "cell_type": "code",
   "execution_count": 39,
   "metadata": {},
   "outputs": [],
   "source": [
    "robbery_points_gdf_2958 = robbery_points_gdf_2958.rename(columns={\"Long\": \"Longitude\", \"Lat\": \"Latitude\"})\n",
    "robbery_points_gdf_4326 = robbery_points_gdf_4326.rename(columns={\"Long\": \"Longitude\", \"Lat\": \"Latitude\"})\n",
    "pedestrian_points_gdf_2958 = pedestrian_points_gdf_2958.rename(columns={\"LONGITUDE\": \"Longitude\", \"LATITUDE\": \"Latitude\"})\n",
    "pedestrian_points_gdf_4326 = pedestrian_points_gdf_4326.rename(columns={\"LONGITUDE\": \"Longitude\", \"LATITUDE\": \"Latitude\"})"
   ]
  },
  {
   "cell_type": "markdown",
   "metadata": {},
   "source": [
    "It will be easier to re-run making the psedoabsences if I make a function considering that I might extend to the GTA and not just Old Toronto."
   ]
  },
  {
   "cell_type": "code",
   "execution_count": 9,
   "metadata": {},
   "outputs": [],
   "source": [
    "def get_pseudoabsence_data(lat_min, lat_max, lon_min, lon_max, number_of_points):\n",
    "    numpy.random.seed(13)\n",
    "    pseudoabsence_latitudes = numpy.random.uniform(lat_min, lat_max, number_of_points)\n",
    "    pseudoabsence_longitudes = numpy.random.uniform(lon_min, lon_max, number_of_points)\n",
    "    pseudoabsences = pandas.DataFrame(numpy.transpose(numpy.array([pseudoabsence_longitudes, pseudoabsence_latitudes])),\n",
    "                                      columns=['Longitude', 'Latitude'])\n",
    "    return (pseudoabsences)"
   ]
  },
  {
   "cell_type": "markdown",
   "metadata": {},
   "source": [
    "Some of the background points will fall in the lake, so multipling by 4 to make sure I have enough falling on land. Then, I will convert to a spaital layer for later measuring distance to feature, which I will include in my predictive model."
   ]
  },
  {
   "cell_type": "code",
   "execution_count": 40,
   "metadata": {},
   "outputs": [],
   "source": [
    "robbery_backgroundpoints = get_pseudoabsence_data(lat_min=robbery_points_gdf_4326['Latitude'].min(),\n",
    "                                                  lat_max=robbery_points_gdf_4326['Latitude'].max(),\n",
    "                                                  lon_min=robbery_points_gdf_4326['Longitude'].min(),\n",
    "                                                  lon_max=robbery_points_gdf_4326['Longitude'].max(),\n",
    "                                                  number_of_points=len(robbery_points_gdf_4326) * 4)\n",
    "\n",
    "robbery_backgroundpoints_gdf_2958 = create_gdf(df=robbery_backgroundpoints,\n",
    "                                               Latitude=\"Latitude\",\n",
    "                                               Longitude=\"Longitude\",\n",
    "                                               projection=\"EPSG:4326\")\n",
    "robbery_backgroundpoints_gdf_4326 = create_gdf(df=robbery_backgroundpoints,\n",
    "                                               Latitude=\"Latitude\",\n",
    "                                               Longitude=\"Longitude\",\n",
    "                                               projection=\"EPSG:4326\")\n",
    "\n",
    "robbery_backgroundpoints_gdf_2958 = robbery_backgroundpoints_gdf_2958.to_crs(epsg = 2958) \n",
    "\n",
    "pedestrian_backgroundpoints = get_pseudoabsence_data(lat_min=pedestrian_points_gdf_4326['Latitude'].min(),\n",
    "                                                  lat_max=pedestrian_points_gdf_4326['Latitude'].max(),\n",
    "                                                  lon_min=pedestrian_points_gdf_4326['Longitude'].min(),\n",
    "                                                  lon_max=pedestrian_points_gdf_4326['Longitude'].max(),\n",
    "                                                  number_of_points=len(pedestrian_points_gdf_4326) * 4)\n",
    "\n",
    "pedestrian_backgroundpoints_gdf_2958 = create_gdf(df=pedestrian_backgroundpoints,\n",
    "                                               Latitude=\"Latitude\",\n",
    "                                               Longitude=\"Longitude\",\n",
    "                                               projection=\"EPSG:4326\")\n",
    "pedestrian_backgroundpoints_gdf_4326 = create_gdf(df=pedestrian_backgroundpoints,\n",
    "                                               Latitude=\"Latitude\",\n",
    "                                               Longitude=\"Longitude\",\n",
    "                                               projection=\"EPSG:4326\")\n",
    "\n",
    "pedestrian_backgroundpoints_gdf_2958 = pedestrian_backgroundpoints_gdf_2958.to_crs(epsg = 2958) "
   ]
  },
  {
   "cell_type": "markdown",
   "metadata": {},
   "source": [
    "Importing location Data to Measure Proximity transporation data to later measure distance to feature for regression/random forest need a UTM projection for distance to feature.\n"
   ]
  },
  {
   "cell_type": "code",
   "execution_count": 11,
   "metadata": {},
   "outputs": [
    {
     "data": {
      "image/png": "[encoded data removed]",
      "text/plain": [
       "<Figure size 432x432 with 1 Axes>"
      ]
     },
     "metadata": {
      "needs_background": "light"
     },
     "output_type": "display_data"
    },
    {
     "data": {
      "text/plain": [
       "(<Figure size 432x432 with 1 Axes>,\n",
       " <matplotlib.axes._subplots.AxesSubplot at 0x1ef36ff9988>)"
      ]
     },
     "execution_count": 11,
     "metadata": {},
     "output_type": "execute_result"
    }
   ],
   "source": [
    "place_name = 'City of Toronto'\n",
    "place_shape = osmnx.gdf_from_place(place_name)\n",
    "osmnx.plot_shape(osmnx.projection.project_gdf(place_shape))"
   ]
  },
  {
   "cell_type": "code",
   "execution_count": 12,
   "metadata": {},
   "outputs": [],
   "source": [
    "selected_tags = {'highway': True}\n",
    "stations_OldToronto = osmnx.pois_from_place(place = place_name, tags = selected_tags)"
   ]
  },
  {
   "cell_type": "markdown",
   "metadata": {},
   "source": [
    "Dropping some fetaures that I do not need some of them are polygons."
   ]
  },
  {
   "cell_type": "code",
   "execution_count": 13,
   "metadata": {},
   "outputs": [],
   "source": [
    "features_location_names = ['crossing', 'give_way', 'stop', 'traffic_signals', 'turning_loop', 'speed_camera']\n",
    "stations_OldToronto_4326 = stations_OldToronto[stations_OldToronto.highway.isin(features_location_names)]\n",
    "stations_OldToronto_4326 = stations_OldToronto_4326.iloc[:, numpy.r_[0, 1, 4]]"
   ]
  },
  {
   "cell_type": "code",
   "execution_count": 34,
   "metadata": {},
   "outputs": [
    {
     "data": {
      "text/html": [
       "<div>\n",
       "<style scoped>\n",
       "    .dataframe tbody tr th:only-of-type {\n",
       "        vertical-align: middle;\n",
       "    }\n",
       "\n",
       "    .dataframe tbody tr th {\n",
       "        vertical-align: top;\n",
       "    }\n",
       "\n",
       "    .dataframe thead th {\n",
       "        text-align: right;\n",
       "    }\n",
       "</style>\n",
       "<table border=\"1\" class=\"dataframe\">\n",
       "  <thead>\n",
       "    <tr style=\"text-align: right;\">\n",
       "      <th></th>\n",
       "      <th>osmid</th>\n",
       "      <th>geometry</th>\n",
       "      <th>highway</th>\n",
       "    </tr>\n",
       "  </thead>\n",
       "  <tbody>\n",
       "    <tr>\n",
       "      <th>1497993</th>\n",
       "      <td>1497993</td>\n",
       "      <td>POINT (-79.34694 43.75577)</td>\n",
       "      <td>traffic_signals</td>\n",
       "    </tr>\n",
       "    <tr>\n",
       "      <th>1497996</th>\n",
       "      <td>1497996</td>\n",
       "      <td>POINT (-79.34700 43.75864)</td>\n",
       "      <td>traffic_signals</td>\n",
       "    </tr>\n",
       "    <tr>\n",
       "      <th>1498001</th>\n",
       "      <td>1498001</td>\n",
       "      <td>POINT (-79.34711 43.76181)</td>\n",
       "      <td>traffic_signals</td>\n",
       "    </tr>\n",
       "    <tr>\n",
       "      <th>1498018</th>\n",
       "      <td>1498018</td>\n",
       "      <td>POINT (-79.34642 43.76957)</td>\n",
       "      <td>traffic_signals</td>\n",
       "    </tr>\n",
       "    <tr>\n",
       "      <th>1498033</th>\n",
       "      <td>1498033</td>\n",
       "      <td>POINT (-79.34698 43.77518)</td>\n",
       "      <td>traffic_signals</td>\n",
       "    </tr>\n",
       "    <tr>\n",
       "      <th>...</th>\n",
       "      <td>...</td>\n",
       "      <td>...</td>\n",
       "      <td>...</td>\n",
       "    </tr>\n",
       "    <tr>\n",
       "      <th>7610440483</th>\n",
       "      <td>7610440483</td>\n",
       "      <td>POINT (-79.34445 43.81395)</td>\n",
       "      <td>stop</td>\n",
       "    </tr>\n",
       "    <tr>\n",
       "      <th>7610456037</th>\n",
       "      <td>7610456037</td>\n",
       "      <td>POINT (-79.34185 43.81336)</td>\n",
       "      <td>stop</td>\n",
       "    </tr>\n",
       "    <tr>\n",
       "      <th>7610481617</th>\n",
       "      <td>7610481617</td>\n",
       "      <td>POINT (-79.34586 43.81410)</td>\n",
       "      <td>stop</td>\n",
       "    </tr>\n",
       "    <tr>\n",
       "      <th>7610601152</th>\n",
       "      <td>7610601152</td>\n",
       "      <td>POINT (-79.34996 43.81343)</td>\n",
       "      <td>crossing</td>\n",
       "    </tr>\n",
       "    <tr>\n",
       "      <th>7610601160</th>\n",
       "      <td>7610601160</td>\n",
       "      <td>POINT (-79.35532 43.81225)</td>\n",
       "      <td>crossing</td>\n",
       "    </tr>\n",
       "  </tbody>\n",
       "</table>\n",
       "<p>24316 rows × 3 columns</p>\n",
       "</div>"
      ],
      "text/plain": [
       "                 osmid                    geometry          highway\n",
       "1497993        1497993  POINT (-79.34694 43.75577)  traffic_signals\n",
       "1497996        1497996  POINT (-79.34700 43.75864)  traffic_signals\n",
       "1498001        1498001  POINT (-79.34711 43.76181)  traffic_signals\n",
       "1498018        1498018  POINT (-79.34642 43.76957)  traffic_signals\n",
       "1498033        1498033  POINT (-79.34698 43.77518)  traffic_signals\n",
       "...                ...                         ...              ...\n",
       "7610440483  7610440483  POINT (-79.34445 43.81395)             stop\n",
       "7610456037  7610456037  POINT (-79.34185 43.81336)             stop\n",
       "7610481617  7610481617  POINT (-79.34586 43.81410)             stop\n",
       "7610601152  7610601152  POINT (-79.34996 43.81343)         crossing\n",
       "7610601160  7610601160  POINT (-79.35532 43.81225)         crossing\n",
       "\n",
       "[24316 rows x 3 columns]"
      ]
     },
     "execution_count": 34,
     "metadata": {},
     "output_type": "execute_result"
    }
   ],
   "source": [
    "stations_OldToronto_4326"
   ]
  },
  {
   "cell_type": "markdown",
   "metadata": {},
   "source": [
    "Converting to other projections gives me errors, so the gemteory tab is in ESPG 2958, but it read in as ESPG 4326 I will need to covert this to a etract the x y data convert to a dataframe, then reproject."
   ]
  },
  {
   "cell_type": "code",
   "execution_count": 14,
   "metadata": {},
   "outputs": [],
   "source": [
    "stations_OldToronto_4326['x'] = stations_OldToronto_4326['geometry'].x\n",
    "stations_OldToronto_4326['y'] = stations_OldToronto_4326['geometry'].y\n",
    "stations_OldToronto_4326 = pandas.DataFrame(stations_OldToronto_4326)"
   ]
  },
  {
   "cell_type": "code",
   "execution_count": 36,
   "metadata": {},
   "outputs": [
    {
     "data": {
      "text/html": [
       "<div>\n",
       "<style scoped>\n",
       "    .dataframe tbody tr th:only-of-type {\n",
       "        vertical-align: middle;\n",
       "    }\n",
       "\n",
       "    .dataframe tbody tr th {\n",
       "        vertical-align: top;\n",
       "    }\n",
       "\n",
       "    .dataframe thead th {\n",
       "        text-align: right;\n",
       "    }\n",
       "</style>\n",
       "<table border=\"1\" class=\"dataframe\">\n",
       "  <thead>\n",
       "    <tr style=\"text-align: right;\">\n",
       "      <th></th>\n",
       "      <th>osmid</th>\n",
       "      <th>geometry</th>\n",
       "      <th>highway</th>\n",
       "      <th>x</th>\n",
       "      <th>y</th>\n",
       "    </tr>\n",
       "  </thead>\n",
       "  <tbody>\n",
       "    <tr>\n",
       "      <th>1497993</th>\n",
       "      <td>1497993</td>\n",
       "      <td>POINT (-79.34694 43.75577)</td>\n",
       "      <td>traffic_signals</td>\n",
       "      <td>-79.346939</td>\n",
       "      <td>43.755775</td>\n",
       "    </tr>\n",
       "    <tr>\n",
       "      <th>1497996</th>\n",
       "      <td>1497996</td>\n",
       "      <td>POINT (-79.34700 43.75864)</td>\n",
       "      <td>traffic_signals</td>\n",
       "      <td>-79.347003</td>\n",
       "      <td>43.758640</td>\n",
       "    </tr>\n",
       "    <tr>\n",
       "      <th>1498001</th>\n",
       "      <td>1498001</td>\n",
       "      <td>POINT (-79.34711 43.76181)</td>\n",
       "      <td>traffic_signals</td>\n",
       "      <td>-79.347105</td>\n",
       "      <td>43.761808</td>\n",
       "    </tr>\n",
       "    <tr>\n",
       "      <th>1498018</th>\n",
       "      <td>1498018</td>\n",
       "      <td>POINT (-79.34642 43.76957)</td>\n",
       "      <td>traffic_signals</td>\n",
       "      <td>-79.346419</td>\n",
       "      <td>43.769574</td>\n",
       "    </tr>\n",
       "    <tr>\n",
       "      <th>1498033</th>\n",
       "      <td>1498033</td>\n",
       "      <td>POINT (-79.34698 43.77518)</td>\n",
       "      <td>traffic_signals</td>\n",
       "      <td>-79.346985</td>\n",
       "      <td>43.775183</td>\n",
       "    </tr>\n",
       "    <tr>\n",
       "      <th>...</th>\n",
       "      <td>...</td>\n",
       "      <td>...</td>\n",
       "      <td>...</td>\n",
       "      <td>...</td>\n",
       "      <td>...</td>\n",
       "    </tr>\n",
       "    <tr>\n",
       "      <th>7610440483</th>\n",
       "      <td>7610440483</td>\n",
       "      <td>POINT (-79.34445 43.81395)</td>\n",
       "      <td>stop</td>\n",
       "      <td>-79.344446</td>\n",
       "      <td>43.813952</td>\n",
       "    </tr>\n",
       "    <tr>\n",
       "      <th>7610456037</th>\n",
       "      <td>7610456037</td>\n",
       "      <td>POINT (-79.34185 43.81336)</td>\n",
       "      <td>stop</td>\n",
       "      <td>-79.341849</td>\n",
       "      <td>43.813357</td>\n",
       "    </tr>\n",
       "    <tr>\n",
       "      <th>7610481617</th>\n",
       "      <td>7610481617</td>\n",
       "      <td>POINT (-79.34586 43.81410)</td>\n",
       "      <td>stop</td>\n",
       "      <td>-79.345855</td>\n",
       "      <td>43.814098</td>\n",
       "    </tr>\n",
       "    <tr>\n",
       "      <th>7610601152</th>\n",
       "      <td>7610601152</td>\n",
       "      <td>POINT (-79.34996 43.81343)</td>\n",
       "      <td>crossing</td>\n",
       "      <td>-79.349964</td>\n",
       "      <td>43.813427</td>\n",
       "    </tr>\n",
       "    <tr>\n",
       "      <th>7610601160</th>\n",
       "      <td>7610601160</td>\n",
       "      <td>POINT (-79.35532 43.81225)</td>\n",
       "      <td>crossing</td>\n",
       "      <td>-79.355315</td>\n",
       "      <td>43.812250</td>\n",
       "    </tr>\n",
       "  </tbody>\n",
       "</table>\n",
       "<p>24316 rows × 5 columns</p>\n",
       "</div>"
      ],
      "text/plain": [
       "                 osmid                    geometry          highway  \\\n",
       "1497993        1497993  POINT (-79.34694 43.75577)  traffic_signals   \n",
       "1497996        1497996  POINT (-79.34700 43.75864)  traffic_signals   \n",
       "1498001        1498001  POINT (-79.34711 43.76181)  traffic_signals   \n",
       "1498018        1498018  POINT (-79.34642 43.76957)  traffic_signals   \n",
       "1498033        1498033  POINT (-79.34698 43.77518)  traffic_signals   \n",
       "...                ...                         ...              ...   \n",
       "7610440483  7610440483  POINT (-79.34445 43.81395)             stop   \n",
       "7610456037  7610456037  POINT (-79.34185 43.81336)             stop   \n",
       "7610481617  7610481617  POINT (-79.34586 43.81410)             stop   \n",
       "7610601152  7610601152  POINT (-79.34996 43.81343)         crossing   \n",
       "7610601160  7610601160  POINT (-79.35532 43.81225)         crossing   \n",
       "\n",
       "                    x          y  \n",
       "1497993    -79.346939  43.755775  \n",
       "1497996    -79.347003  43.758640  \n",
       "1498001    -79.347105  43.761808  \n",
       "1498018    -79.346419  43.769574  \n",
       "1498033    -79.346985  43.775183  \n",
       "...               ...        ...  \n",
       "7610440483 -79.344446  43.813952  \n",
       "7610456037 -79.341849  43.813357  \n",
       "7610481617 -79.345855  43.814098  \n",
       "7610601152 -79.349964  43.813427  \n",
       "7610601160 -79.355315  43.812250  \n",
       "\n",
       "[24316 rows x 5 columns]"
      ]
     },
     "execution_count": 36,
     "metadata": {},
     "output_type": "execute_result"
    }
   ],
   "source": [
    "stations_OldToronto_4326"
   ]
  },
  {
   "cell_type": "markdown",
   "metadata": {},
   "source": [
    "Converting the node data to a geopanda dataframe so that I can extract elevation data."
   ]
  },
  {
   "cell_type": "code",
   "execution_count": 15,
   "metadata": {},
   "outputs": [],
   "source": [
    "stations_OldToronto_4326 = create_gdf(df=stations_OldToronto_4326,\n",
    "                                      Latitude=\"y\",\n",
    "                                      Longitude=\"x\",\n",
    "                                      projection=\"EPSG:4326\")\n",
    "stations_OldToronto_2958 = create_gdf(df=stations_OldToronto_4326,\n",
    "                                      Latitude=\"y\",\n",
    "                                      Longitude=\"x\",\n",
    "                                      projection=\"EPSG:4326\")\n",
    "stations_OldToronto_2958 = stations_OldToronto_4326.to_crs(epsg=2958) \n",
    "\n",
    "stations_OldToronto_2958 = stations_OldToronto_2958.iloc[:, numpy.r_[0, 1, 2]]\n",
    "stations_OldToronto_2958['x'] = stations_OldToronto_2958['geometry'].x\n",
    "stations_OldToronto_2958['y'] = stations_OldToronto_2958['geometry'].y"
   ]
  },
  {
   "cell_type": "code",
   "execution_count": 90,
   "metadata": {},
   "outputs": [
    {
     "data": {
      "text/html": [
       "<div>\n",
       "<style scoped>\n",
       "    .dataframe tbody tr th:only-of-type {\n",
       "        vertical-align: middle;\n",
       "    }\n",
       "\n",
       "    .dataframe tbody tr th {\n",
       "        vertical-align: top;\n",
       "    }\n",
       "\n",
       "    .dataframe thead th {\n",
       "        text-align: right;\n",
       "    }\n",
       "</style>\n",
       "<table border=\"1\" class=\"dataframe\">\n",
       "  <thead>\n",
       "    <tr style=\"text-align: right;\">\n",
       "      <th></th>\n",
       "      <th>osmid</th>\n",
       "      <th>geometry</th>\n",
       "      <th>highway</th>\n",
       "      <th>x</th>\n",
       "      <th>y</th>\n",
       "    </tr>\n",
       "  </thead>\n",
       "  <tbody>\n",
       "    <tr>\n",
       "      <th>20380905</th>\n",
       "      <td>20380905</td>\n",
       "      <td>POINT (627956.636 4841124.276)</td>\n",
       "      <td>traffic_signals</td>\n",
       "      <td>627956.635724</td>\n",
       "      <td>4.841124e+06</td>\n",
       "    </tr>\n",
       "    <tr>\n",
       "      <th>20380929</th>\n",
       "      <td>20380929</td>\n",
       "      <td>POINT (629167.988 4837269.518)</td>\n",
       "      <td>traffic_signals</td>\n",
       "      <td>629167.988125</td>\n",
       "      <td>4.837270e+06</td>\n",
       "    </tr>\n",
       "    <tr>\n",
       "      <th>20380931</th>\n",
       "      <td>20380931</td>\n",
       "      <td>POINT (625845.870 4836234.148)</td>\n",
       "      <td>traffic_signals</td>\n",
       "      <td>625845.869579</td>\n",
       "      <td>4.836234e+06</td>\n",
       "    </tr>\n",
       "    <tr>\n",
       "      <th>20380933</th>\n",
       "      <td>20380933</td>\n",
       "      <td>POINT (624867.775 4835913.706)</td>\n",
       "      <td>traffic_signals</td>\n",
       "      <td>624867.774586</td>\n",
       "      <td>4.835914e+06</td>\n",
       "    </tr>\n",
       "    <tr>\n",
       "      <th>20380934</th>\n",
       "      <td>20380934</td>\n",
       "      <td>POINT (623859.425 4835661.379)</td>\n",
       "      <td>traffic_signals</td>\n",
       "      <td>623859.425244</td>\n",
       "      <td>4.835661e+06</td>\n",
       "    </tr>\n",
       "    <tr>\n",
       "      <th>...</th>\n",
       "      <td>...</td>\n",
       "      <td>...</td>\n",
       "      <td>...</td>\n",
       "      <td>...</td>\n",
       "      <td>...</td>\n",
       "    </tr>\n",
       "    <tr>\n",
       "      <th>7598237115</th>\n",
       "      <td>7598237115</td>\n",
       "      <td>POINT (629996.218 4838648.193)</td>\n",
       "      <td>stop</td>\n",
       "      <td>629996.217563</td>\n",
       "      <td>4.838648e+06</td>\n",
       "    </tr>\n",
       "    <tr>\n",
       "      <th>7599063699</th>\n",
       "      <td>7599063699</td>\n",
       "      <td>POINT (632664.601 4834122.468)</td>\n",
       "      <td>traffic_signals</td>\n",
       "      <td>632664.600944</td>\n",
       "      <td>4.834122e+06</td>\n",
       "    </tr>\n",
       "    <tr>\n",
       "      <th>7599063700</th>\n",
       "      <td>7599063700</td>\n",
       "      <td>POINT (632694.101 4834100.709)</td>\n",
       "      <td>traffic_signals</td>\n",
       "      <td>632694.101193</td>\n",
       "      <td>4.834101e+06</td>\n",
       "    </tr>\n",
       "    <tr>\n",
       "      <th>7599063701</th>\n",
       "      <td>7599063701</td>\n",
       "      <td>POINT (632534.744 4834249.312)</td>\n",
       "      <td>traffic_signals</td>\n",
       "      <td>632534.744442</td>\n",
       "      <td>4.834249e+06</td>\n",
       "    </tr>\n",
       "    <tr>\n",
       "      <th>7599063702</th>\n",
       "      <td>7599063702</td>\n",
       "      <td>POINT (632732.608 4834106.072)</td>\n",
       "      <td>stop</td>\n",
       "      <td>632732.608195</td>\n",
       "      <td>4.834106e+06</td>\n",
       "    </tr>\n",
       "  </tbody>\n",
       "</table>\n",
       "<p>7716 rows × 5 columns</p>\n",
       "</div>"
      ],
      "text/plain": [
       "                 osmid                        geometry          highway  \\\n",
       "20380905      20380905  POINT (627956.636 4841124.276)  traffic_signals   \n",
       "20380929      20380929  POINT (629167.988 4837269.518)  traffic_signals   \n",
       "20380931      20380931  POINT (625845.870 4836234.148)  traffic_signals   \n",
       "20380933      20380933  POINT (624867.775 4835913.706)  traffic_signals   \n",
       "20380934      20380934  POINT (623859.425 4835661.379)  traffic_signals   \n",
       "...                ...                             ...              ...   \n",
       "7598237115  7598237115  POINT (629996.218 4838648.193)             stop   \n",
       "7599063699  7599063699  POINT (632664.601 4834122.468)  traffic_signals   \n",
       "7599063700  7599063700  POINT (632694.101 4834100.709)  traffic_signals   \n",
       "7599063701  7599063701  POINT (632534.744 4834249.312)  traffic_signals   \n",
       "7599063702  7599063702  POINT (632732.608 4834106.072)             stop   \n",
       "\n",
       "                        x             y  \n",
       "20380905    627956.635724  4.841124e+06  \n",
       "20380929    629167.988125  4.837270e+06  \n",
       "20380931    625845.869579  4.836234e+06  \n",
       "20380933    624867.774586  4.835914e+06  \n",
       "20380934    623859.425244  4.835661e+06  \n",
       "...                   ...           ...  \n",
       "7598237115  629996.217563  4.838648e+06  \n",
       "7599063699  632664.600944  4.834122e+06  \n",
       "7599063700  632694.101193  4.834101e+06  \n",
       "7599063701  632534.744442  4.834249e+06  \n",
       "7599063702  632732.608195  4.834106e+06  \n",
       "\n",
       "[7716 rows x 5 columns]"
      ]
     },
     "execution_count": 90,
     "metadata": {},
     "output_type": "execute_result"
    }
   ],
   "source": [
    "stations_OldToronto_2958"
   ]
  },
  {
   "cell_type": "markdown",
   "metadata": {},
   "source": [
    "I am only interested in a few proximity features for my application, and the function to measure distance needs the projection in espg 4362 + the x and y coordinates named as x y."
   ]
  },
  {
   "cell_type": "code",
   "execution_count": 38,
   "metadata": {},
   "outputs": [
    {
     "data": {
      "text/html": [
       "<div>\n",
       "<style scoped>\n",
       "    .dataframe tbody tr th:only-of-type {\n",
       "        vertical-align: middle;\n",
       "    }\n",
       "\n",
       "    .dataframe tbody tr th {\n",
       "        vertical-align: top;\n",
       "    }\n",
       "\n",
       "    .dataframe thead th {\n",
       "        text-align: right;\n",
       "    }\n",
       "</style>\n",
       "<table border=\"1\" class=\"dataframe\">\n",
       "  <thead>\n",
       "    <tr style=\"text-align: right;\">\n",
       "      <th></th>\n",
       "      <th>osmid</th>\n",
       "      <th>geometry</th>\n",
       "      <th>highway</th>\n",
       "      <th>x</th>\n",
       "      <th>y</th>\n",
       "    </tr>\n",
       "  </thead>\n",
       "  <tbody>\n",
       "    <tr>\n",
       "      <th>1497993</th>\n",
       "      <td>1497993</td>\n",
       "      <td>POINT (-79.34694 43.75577)</td>\n",
       "      <td>traffic_signals</td>\n",
       "      <td>-79.346939</td>\n",
       "      <td>43.755775</td>\n",
       "    </tr>\n",
       "    <tr>\n",
       "      <th>1497996</th>\n",
       "      <td>1497996</td>\n",
       "      <td>POINT (-79.34700 43.75864)</td>\n",
       "      <td>traffic_signals</td>\n",
       "      <td>-79.347003</td>\n",
       "      <td>43.758640</td>\n",
       "    </tr>\n",
       "    <tr>\n",
       "      <th>1498001</th>\n",
       "      <td>1498001</td>\n",
       "      <td>POINT (-79.34711 43.76181)</td>\n",
       "      <td>traffic_signals</td>\n",
       "      <td>-79.347105</td>\n",
       "      <td>43.761808</td>\n",
       "    </tr>\n",
       "    <tr>\n",
       "      <th>1498018</th>\n",
       "      <td>1498018</td>\n",
       "      <td>POINT (-79.34642 43.76957)</td>\n",
       "      <td>traffic_signals</td>\n",
       "      <td>-79.346419</td>\n",
       "      <td>43.769574</td>\n",
       "    </tr>\n",
       "    <tr>\n",
       "      <th>1498033</th>\n",
       "      <td>1498033</td>\n",
       "      <td>POINT (-79.34698 43.77518)</td>\n",
       "      <td>traffic_signals</td>\n",
       "      <td>-79.346985</td>\n",
       "      <td>43.775183</td>\n",
       "    </tr>\n",
       "    <tr>\n",
       "      <th>...</th>\n",
       "      <td>...</td>\n",
       "      <td>...</td>\n",
       "      <td>...</td>\n",
       "      <td>...</td>\n",
       "      <td>...</td>\n",
       "    </tr>\n",
       "    <tr>\n",
       "      <th>7610440483</th>\n",
       "      <td>7610440483</td>\n",
       "      <td>POINT (-79.34445 43.81395)</td>\n",
       "      <td>stop</td>\n",
       "      <td>-79.344446</td>\n",
       "      <td>43.813952</td>\n",
       "    </tr>\n",
       "    <tr>\n",
       "      <th>7610456037</th>\n",
       "      <td>7610456037</td>\n",
       "      <td>POINT (-79.34185 43.81336)</td>\n",
       "      <td>stop</td>\n",
       "      <td>-79.341849</td>\n",
       "      <td>43.813357</td>\n",
       "    </tr>\n",
       "    <tr>\n",
       "      <th>7610481617</th>\n",
       "      <td>7610481617</td>\n",
       "      <td>POINT (-79.34586 43.81410)</td>\n",
       "      <td>stop</td>\n",
       "      <td>-79.345855</td>\n",
       "      <td>43.814098</td>\n",
       "    </tr>\n",
       "    <tr>\n",
       "      <th>7610601152</th>\n",
       "      <td>7610601152</td>\n",
       "      <td>POINT (-79.34996 43.81343)</td>\n",
       "      <td>crossing</td>\n",
       "      <td>-79.349964</td>\n",
       "      <td>43.813427</td>\n",
       "    </tr>\n",
       "    <tr>\n",
       "      <th>7610601160</th>\n",
       "      <td>7610601160</td>\n",
       "      <td>POINT (-79.35532 43.81225)</td>\n",
       "      <td>crossing</td>\n",
       "      <td>-79.355315</td>\n",
       "      <td>43.812250</td>\n",
       "    </tr>\n",
       "  </tbody>\n",
       "</table>\n",
       "<p>24316 rows × 5 columns</p>\n",
       "</div>"
      ],
      "text/plain": [
       "                 osmid                    geometry          highway  \\\n",
       "1497993        1497993  POINT (-79.34694 43.75577)  traffic_signals   \n",
       "1497996        1497996  POINT (-79.34700 43.75864)  traffic_signals   \n",
       "1498001        1498001  POINT (-79.34711 43.76181)  traffic_signals   \n",
       "1498018        1498018  POINT (-79.34642 43.76957)  traffic_signals   \n",
       "1498033        1498033  POINT (-79.34698 43.77518)  traffic_signals   \n",
       "...                ...                         ...              ...   \n",
       "7610440483  7610440483  POINT (-79.34445 43.81395)             stop   \n",
       "7610456037  7610456037  POINT (-79.34185 43.81336)             stop   \n",
       "7610481617  7610481617  POINT (-79.34586 43.81410)             stop   \n",
       "7610601152  7610601152  POINT (-79.34996 43.81343)         crossing   \n",
       "7610601160  7610601160  POINT (-79.35532 43.81225)         crossing   \n",
       "\n",
       "                    x          y  \n",
       "1497993    -79.346939  43.755775  \n",
       "1497996    -79.347003  43.758640  \n",
       "1498001    -79.347105  43.761808  \n",
       "1498018    -79.346419  43.769574  \n",
       "1498033    -79.346985  43.775183  \n",
       "...               ...        ...  \n",
       "7610440483 -79.344446  43.813952  \n",
       "7610456037 -79.341849  43.813357  \n",
       "7610481617 -79.345855  43.814098  \n",
       "7610601152 -79.349964  43.813427  \n",
       "7610601160 -79.355315  43.812250  \n",
       "\n",
       "[24316 rows x 5 columns]"
      ]
     },
     "execution_count": 38,
     "metadata": {},
     "output_type": "execute_result"
    }
   ],
   "source": [
    "stations_OldToronto_4326"
   ]
  },
  {
   "cell_type": "code",
   "execution_count": 19,
   "metadata": {},
   "outputs": [],
   "source": [
    "stations_OldToronto_md = stations_OldToronto_4326"
   ]
  },
  {
   "cell_type": "markdown",
   "metadata": {},
   "source": [
    "# Generating proximity features for logistic regression/random forest"
   ]
  },
  {
   "cell_type": "markdown",
   "metadata": {},
   "source": [
    "I was not able to find a function in python that allows me to easily measure proximity features, so I am going to use a function I found online. "
   ]
  },
  {
   "cell_type": "code",
   "execution_count": 20,
   "metadata": {},
   "outputs": [],
   "source": [
    "from sklearn.neighbors import BallTree\n",
    "def get_nearest(src_points, candidates, k_neighbors=1):\n",
    "    \"\"\"Find nearest neighbors for all source points from a set of candidate points\"\"\"\n",
    "\n",
    "    # Create tree from the candidate points\n",
    "    tree = BallTree(candidates, leaf_size=15, metric='haversine')\n",
    "\n",
    "    # Find closest points and distances\n",
    "    distances, indices = tree.query(src_points, k=k_neighbors)\n",
    "\n",
    "    # Transpose to get distances and indices into arrays\n",
    "    distances = distances.transpose()\n",
    "    indices = indices.transpose()\n",
    "\n",
    "    # Get closest indices and distances (i.e. array at index 0)\n",
    "    # note: for the second closest points, you would take index 1, etc.\n",
    "    closest = indices[0]\n",
    "    closest_dist = distances[0]\n",
    "\n",
    "    # Return indices and distances\n",
    "    return (closest, closest_dist)\n",
    "\n",
    "\n",
    "def nearest_neighbor(left_gdf, right_gdf, return_dist=False):\n",
    "    \"\"\"\n",
    "    For each point in left_gdf, find closest point in right GeoDataFrame and return them.\n",
    "\n",
    "    NOTICE: Assumes that the input Points are in WGS84 projection (lat/lon).\n",
    "    \"\"\"\n",
    "\n",
    "    left_geom_col = left_gdf.geometry.name\n",
    "    right_geom_col = right_gdf.geometry.name\n",
    "\n",
    "    # Ensure that index in right gdf is formed of sequential numbers\n",
    "    right = right_gdf.copy().reset_index(drop=True)\n",
    "\n",
    "    # Parse coordinates from points and insert them into a numpy array as RADIANS\n",
    "    left_radians = numpy.array(\n",
    "        left_gdf[left_geom_col].apply(lambda geom: (geom.x * numpy.pi / 180, geom.y * numpy.pi / 180)).to_list())\n",
    "    right_radians = numpy.array(\n",
    "        right[right_geom_col].apply(lambda geom: (geom.x * numpy.pi / 180, geom.y * numpy.pi / 180)).to_list())\n",
    "\n",
    "    # Find the nearest points\n",
    "    # -----------------------\n",
    "    # closest ==> index in right_gdf that corresponds to the closest point\n",
    "    # dist ==> distance between the nearest neighbors (in meters)\n",
    "\n",
    "    closest, dist = get_nearest(src_points=left_radians, candidates=right_radians)\n",
    "\n",
    "    # Return points from right GeoDataFrame that are closest to points in left GeoDataFrame\n",
    "    closest_points = right.loc[closest]\n",
    "\n",
    "    # Ensure that the index corresponds the one in left_gdf\n",
    "    closest_points = closest_points.reset_index(drop=True)\n",
    "\n",
    "    # Add distance if requested\n",
    "    if return_dist:\n",
    "        # Convert to meters from radians\n",
    "        earth_radius = 6371000  # meters\n",
    "        closest_points['distance'] = dist * earth_radius\n",
    "\n",
    "    return closest_points"
   ]
  },
  {
   "cell_type": "markdown",
   "metadata": {},
   "source": [
    "Find closest public transport stop for each building and get also the distance based on haversine distance.**Note**:haversine distance, which is implemented here is a bit slower than using e.g. 'euclidean' metric but useful as we get the distance between points in meters."
   ]
  },
  {
   "cell_type": "code",
   "execution_count": 41,
   "metadata": {},
   "outputs": [],
   "source": [
    "for i in features_location_names:\n",
    "    robbery_backgroundpoints_gdf_4326[i] = nearest_neighbor(robbery_backgroundpoints_gdf_4326,\n",
    "                                                            stations_OldToronto_md.loc[\n",
    "                                                                stations_OldToronto_md['highway'] == i],\n",
    "                                                            return_dist=True)['distance']\n",
    "    robbery_points_gdf_4326[i] = nearest_neighbor(robbery_points_gdf_4326,\n",
    "                                                  stations_OldToronto_md.loc[\n",
    "                                                      stations_OldToronto_md['highway'] == i],\n",
    "                                                  return_dist=True)['distance']\n",
    "\n",
    "for i in features_location_names:\n",
    "    pedestrian_backgroundpoints_gdf_4326[i] = nearest_neighbor(pedestrian_backgroundpoints_gdf_4326,\n",
    "                                                            stations_OldToronto_md.loc[\n",
    "                                                                stations_OldToronto_md['highway'] == i],\n",
    "                                                            return_dist=True)['distance']\n",
    "    pedestrian_points_gdf_4326[i] = nearest_neighbor(pedestrian_points_gdf_4326,\n",
    "                                                  stations_OldToronto_md.loc[\n",
    "                                                      stations_OldToronto_md['highway'] == i],\n",
    "                                                  return_dist=True)['distance']"
   ]
  },
  {
   "cell_type": "markdown",
   "metadata": {},
   "source": [
    "Adding some psedo data based on the ranges of what are in the occurrences"
   ]
  },
  {
   "cell_type": "code",
   "execution_count": 42,
   "metadata": {},
   "outputs": [],
   "source": [
    "special = list(set(list(robbery_points_gdf_4326)) - set(list(robbery_backgroundpoints_gdf_4326)))\n",
    "for i in special:\n",
    "    longer = list(robbery_points_gdf_4326[i].unique())\n",
    "    call = numpy.repeat(longer,\n",
    "                        len(robbery_backgroundpoints_gdf_4326) / len(longer) * 2)\n",
    "    shuffle(call)\n",
    "    robbery_backgroundpoints_gdf_4326[i] = call[0:len(robbery_backgroundpoints_gdf_4326)]\n",
    "\n",
    "robbery_points_gdf_4326['Presence_Absence'] = numpy.repeat(1,\n",
    "                                                           len(robbery_points_gdf_4326))\n",
    "robbery_backgroundpoints_gdf_4326['Presence_Absence'] = numpy.repeat(0,\n",
    "                                                                     len(robbery_backgroundpoints_gdf_4326))\n",
    "\n",
    "special = list(set(list(pedestrian_points_gdf_4326)) - set(list(pedestrian_backgroundpoints_gdf_4326)))\n",
    "for i in special:\n",
    "    longer = list(pedestrian_points_gdf_4326[i].unique())\n",
    "    call = numpy.repeat(longer,\n",
    "                        len(pedestrian_backgroundpoints_gdf_4326) / len(longer) * 2)\n",
    "    shuffle(call)\n",
    "    pedestrian_backgroundpoints_gdf_4326[i] = call[0:len(pedestrian_backgroundpoints_gdf_4326)]\n",
    "\n",
    "pedestrian_points_gdf_4326['Presence_Absence'] = numpy.repeat(1,\n",
    "                                                           len(pedestrian_points_gdf_4326))\n",
    "pedestrian_backgroundpoints_gdf_4326['Presence_Absence'] = numpy.repeat(0,\n",
    "                                                                     len(pedestrian_backgroundpoints_gdf_4326))"
   ]
  },
  {
   "cell_type": "code",
   "execution_count": 57,
   "metadata": {},
   "outputs": [
    {
     "data": {
      "text/plain": [
       "0    20564\n",
       "1     5141\n",
       "Name: Presence_Absence, dtype: int64"
      ]
     },
     "execution_count": 57,
     "metadata": {},
     "output_type": "execute_result"
    }
   ],
   "source": [
    "# now we can combine both data sets and\n",
    "robbery_model_data = robbery_points_gdf_4326.append(\n",
    "    pandas.DataFrame(data=robbery_backgroundpoints_gdf_4326),\n",
    "    ignore_index=True)\n",
    "robbery_model_data_final = robbery_model_data.iloc[:, numpy.r_[0, 2:len(list(robbery_model_data))]]\n",
    "robbery_model_data_final.Presence_Absence.value_counts()"
   ]
  },
  {
   "cell_type": "code",
   "execution_count": 46,
   "metadata": {},
   "outputs": [
    {
     "data": {
      "text/plain": [
       "0    25732\n",
       "1     6433\n",
       "Name: Presence_Absence, dtype: int64"
      ]
     },
     "execution_count": 46,
     "metadata": {},
     "output_type": "execute_result"
    }
   ],
   "source": [
    "pedestrian_model_data = pedestrian_points_gdf_4326.append(\n",
    "    pandas.DataFrame(data=pedestrian_backgroundpoints_gdf_4326),\n",
    "    ignore_index=True)\n",
    "pedestrian_model_data_final = pedestrian_model_data.iloc[:, numpy.r_[0, 2:len(list(pedestrian_model_data))]]\n",
    "pedestrian_model_data_final.Presence_Absence.value_counts()"
   ]
  },
  {
   "cell_type": "code",
   "execution_count": 47,
   "metadata": {},
   "outputs": [
    {
     "name": "stdout",
     "output_type": "stream",
     "text": [
      "YEAR                   0\n",
      "HOUR                   0\n",
      "ROAD_CLASS             0\n",
      "Latitude               0\n",
      "Longitude              0\n",
      "VISIBILITY          2869\n",
      "LIGHT                  0\n",
      "geometry               0\n",
      "crossing              51\n",
      "give_way              51\n",
      "stop                  51\n",
      "traffic_signals       51\n",
      "turning_loop          51\n",
      "speed_camera          51\n",
      "Presence_Absence       0\n",
      "dtype: int64\n"
     ]
    }
   ],
   "source": [
    "print(pedestrian_model_data_final.isnull().sum())"
   ]
  },
  {
   "cell_type": "code",
   "execution_count": 27,
   "metadata": {},
   "outputs": [
    {
     "data": {
      "text/plain": [
       "['YEAR',\n",
       " 'HOUR',\n",
       " 'Latitude',\n",
       " 'Longitude',\n",
       " 'crossing',\n",
       " 'give_way',\n",
       " 'stop',\n",
       " 'traffic_signals',\n",
       " 'turning_loop',\n",
       " 'speed_camera',\n",
       " 'Presence_Absence',\n",
       " 'ROAD_CLASS_Collector',\n",
       " 'ROAD_CLASS_Expressway',\n",
       " 'ROAD_CLASS_Local',\n",
       " 'ROAD_CLASS_Major Arterial',\n",
       " 'ROAD_CLASS_Minor Arterial',\n",
       " 'LIGHT_Dark',\n",
       " 'LIGHT_Dark, artificial',\n",
       " 'LIGHT_Dawn',\n",
       " 'LIGHT_Dawn, artificial',\n",
       " 'LIGHT_Daylight',\n",
       " 'LIGHT_Daylight, artificial',\n",
       " 'LIGHT_Dusk',\n",
       " 'LIGHT_Dusk, artificial',\n",
       " 'LIGHT_Other']"
      ]
     },
     "execution_count": 27,
     "metadata": {},
     "output_type": "execute_result"
    }
   ],
   "source": [
    "list(pandas.get_dummies(pedestrian_model_data_final.iloc[:,numpy.r_[0:5,6,8:15]]))"
   ]
  },
  {
   "cell_type": "code",
   "execution_count": 58,
   "metadata": {},
   "outputs": [
    {
     "name": "stdout",
     "output_type": "stream",
     "text": [
      "Index_                 0\n",
      "dyear                  0\n",
      "dmonth                 0\n",
      "dday                   0\n",
      "ddayofyear             0\n",
      "ddayofweek             0\n",
      "dhour                  0\n",
      "misetype               0\n",
      "ffence                 0\n",
      "Division               0\n",
      "Hood_ID                0\n",
      "Longitude              0\n",
      "Latitude               0\n",
      "geometry               0\n",
      "crossing            3794\n",
      "give_way            3794\n",
      "stop                3794\n",
      "traffic_signals     3794\n",
      "turning_loop        3794\n",
      "speed_camera        3794\n",
      "Presence_Absence       0\n",
      "dtype: int64\n"
     ]
    }
   ],
   "source": [
    "print(robbery_model_data_final.isnull().sum())"
   ]
  },
  {
   "cell_type": "code",
   "execution_count": 59,
   "metadata": {},
   "outputs": [
    {
     "data": {
      "text/plain": [
       "['dyear',\n",
       " 'dday',\n",
       " 'ddayofyear',\n",
       " 'dhour',\n",
       " 'Hood_ID',\n",
       " 'Longitude',\n",
       " 'Latitude',\n",
       " 'Presence_Absence',\n",
       " 'Division_D11',\n",
       " 'Division_D12',\n",
       " 'Division_D13',\n",
       " 'Division_D14',\n",
       " 'Division_D22',\n",
       " 'Division_D23',\n",
       " 'Division_D31',\n",
       " 'Division_D32',\n",
       " 'Division_D33',\n",
       " 'Division_D41',\n",
       " 'Division_D42',\n",
       " 'Division_D43',\n",
       " 'Division_D51',\n",
       " 'Division_D52',\n",
       " 'Division_D53',\n",
       " 'Division_D54',\n",
       " 'Division_D55']"
      ]
     },
     "execution_count": 59,
     "metadata": {},
     "output_type": "execute_result"
    }
   ],
   "source": [
    "list(pandas.get_dummies(robbery_model_data_final.iloc[:,numpy.r_[1,3,4,6,9,10,11,12,20]]))"
   ]
  },
  {
   "cell_type": "markdown",
   "metadata": {},
   "source": [
    "**Pedestrian**: I will drop visibility, first, then I will make dummy variables.\n",
    "**Robbery**: I wil drop the proximity features."
   ]
  },
  {
   "cell_type": "code",
   "execution_count": 60,
   "metadata": {},
   "outputs": [
    {
     "data": {
      "text/plain": [
       "0    20564\n",
       "1     5141\n",
       "Name: Presence_Absence, dtype: int64"
      ]
     },
     "execution_count": 60,
     "metadata": {},
     "output_type": "execute_result"
    }
   ],
   "source": [
    "# need some dummy variables for my categorical data\n",
    "# One-hot encode the data using pandas get_dummies\n",
    "robbery_model_data_dummies = pandas.get_dummies(robbery_model_data_final.iloc[:,numpy.r_[1,3,4,6,9,10,11,12,20]])\n",
    "pedestrian_model_data_dummies = pandas.get_dummies(pedestrian_model_data_final.iloc[:,numpy.r_[0:5,6,8:15]])\n",
    "# NAs will give errors, so need to drop them\n",
    "for i in list(robbery_model_data_dummies):\n",
    "    robbery_model_data_dummies.dropna(subset=[i], inplace=True)\n",
    "for i in list(pedestrian_model_data_dummies):\n",
    "    pedestrian_model_data_dummies.dropna(subset=[i], inplace=True)\n",
    "\n",
    "# do I need to balance data?\n",
    "robbery_model_data_dummies.Presence_Absence.value_counts()"
   ]
  },
  {
   "cell_type": "code",
   "execution_count": 61,
   "metadata": {},
   "outputs": [
    {
     "data": {
      "text/plain": [
       "0    25732\n",
       "1     6382\n",
       "Name: Presence_Absence, dtype: int64"
      ]
     },
     "execution_count": 61,
     "metadata": {},
     "output_type": "execute_result"
    }
   ],
   "source": [
    "pedestrian_model_data_dummies.Presence_Absence.value_counts()"
   ]
  },
  {
   "cell_type": "code",
   "execution_count": 62,
   "metadata": {},
   "outputs": [],
   "source": [
    "# combining the psedo absences and and occurences\n",
    "pedestrian_model_data_dummies_p = pedestrian_model_data_dummies.loc[\n",
    "    pedestrian_model_data_dummies[\"Presence_Absence\"] == 1]\n",
    "pedestrian_model_data_dummies_a = pedestrian_model_data_dummies.loc[\n",
    "    pedestrian_model_data_dummies[\"Presence_Absence\"] == 0]\n",
    "pedestrian_model_data_dummies_a = pedestrian_model_data_dummies_a.sample(n=len(pedestrian_model_data_dummies_p))\n",
    "pedestrian_model_data_dummies_bal = pedestrian_model_data_dummies_p.append(\n",
    "    pandas.DataFrame(data=pedestrian_model_data_dummies_a),\n",
    "    ignore_index=True)\n",
    "\n",
    "\n",
    "robbery_model_data_dummies_p = robbery_model_data_dummies.loc[\n",
    "    robbery_model_data_dummies[\"Presence_Absence\"] == 1]\n",
    "robbery_model_data_dummies_a = robbery_model_data_dummies.loc[\n",
    "    robbery_model_data_dummies[\"Presence_Absence\"] == 0]\n",
    "robbery_model_data_dummies_a = robbery_model_data_dummies_a.sample(n=len(robbery_model_data_dummies_p))\n",
    "robbery_model_data_dummies_bal = robbery_model_data_dummies_p.append(\n",
    "    pandas.DataFrame(data=robbery_model_data_dummies_a),\n",
    "    ignore_index=True)"
   ]
  },
  {
   "cell_type": "code",
   "execution_count": 63,
   "metadata": {},
   "outputs": [
    {
     "data": {
      "text/plain": [
       "1    5141\n",
       "0    5141\n",
       "Name: Presence_Absence, dtype: int64"
      ]
     },
     "execution_count": 63,
     "metadata": {},
     "output_type": "execute_result"
    }
   ],
   "source": [
    "robbery_model_data_dummies_bal.Presence_Absence.value_counts()"
   ]
  },
  {
   "cell_type": "code",
   "execution_count": 64,
   "metadata": {},
   "outputs": [
    {
     "data": {
      "text/plain": [
       "['dyear',\n",
       " 'dday',\n",
       " 'ddayofyear',\n",
       " 'dhour',\n",
       " 'Hood_ID',\n",
       " 'Longitude',\n",
       " 'Latitude',\n",
       " 'Presence_Absence',\n",
       " 'Division_D11',\n",
       " 'Division_D12',\n",
       " 'Division_D13',\n",
       " 'Division_D14',\n",
       " 'Division_D22',\n",
       " 'Division_D23',\n",
       " 'Division_D31',\n",
       " 'Division_D32',\n",
       " 'Division_D33',\n",
       " 'Division_D41',\n",
       " 'Division_D42',\n",
       " 'Division_D43',\n",
       " 'Division_D51',\n",
       " 'Division_D52',\n",
       " 'Division_D53',\n",
       " 'Division_D54',\n",
       " 'Division_D55']"
      ]
     },
     "execution_count": 64,
     "metadata": {},
     "output_type": "execute_result"
    }
   ],
   "source": [
    "list(robbery_model_data_dummies_bal)"
   ]
  },
  {
   "cell_type": "code",
   "execution_count": 65,
   "metadata": {},
   "outputs": [
    {
     "data": {
      "text/plain": [
       "1    6382\n",
       "0    6382\n",
       "Name: Presence_Absence, dtype: int64"
      ]
     },
     "execution_count": 65,
     "metadata": {},
     "output_type": "execute_result"
    }
   ],
   "source": [
    "pedestrian_model_data_dummies_bal.Presence_Absence.value_counts()"
   ]
  },
  {
   "cell_type": "markdown",
   "metadata": {},
   "source": [
    "# Saving Data for Predicting Probabilties"
   ]
  },
  {
   "cell_type": "code",
   "execution_count": 66,
   "metadata": {},
   "outputs": [],
   "source": [
    "import pickle\n",
    "robbery_model_data_dummies_bal.to_pickle(\"C:/Users/jodyn/Google Drive/Insight/Processed Data/robbery_model_data_dummies_bal.pkl\")\n",
    "pedestrian_model_data_dummies_bal.to_pickle(\"C:/Users/jodyn/Google Drive/Insight/Processed Data/pedestrian_model_data_dummies_bal.pkl\")"
   ]
  },
  {
   "cell_type": "code",
   "execution_count": null,
   "metadata": {},
   "outputs": [],
   "source": []
  }
 ],
 "metadata": {
  "kernelspec": {
   "display_name": "Python 3",
   "language": "python",
   "name": "python3"
  },
  "language_info": {
   "codemirror_mode": {
    "name": "ipython",
    "version": 3
   },
   "file_extension": ".py",
   "mimetype": "text/x-python",
   "name": "python",
   "nbconvert_exporter": "python",
   "pygments_lexer": "ipython3",
   "version": "3.7.6"
  }
 },
 "nbformat": 4,
 "nbformat_minor": 4
}
