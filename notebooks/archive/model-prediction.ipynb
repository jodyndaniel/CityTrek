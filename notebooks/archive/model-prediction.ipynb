{
 "cells": [
  {
   "cell_type": "markdown",
   "metadata": {},
   "source": [
    "# Predicting the Probability of Mugging & Pedestrian Car Collision"
   ]
  },
  {
   "cell_type": "markdown",
   "metadata": {},
   "source": [
    "I am interested in finding the best model. But first, I will use default settings. Then, I will use grid search to narrow down the paramerters I should use. Finally, I will compare this best model to the one produced by the default settings. I am going to try logistic regression and random forest."
   ]
  },
  {
   "cell_type": "code",
   "execution_count": 2,
   "metadata": {},
   "outputs": [],
   "source": [
    "from sklearn.model_selection import train_test_split # to measure within momdel acuracy\n",
    "from sklearn.preprocessing import StandardScaler # need to scale data for logistic regression\n",
    "from sklearn.linear_model import LogisticRegression\n",
    "from sklearn.ensemble  import RandomForestClassifier\n",
    "from sklearn.metrics import classification_report\n",
    "import pandas\n",
    "from sklearn.model_selection import GridSearchCV\n",
    "from sklearn.model_selection import RandomizedSearchCV\n",
    "import osmnx\n",
    "import pickle\n",
    "import folium\n",
    "from sklearn.pipeline import Pipeline\n",
    "from sklearn.ensemble import RandomForestClassifier\n",
    "import numpy\n",
    "import time\n",
    "import geopandas\n",
    "from scipy import ndimage, interpolate\n",
    "from photutils.utils import ShepardIDWInterpolator "
   ]
  },
  {
   "cell_type": "code",
   "execution_count": 3,
   "metadata": {
    "scrolled": true
   },
   "outputs": [],
   "source": [
    "# loading data\n",
    "robbery_model_data_dummies_bal = pandas.read_pickle('C:/Users/jodyn/Google Drive/Insight Data Science/Insight/Processed Data/robbery_model_data_dummies_bal.pkl')\n",
    "pedestrian_model_data_dummies_bal = pandas.read_pickle('C:/Users/jodyn/Google Drive/Insight Data Science/Insight/Processed Data/pedestrian_model_data_dummies_bal.pkl')"
   ]
  },
  {
   "cell_type": "code",
   "execution_count": 4,
   "metadata": {},
   "outputs": [],
   "source": [
    "# Labels are the values we want to predict\n",
    "robbery_labels = robbery_model_data_dummies_bal['Presence_A']\n",
    "robbery_features = robbery_model_data_dummies_bal.drop(['Presence_A','Latitude', 'Longitude',\n",
    "                                                                'geometry'], axis = 1)\n",
    "robbery_model_names = list(robbery_model_data_dummies_bal.drop(['Presence_A','Latitude', 'Longitude',\n",
    "                                                                'geometry'], axis = 1)) \n",
    "pedestrian_labels = pedestrian_model_data_dummies_bal['Presence_A']\n",
    "pedestrian_features = pedestrian_model_data_dummies_bal.drop(['Presence_A','Longitude', 'Latitude',\n",
    "                                                              'geometry'], axis = 1)\n",
    "pedestrian_features_names = list(pedestrian_model_data_dummies_bal.drop(['Presence_A','Longitude', 'Latitude',\n",
    "                                                              'geometry'], axis = 1))\n",
    "# Split the data into training and testing sets\n",
    "robbery_train, robbery_test, robbery_presence_train, robbery_presence_test = train_test_split(\n",
    "    robbery_features,robbery_labels, test_size=0.3, random_state=42)\n",
    "pedestrian_train, pedestrian_test, pedestrian_presence_train, pedestrian_presence_test = train_test_split(\n",
    "    pedestrian_features,pedestrian_labels, test_size=0.3, random_state=42)"
   ]
  },
  {
   "cell_type": "code",
   "execution_count": 5,
   "metadata": {},
   "outputs": [],
   "source": [
    "# Scale data for logistic regression\n",
    "scaler = StandardScaler()\n",
    "robbery_train_lr = pandas.DataFrame(scaler.fit_transform(robbery_train),\n",
    "                                   columns=robbery_model_names)\n",
    "\n",
    "robbery_test_lr = pandas.DataFrame(scaler.fit_transform(robbery_test),\n",
    "                                  columns=robbery_model_names)\n",
    "\n",
    "scaler = StandardScaler()\n",
    "pedestrian_train_lr = pandas.DataFrame(scaler.fit_transform(pedestrian_train),\n",
    "                                   columns=pedestrian_features_names)\n",
    "\n",
    "pedestrian_test_lr = pandas.DataFrame(scaler.fit_transform(pedestrian_test),\n",
    "                                  columns=pedestrian_features_names)"
   ]
  },
  {
   "cell_type": "code",
   "execution_count": 6,
   "metadata": {},
   "outputs": [],
   "source": [
    "# Time to build the base model\n",
    "robbery_model_LR = LogisticRegression(max_iter=500)\n",
    "robbery_model_LR.fit(robbery_train_lr, robbery_presence_train)\n",
    "robbery_model_prediction_LR = robbery_model_LR.predict(robbery_test_lr)\n",
    "\n",
    "pedestrian_model_LR = LogisticRegression(max_iter=500)\n",
    "pedestrian_model_LR.fit(pedestrian_train_lr, pedestrian_presence_train)\n",
    "pedestrian_model_prediction_LR = pedestrian_model_LR.predict(pedestrian_test_lr)"
   ]
  },
  {
   "cell_type": "code",
   "execution_count": 7,
   "metadata": {},
   "outputs": [
    {
     "name": "stdout",
     "output_type": "stream",
     "text": [
      "              precision    recall  f1-score   support\n",
      "\n",
      "         0.0       0.67      0.69      0.68      1512\n",
      "         1.0       0.69      0.67      0.68      1573\n",
      "\n",
      "    accuracy                           0.68      3085\n",
      "   macro avg       0.68      0.68      0.68      3085\n",
      "weighted avg       0.68      0.68      0.68      3085\n",
      "\n"
     ]
    }
   ],
   "source": [
    "# how did these models perform?\n",
    "print(classification_report(robbery_presence_test, robbery_model_prediction_LR))"
   ]
  },
  {
   "cell_type": "code",
   "execution_count": 8,
   "metadata": {},
   "outputs": [
    {
     "name": "stdout",
     "output_type": "stream",
     "text": [
      "              precision    recall  f1-score   support\n",
      "\n",
      "         0.0       0.91      0.85      0.88      1960\n",
      "         1.0       0.85      0.91      0.88      1900\n",
      "\n",
      "    accuracy                           0.88      3860\n",
      "   macro avg       0.88      0.88      0.88      3860\n",
      "weighted avg       0.88      0.88      0.88      3860\n",
      "\n"
     ]
    }
   ],
   "source": [
    "print(classification_report(pedestrian_presence_test, pedestrian_model_prediction_LR))"
   ]
  },
  {
   "cell_type": "markdown",
   "metadata": {},
   "source": [
    "## Random Forest"
   ]
  },
  {
   "cell_type": "code",
   "execution_count": 9,
   "metadata": {},
   "outputs": [
    {
     "name": "stdout",
     "output_type": "stream",
     "text": [
      "              precision    recall  f1-score   support\n",
      "\n",
      "         0.0       0.76      0.82      0.79      1512\n",
      "         1.0       0.81      0.75      0.78      1573\n",
      "\n",
      "    accuracy                           0.78      3085\n",
      "   macro avg       0.78      0.78      0.78      3085\n",
      "weighted avg       0.79      0.78      0.78      3085\n",
      "\n"
     ]
    }
   ],
   "source": [
    "# Time to build the base model\n",
    "robbery_model_RF = RandomForestClassifier()\n",
    "robbery_model_RF.fit(robbery_train, robbery_presence_train)\n",
    "robbery_model_prediction_RF = robbery_model_RF.predict(robbery_test)\n",
    "print(classification_report(robbery_presence_test,robbery_model_prediction_RF))"
   ]
  },
  {
   "cell_type": "code",
   "execution_count": 10,
   "metadata": {},
   "outputs": [
    {
     "name": "stdout",
     "output_type": "stream",
     "text": [
      "              precision    recall  f1-score   support\n",
      "\n",
      "         0.0       0.97      0.94      0.96      1960\n",
      "         1.0       0.94      0.97      0.96      1900\n",
      "\n",
      "    accuracy                           0.96      3860\n",
      "   macro avg       0.96      0.96      0.96      3860\n",
      "weighted avg       0.96      0.96      0.96      3860\n",
      "\n"
     ]
    }
   ],
   "source": [
    "# Time to build the base model\n",
    "pedestrian_model_RF = RandomForestClassifier()\n",
    "pedestrian_model_RF.fit(pedestrian_train, pedestrian_presence_train)\n",
    "pedestrian_model_prediction_RF = pedestrian_model_RF.predict(pedestrian_test)\n",
    "print(classification_report(pedestrian_presence_test,pedestrian_model_prediction_RF))"
   ]
  },
  {
   "cell_type": "markdown",
   "metadata": {},
   "source": [
    "# Model Tuning"
   ]
  },
  {
   "cell_type": "markdown",
   "metadata": {},
   "source": [
    "## Logistic Regression"
   ]
  },
  {
   "cell_type": "code",
   "execution_count": 11,
   "metadata": {},
   "outputs": [],
   "source": [
    "# Create first pipeline for base without reducing features.\n",
    "pipe_lr = Pipeline([('classifier' , LogisticRegression())])\n",
    "\n",
    "# Create param grid.\n",
    "\n",
    "param_grid_lr = [\n",
    "    {'classifier' : [LogisticRegression()],\n",
    "     'classifier__penalty' : ['l1', 'l2'],\n",
    "    'classifier__C' : numpy.logspace(-4, 4, 20),\n",
    "    'classifier__solver' : ['liblinear']}]"
   ]
  },
  {
   "cell_type": "code",
   "execution_count": 12,
   "metadata": {},
   "outputs": [
    {
     "name": "stdout",
     "output_type": "stream",
     "text": [
      "Fitting 5 folds for each of 40 candidates, totalling 200 fits\n"
     ]
    },
    {
     "name": "stderr",
     "output_type": "stream",
     "text": [
      "[Parallel(n_jobs=-1)]: Using backend LokyBackend with 8 concurrent workers.\n",
      "[Parallel(n_jobs=-1)]: Done  34 tasks      | elapsed:    4.0s\n",
      "[Parallel(n_jobs=-1)]: Done 184 tasks      | elapsed:  1.6min\n",
      "[Parallel(n_jobs=-1)]: Done 200 out of 200 | elapsed:  1.8min finished\n"
     ]
    },
    {
     "name": "stdout",
     "output_type": "stream",
     "text": [
      "Best: 0.694314 using {'classifier': LogisticRegression(C=0.03359818286283781, penalty='l1', solver='liblinear'), 'classifier__C': 0.03359818286283781, 'classifier__penalty': 'l1', 'classifier__solver': 'liblinear'}\n",
      "Execution time: 107.17637777328491 ms\n"
     ]
    }
   ],
   "source": [
    "# Create grid search object\n",
    "grid_search_lr = GridSearchCV(pipe_lr, param_grid = param_grid_lr, cv = 5, verbose=True, n_jobs=-1)\n",
    "\n",
    "start_time = time.time()\n",
    "\n",
    "# Fit on data\n",
    "robbery_best_lr = grid_search_lr.fit(robbery_train_lr, robbery_presence_train)\n",
    "print(\"Best: %f using %s\" % (robbery_best_lr.best_score_, robbery_best_lr.best_params_))\n",
    "print(\"Execution time: \" + str((time.time() - start_time)) + ' ms')"
   ]
  },
  {
   "cell_type": "code",
   "execution_count": 13,
   "metadata": {},
   "outputs": [
    {
     "name": "stdout",
     "output_type": "stream",
     "text": [
      "Fitting 5 folds for each of 40 candidates, totalling 200 fits\n"
     ]
    },
    {
     "name": "stderr",
     "output_type": "stream",
     "text": [
      "[Parallel(n_jobs=-1)]: Using backend LokyBackend with 8 concurrent workers.\n",
      "[Parallel(n_jobs=-1)]: Done  34 tasks      | elapsed:    1.3s\n",
      "[Parallel(n_jobs=-1)]: Done 184 tasks      | elapsed:   45.2s\n",
      "[Parallel(n_jobs=-1)]: Done 200 out of 200 | elapsed:   48.0s finished\n"
     ]
    },
    {
     "name": "stdout",
     "output_type": "stream",
     "text": [
      "Best: 0.870865 using {'classifier': LogisticRegression(C=0.03359818286283781, penalty='l1', solver='liblinear'), 'classifier__C': 0.03359818286283781, 'classifier__penalty': 'l1', 'classifier__solver': 'liblinear'}\n",
      "Execution time: 48.55641484260559 ms\n"
     ]
    }
   ],
   "source": [
    "start_time = time.time()\n",
    "pedestrian_best_lr = grid_search_lr.fit(pedestrian_train_lr, pedestrian_presence_train)\n",
    "print(\"Best: %f using %s\" % (pedestrian_best_lr.best_score_, pedestrian_best_lr.best_params_))\n",
    "print(\"Execution time: \" + str((time.time() - start_time)) + ' ms')"
   ]
  },
  {
   "cell_type": "code",
   "execution_count": 14,
   "metadata": {},
   "outputs": [
    {
     "name": "stdout",
     "output_type": "stream",
     "text": [
      "              precision    recall  f1-score   support\n",
      "\n",
      "         0.0       0.91      0.84      0.87      1960\n",
      "         1.0       0.85      0.91      0.88      1900\n",
      "\n",
      "    accuracy                           0.88      3860\n",
      "   macro avg       0.88      0.88      0.88      3860\n",
      "weighted avg       0.88      0.88      0.88      3860\n",
      "\n"
     ]
    }
   ],
   "source": [
    "# does this model perform better?\n",
    "pedestrian_model_best_LR = LogisticRegression(penalty='l1', C = 0.03359818286283781, solver='liblinear', \n",
    "                                              max_iter=500)\n",
    "pedestrian_model_best_LR.fit(pedestrian_train_lr, pedestrian_presence_train)\n",
    "pedestrian_model_prediction_best_LR = pedestrian_model_best_LR.predict(pedestrian_test_lr)\n",
    "# how did these models perform?\n",
    "print(classification_report(pedestrian_presence_test, pedestrian_model_prediction_best_LR))"
   ]
  },
  {
   "cell_type": "code",
   "execution_count": 15,
   "metadata": {},
   "outputs": [
    {
     "name": "stdout",
     "output_type": "stream",
     "text": [
      "              precision    recall  f1-score   support\n",
      "\n",
      "         0.0       0.68      0.68      0.68      1512\n",
      "         1.0       0.70      0.69      0.70      1573\n",
      "\n",
      "    accuracy                           0.69      3085\n",
      "   macro avg       0.69      0.69      0.69      3085\n",
      "weighted avg       0.69      0.69      0.69      3085\n",
      "\n"
     ]
    }
   ],
   "source": [
    "# does this model perform better?\n",
    "robbery_model_best_LR = LogisticRegression(penalty='l1', C = 0.03359818286283781, solver='liblinear', \n",
    "                                              max_iter=500)\n",
    "robbery_model_best_LR.fit(robbery_train_lr, robbery_presence_train)\n",
    "robbery_model_prediction_best_LR = robbery_model_best_LR.predict(robbery_test_lr)\n",
    "# how did these models perform?\n",
    "print(classification_report(robbery_presence_test, robbery_model_prediction_best_LR))"
   ]
  },
  {
   "cell_type": "markdown",
   "metadata": {},
   "source": [
    "## Random Forest"
   ]
  },
  {
   "cell_type": "code",
   "execution_count": 19,
   "metadata": {},
   "outputs": [],
   "source": [
    "# Create first pipeline for base without reducing features.\n",
    "pipe_rf = Pipeline([('classifier' , RandomForestClassifier())])\n",
    "\n",
    "# Create param grid.\n",
    "\n",
    "param_grid_rf = [\n",
    "     {\n",
    "    'classifier__bootstrap': [True],\n",
    "    'classifier__max_depth': [80, 90, 100, 110],\n",
    "    'classifier__max_features': [2, 3, 4],\n",
    "    'classifier__min_samples_leaf': [3, 4, 5],\n",
    "    'classifier__min_samples_split': [8, 10, 12],\n",
    "    'classifier__n_estimators': [100, 200, 300, 1000]\n",
    "}\n",
    "]\n",
    "\n",
    "grid_search_rf = GridSearchCV(pipe_rf, param_grid = param_grid_rf, cv = 3, n_jobs = -1, verbose = 2)"
   ]
  },
  {
   "cell_type": "code",
   "execution_count": 20,
   "metadata": {},
   "outputs": [
    {
     "name": "stdout",
     "output_type": "stream",
     "text": [
      "Fitting 3 folds for each of 432 candidates, totalling 1296 fits\n"
     ]
    },
    {
     "name": "stderr",
     "output_type": "stream",
     "text": [
      "[Parallel(n_jobs=-1)]: Using backend LokyBackend with 8 concurrent workers.\n",
      "[Parallel(n_jobs=-1)]: Done  25 tasks      | elapsed:   16.1s\n",
      "[Parallel(n_jobs=-1)]: Done 146 tasks      | elapsed:  1.6min\n",
      "[Parallel(n_jobs=-1)]: Done 349 tasks      | elapsed:  3.8min\n",
      "[Parallel(n_jobs=-1)]: Done 632 tasks      | elapsed:  7.0min\n",
      "[Parallel(n_jobs=-1)]: Done 997 tasks      | elapsed: 10.9min\n",
      "[Parallel(n_jobs=-1)]: Done 1296 out of 1296 | elapsed: 14.2min finished\n"
     ]
    },
    {
     "name": "stdout",
     "output_type": "stream",
     "text": [
      "Best: 0.767681 using {'classifier__bootstrap': True, 'classifier__max_depth': 90, 'classifier__max_features': 4, 'classifier__min_samples_leaf': 3, 'classifier__min_samples_split': 8, 'classifier__n_estimators': 1000}\n",
      "Execution time: 864.5156416893005 ms\n"
     ]
    }
   ],
   "source": [
    "# Fit on data\n",
    "start_time = time.time()\n",
    "robbery_best_rf = grid_search_rf.fit(robbery_train, robbery_presence_train)\n",
    "print(\"Best: %f using %s\" % (robbery_best_rf.best_score_, robbery_best_rf.best_params_))\n",
    "print(\"Execution time: \" + str((time.time() - start_time)) + ' ms')"
   ]
  },
  {
   "cell_type": "code",
   "execution_count": 21,
   "metadata": {},
   "outputs": [
    {
     "name": "stdout",
     "output_type": "stream",
     "text": [
      "Fitting 3 folds for each of 432 candidates, totalling 1296 fits\n"
     ]
    },
    {
     "name": "stderr",
     "output_type": "stream",
     "text": [
      "[Parallel(n_jobs=-1)]: Using backend LokyBackend with 8 concurrent workers.\n",
      "[Parallel(n_jobs=-1)]: Done  25 tasks      | elapsed:   13.0s\n",
      "[Parallel(n_jobs=-1)]: Done 146 tasks      | elapsed:  1.8min\n",
      "[Parallel(n_jobs=-1)]: Done 349 tasks      | elapsed:  4.3min\n",
      "[Parallel(n_jobs=-1)]: Done 632 tasks      | elapsed:  7.7min\n",
      "[Parallel(n_jobs=-1)]: Done 997 tasks      | elapsed: 11.7min\n",
      "[Parallel(n_jobs=-1)]: Done 1296 out of 1296 | elapsed: 15.2min finished\n"
     ]
    },
    {
     "name": "stdout",
     "output_type": "stream",
     "text": [
      "Best: 0.892960 using {'classifier__bootstrap': True, 'classifier__max_depth': 100, 'classifier__max_features': 4, 'classifier__min_samples_leaf': 3, 'classifier__min_samples_split': 8, 'classifier__n_estimators': 300}\n",
      "Execution time: 917.182361125946 ms\n"
     ]
    }
   ],
   "source": [
    "start_time = time.time()\n",
    "pedestrian_best_rf = grid_search_rf.fit(pedestrian_train, pedestrian_presence_train)\n",
    "print(\"Best: %f using %s\" % (pedestrian_best_rf.best_score_, pedestrian_best_rf.best_params_))\n",
    "print(\"Execution time: \" + str((time.time() - start_time)) + ' ms')"
   ]
  },
  {
   "cell_type": "code",
   "execution_count": 22,
   "metadata": {},
   "outputs": [
    {
     "name": "stdout",
     "output_type": "stream",
     "text": [
      "              precision    recall  f1-score   support\n",
      "\n",
      "         0.0       0.89      0.93      0.91      1960\n",
      "         1.0       0.92      0.89      0.90      1900\n",
      "\n",
      "    accuracy                           0.91      3860\n",
      "   macro avg       0.91      0.91      0.91      3860\n",
      "weighted avg       0.91      0.91      0.91      3860\n",
      "\n"
     ]
    }
   ],
   "source": [
    "# does this model perform better?\n",
    "pedestrian_model_best_RF = RandomForestClassifier(bootstrap= True, max_depth = 100, \n",
    "                                                  max_features= 4, min_samples_leaf = 3,\n",
    "                                                  min_samples_split = 8, n_estimators = 300)\n",
    "pedestrian_model_best_RF.fit(pedestrian_train, pedestrian_presence_train)\n",
    "pedestrian_model_prediction_best_RF = pedestrian_model_best_RF.predict(pedestrian_test)\n",
    "# how did these models perform?\n",
    "print(classification_report(pedestrian_presence_test, pedestrian_model_prediction_best_RF))"
   ]
  },
  {
   "cell_type": "code",
   "execution_count": 23,
   "metadata": {},
   "outputs": [
    {
     "name": "stdout",
     "output_type": "stream",
     "text": [
      "              precision    recall  f1-score   support\n",
      "\n",
      "         0.0       0.73      0.82      0.77      1512\n",
      "         1.0       0.81      0.71      0.75      1573\n",
      "\n",
      "    accuracy                           0.76      3085\n",
      "   macro avg       0.77      0.76      0.76      3085\n",
      "weighted avg       0.77      0.76      0.76      3085\n",
      "\n"
     ]
    }
   ],
   "source": [
    "# does this model perform better?\n",
    "robbery_model_best_RF = RandomForestClassifier(bootstrap= True, max_depth = 90, \n",
    "                                                  max_features= 4, min_samples_leaf = 3,\n",
    "                                                  min_samples_split = 8, n_estimators = 1000)\n",
    "robbery_model_best_RF.fit(robbery_train, robbery_presence_train)\n",
    "robbery_model_prediction_best_RF = robbery_model_best_RF.predict(robbery_test)\n",
    "# how did these models perform?\n",
    "print(classification_report(robbery_presence_test, robbery_model_prediction_best_RF))"
   ]
  },
  {
   "cell_type": "markdown",
   "metadata": {},
   "source": [
    "Now that I have a pretty good model, my next step is to make AUC plots and assess the how features compared in their relative importance."
   ]
  },
  {
   "cell_type": "code",
   "execution_count": 24,
   "metadata": {},
   "outputs": [
    {
     "data": {
      "image/png": "[encoded data removed]",
      "text/plain": [
       "<Figure size 576x288 with 1 Axes>"
      ]
     },
     "metadata": {
      "needs_background": "light"
     },
     "output_type": "display_data"
    }
   ],
   "source": [
    "from sklearn.metrics import roc_auc_score\n",
    "from sklearn import metrics\n",
    "#import scikitplot as skplt\n",
    "import matplotlib.pyplot as plt\n",
    "\n",
    "robbery_pred_proba = robbery_model_best_RF.predict_proba(robbery_test)[::,1]\n",
    "fpr_r, tpr_r, _ = metrics.roc_curve(robbery_presence_test,  robbery_pred_proba)\n",
    "auc_r = metrics.roc_auc_score(robbery_presence_test, robbery_pred_proba)\n",
    "\n",
    "pedestrian_pred_proba = pedestrian_model_best_RF.predict_proba(pedestrian_test)[::,1]\n",
    "fpr_p, tpr_p, _ = metrics.roc_curve(pedestrian_presence_test,  pedestrian_pred_proba)\n",
    "auc_p = metrics.roc_auc_score(pedestrian_presence_test, pedestrian_pred_proba)\n",
    "\n",
    "figure, ax = plt.subplots(1, figsize=(8, 4))\n",
    "ax.plot(fpr_r,tpr_r,label=\"Muggging (auc) = \"+str(round(auc_r,3)), color = \"darkgoldenrod\")\n",
    "ax.plot(fpr_p,tpr_p,label=\"Pedestrian Car Collusion (auc) = \"+str(round(auc_p,3)), color = \"lightseagreen\")\n",
    "ax.set_xlabel('False Positive Rate', fontsize=10)\n",
    "ax.set_ylabel('True Positive Rate', fontsize=10)\n",
    "plt.legend(loc=4)\n",
    "save_results_to = 'C:/Users/jodyn/PycharmProjects/InsightFDS/notebooks/figures/'\n",
    "plt.savefig(save_results_to + 'AUC.png', dpi = 300)"
   ]
  },
  {
   "cell_type": "code",
   "execution_count": 25,
   "metadata": {},
   "outputs": [],
   "source": [
    "numpy.set_printoptions(suppress=True) #prevent numpy exponential\n",
    "importance_pedestrian = numpy.array(pedestrian_model_best_RF.feature_importances_)\n",
    "importance_robbery = numpy.array(robbery_model_best_RF.feature_importances_)"
   ]
  },
  {
   "cell_type": "code",
   "execution_count": 26,
   "metadata": {},
   "outputs": [],
   "source": [
    "importance_pedestrian = importance_pedestrian.astype(float)\n",
    "importance_robbery = importance_robbery.astype(float)"
   ]
  },
  {
   "cell_type": "code",
   "execution_count": 27,
   "metadata": {},
   "outputs": [],
   "source": [
    "pedestrian_x_names = list(map(lambda st: str.replace(st, \"Hood_ID_\", \"Hood ID \"), pedestrian_features_names))\n",
    "pedestrian_x_names = list(map(lambda st: str.replace(st, \"YEAR\", \"Year\"), pedestrian_x_names))\n",
    "pedestrian_x_names = list(map(lambda st: str.replace(st, \"HOUR\", \"Hour\"), pedestrian_x_names))\n",
    "pedestrian_x_names = list(map(lambda st: str.replace(st, \"ROAD_CLASS_Collector\", \"Road Class Collector\"), pedestrian_x_names))\n",
    "pedestrian_x_names = list(map(lambda st: str.replace(st, \"ROAD_CLASS_Expressway\", \"Road Class Expressway\"), pedestrian_x_names))\n",
    "pedestrian_x_names = list(map(lambda st: str.replace(st, \"ROAD_CLASS_Local\", \"Road Class Local\"), pedestrian_x_names))\n",
    "pedestrian_x_names = list(map(lambda st: str.replace(st, \"ROAD_CLASS_Major Arterial\", \"Road Class Major Arterial\"), pedestrian_x_names))\n",
    "pedestrian_x_names = list(map(lambda st: str.replace(st, \"ROAD_CLASS_Minor Arterial\", \"Road Class Minor Arterial\"), pedestrian_x_names))\n",
    "pedestrian_x_names = list(map(lambda st: str.replace(st, \"LIGHT_Dark\", \"Light Dark\"), pedestrian_x_names))\n",
    "pedestrian_x_names = list(map(lambda st: str.replace(st, \"LIGHT_Dark, artificial\", \"Light Dark Artificial\"), pedestrian_x_names))\n",
    "pedestrian_x_names = list(map(lambda st: str.replace(st, \"LIGHT_Dawn\", \"Light Dawn\"), pedestrian_x_names))\n",
    "pedestrian_x_names = list(map(lambda st: str.replace(st, \"LIGHT_Dawn, artificial\", \"Light Dawn Artificial\"), pedestrian_x_names))\n",
    "pedestrian_x_names = list(map(lambda st: str.replace(st, \"LIGHT_Daylight\", \"Light Daylight\"), pedestrian_x_names))\n",
    "pedestrian_x_names = list(map(lambda st: str.replace(st, \"LIGHT_Daylight, artificial\", \"Light Daylight Artificial\"), pedestrian_x_names))\n",
    "pedestrian_x_names = list(map(lambda st: str.replace(st, \"LIGHT_Dusk\", \"Light Dusk\"), pedestrian_x_names))\n",
    "pedestrian_x_names = list(map(lambda st: str.replace(st, \"LIGHT_Dusk, artificial\", \"Light Dusk Artificial\"), pedestrian_x_names))\n",
    "pedestrian_x_names = list(map(lambda st: str.replace(st, \"LIGHT_Other\", \"Light Other\"), pedestrian_x_names))\n",
    "pedestrian_x_names = list(map(lambda st: str.replace(st, \" artificial\", \" Artificial\"), pedestrian_x_names))\n",
    "pedestrian_x_names = list(map(lambda st: str.replace(st, \"turning_lo\", \"Turning Loop Distance\"), pedestrian_x_names))\n",
    "pedestrian_x_names = list(map(lambda st: str.replace(st, \"crossing\", \"Crossing Distance\"), pedestrian_x_names))\n",
    "pedestrian_x_names = list(map(lambda st: str.replace(st, \"give_way\", \"Give Way Distance\"), pedestrian_x_names))\n",
    "pedestrian_x_names = list(map(lambda st: str.replace(st, \"speed_came\", \"Speed Camera Distance\"), pedestrian_x_names))\n",
    "pedestrian_x_names = list(map(lambda st: str.replace(st, \"stop\", \"Stop Distance\"), pedestrian_x_names))\n",
    "pedestrian_x_names = list(map(lambda st: str.replace(st, \"traffic_si\", \"Traffic Signal\"), pedestrian_x_names))"
   ]
  },
  {
   "cell_type": "code",
   "execution_count": 28,
   "metadata": {},
   "outputs": [],
   "source": [
    "robbery_x_names = list(map(lambda st: str.replace(st, \"Police_Div_\", \"Police Division \"), robbery_model_names))\n",
    "robbery_x_names = list(map(lambda st: str.replace(st, \"Hood_ID_\", \"Hood ID \"), robbery_x_names))\n",
    "robbery_x_names = list(map(lambda st: str.replace(st, \"dyear\", \"Year\"), robbery_x_names))\n",
    "robbery_x_names = list(map(lambda st: str.replace(st, \"dday\", \"Day of Month\"), robbery_x_names))\n",
    "robbery_x_names = list(map(lambda st: str.replace(st, \"dhour\", \"Day of Month\"), robbery_x_names))\n",
    "robbery_x_names = list(map(lambda st: str.replace(st, \"turning_lo\", \"Turning Loop Distance\"), robbery_x_names))\n",
    "robbery_x_names = list(map(lambda st: str.replace(st, \"crossing\", \"Crossing Distance\"), robbery_x_names))\n",
    "robbery_x_names = list(map(lambda st: str.replace(st, \"give_way\", \"Give Way Distance\"), robbery_x_names))\n",
    "robbery_x_names = list(map(lambda st: str.replace(st, \"speed_came\", \"Speed Camera Distance\"), robbery_x_names))\n",
    "robbery_x_names = list(map(lambda st: str.replace(st, \"stop\", \"Stop Distance\"), robbery_x_names))\n",
    "robbery_x_names = list(map(lambda st: str.replace(st, \"traffic_si\", \"Traffic Signal\"), robbery_x_names))"
   ]
  },
  {
   "cell_type": "code",
   "execution_count": 29,
   "metadata": {},
   "outputs": [],
   "source": [
    "import numpy\n",
    "numpy.set_printoptions(suppress=True) #prevent numpy exponentia\n",
    "pedestrian_vif = pandas.DataFrame(numpy.column_stack([pedestrian_x_names, importance_pedestrian.astype(float)]), \n",
    "                               columns=['Variable', 'VIF'])\n",
    "\n",
    "pedestrian_vif.sort_values('VIF',inplace=True, ascending=False)\n",
    "\n",
    "robbery_vif = pandas.DataFrame(numpy.column_stack([robbery_x_names, importance_robbery.astype(float)]), \n",
    "                               columns=['Variable', 'VIF'])\n",
    "robbery_vif.sort_values('VIF',inplace=True, ascending=False)"
   ]
  },
  {
   "cell_type": "code",
   "execution_count": 37,
   "metadata": {},
   "outputs": [
    {
     "data": {
      "text/plain": [
       "10"
      ]
     },
     "execution_count": 37,
     "metadata": {},
     "output_type": "execute_result"
    }
   ],
   "source": [
    "len(pedestrian_vif['Variable'][0:10])"
   ]
  },
  {
   "cell_type": "code",
   "execution_count": 199,
   "metadata": {},
   "outputs": [
    {
     "data": {
      "text/html": [
       "<div>\n",
       "<style scoped>\n",
       "    .dataframe tbody tr th:only-of-type {\n",
       "        vertical-align: middle;\n",
       "    }\n",
       "\n",
       "    .dataframe tbody tr th {\n",
       "        vertical-align: top;\n",
       "    }\n",
       "\n",
       "    .dataframe thead th {\n",
       "        text-align: right;\n",
       "    }\n",
       "</style>\n",
       "<table border=\"1\" class=\"dataframe\">\n",
       "  <thead>\n",
       "    <tr style=\"text-align: right;\">\n",
       "      <th></th>\n",
       "      <th>Variable</th>\n",
       "      <th>VIF</th>\n",
       "    </tr>\n",
       "  </thead>\n",
       "  <tbody>\n",
       "    <tr>\n",
       "      <th>8</th>\n",
       "      <td>Traffic Signal</td>\n",
       "      <td>0.19798635265733</td>\n",
       "    </tr>\n",
       "    <tr>\n",
       "      <th>4</th>\n",
       "      <td>Crossing Distance</td>\n",
       "      <td>0.18594550989686365</td>\n",
       "    </tr>\n",
       "    <tr>\n",
       "      <th>7</th>\n",
       "      <td>Stop Distance</td>\n",
       "      <td>0.0793655025951428</td>\n",
       "    </tr>\n",
       "    <tr>\n",
       "      <th>2</th>\n",
       "      <td>Day of Month</td>\n",
       "      <td>0.07810588063555522</td>\n",
       "    </tr>\n",
       "    <tr>\n",
       "      <th>6</th>\n",
       "      <td>Speed Camera Distance</td>\n",
       "      <td>0.059453952102947245</td>\n",
       "    </tr>\n",
       "    <tr>\n",
       "      <th>...</th>\n",
       "      <td>...</td>\n",
       "      <td>...</td>\n",
       "    </tr>\n",
       "    <tr>\n",
       "      <th>88</th>\n",
       "      <td>Hood ID 29</td>\n",
       "      <td>0.00022806244103558505</td>\n",
       "    </tr>\n",
       "    <tr>\n",
       "      <th>44</th>\n",
       "      <td>Hood ID 115</td>\n",
       "      <td>0.00022038938923924306</td>\n",
       "    </tr>\n",
       "    <tr>\n",
       "      <th>111</th>\n",
       "      <td>Hood ID 5</td>\n",
       "      <td>0.00021897556095657394</td>\n",
       "    </tr>\n",
       "    <tr>\n",
       "      <th>119</th>\n",
       "      <td>Hood ID 57</td>\n",
       "      <td>0.00018539478301395936</td>\n",
       "    </tr>\n",
       "    <tr>\n",
       "      <th>162</th>\n",
       "      <td>Hood ID 96</td>\n",
       "      <td>0.00011934532566351695</td>\n",
       "    </tr>\n",
       "  </tbody>\n",
       "</table>\n",
       "<p>166 rows × 2 columns</p>\n",
       "</div>"
      ],
      "text/plain": [
       "                  Variable                     VIF\n",
       "8           Traffic Signal        0.19798635265733\n",
       "4        Crossing Distance     0.18594550989686365\n",
       "7            Stop Distance      0.0793655025951428\n",
       "2             Day of Month     0.07810588063555522\n",
       "6    Speed Camera Distance    0.059453952102947245\n",
       "..                     ...                     ...\n",
       "88              Hood ID 29  0.00022806244103558505\n",
       "44             Hood ID 115  0.00022038938923924306\n",
       "111              Hood ID 5  0.00021897556095657394\n",
       "119             Hood ID 57  0.00018539478301395936\n",
       "162             Hood ID 96  0.00011934532566351695\n",
       "\n",
       "[166 rows x 2 columns]"
      ]
     },
     "execution_count": 199,
     "metadata": {},
     "output_type": "execute_result"
    }
   ],
   "source": [
    " #prevent numpy exponentia\n",
    "pedestrian_vif"
   ]
  },
  {
   "cell_type": "code",
   "execution_count": 36,
   "metadata": {},
   "outputs": [
    {
     "data": {
      "text/plain": [
       "162    0.000072\n",
       "4      0.203417\n",
       "8      0.195646\n",
       "2      0.081518\n",
       "7      0.079440\n",
       "6      0.055829\n",
       "3      0.054118\n",
       "5      0.045921\n",
       "1      0.033419\n",
       "0      0.025379\n",
       "Name: VIF, dtype: float64"
      ]
     },
     "execution_count": 36,
     "metadata": {},
     "output_type": "execute_result"
    }
   ],
   "source": [
    "robbery_vif['VIF'][0:10].astype(float)"
   ]
  },
  {
   "cell_type": "code",
   "execution_count": 35,
   "metadata": {},
   "outputs": [
    {
     "data": {
      "image/png": "[encoded data removed]",
      "text/plain": [
       "<Figure size 1080x432 with 1 Axes>"
      ]
     },
     "metadata": {
      "needs_background": "light"
     },
     "output_type": "display_data"
    }
   ],
   "source": [
    "import matplotlib.pyplot as plt\n",
    "\n",
    "figure, ax = plt.subplots(1, figsize=(15, 6))\n",
    "ax.barh(robbery_vif['Variable'][1:16],robbery_vif['VIF'][1:16].astype(float), color = \"darkgoldenrod\", ec=\"darkgoldenrod\")\n",
    "\n",
    "save_results_to = 'C:/Users/jodyn/PycharmProjects/InsightFDS/notebooks/figures/'\n",
    "plt.savefig(save_results_to + 'Feature-Importance_Mug.png', dpi = 300)"
   ]
  },
  {
   "cell_type": "code",
   "execution_count": 38,
   "metadata": {},
   "outputs": [
    {
     "data": {
      "image/png": "[encoded data removed]",
      "text/plain": [
       "<Figure size 1080x576 with 1 Axes>"
      ]
     },
     "metadata": {
      "needs_background": "light"
     },
     "output_type": "display_data"
    }
   ],
   "source": [
    "figure, ax = plt.subplots(1, figsize=(15, 8))\n",
    "ax.barh(pedestrian_vif['Variable'][6:21],pedestrian_vif['VIF'][6:21].astype(float), color = \"lightseagreen\", ec=\"lightseagreen\")\n",
    "save_results_to = 'C:/Users/jodyn/PycharmProjects/InsightFDS/notebooks/figures/'\n",
    "plt.savefig(save_results_to + 'Feature-Importance_Car.png', dpi = 300)"
   ]
  },
  {
   "cell_type": "markdown",
   "metadata": {},
   "source": [
    "# Predicting Risks - Random Forest"
   ]
  },
  {
   "cell_type": "code",
   "execution_count": 39,
   "metadata": {},
   "outputs": [],
   "source": [
    "# I am going to run this on the full dataset\n",
    "# and select the features in this final model\n",
    "pedestrian_features_final = pandas.DataFrame(pedestrian_features,\n",
    "                                          columns=pedestrian_features_names)\n",
    "robbery_features_final = pandas.DataFrame(robbery_features,\n",
    "                                          columns=robbery_model_names)"
   ]
  },
  {
   "cell_type": "code",
   "execution_count": 40,
   "metadata": {},
   "outputs": [],
   "source": [
    "# will add these data to the main dataframe\n",
    "pedestrian_model_data_dummies_bal['Collison'] = pandas.DataFrame((pedestrian_model_best_RF.predict_proba(pedestrian_features_final)))[1]\n",
    "\n",
    "robbery_model_data_dummies_bal['Mugging'] = pandas.DataFrame((robbery_model_best_RF.predict_proba(robbery_features_final)))[1]\n"
   ]
  },
  {
   "cell_type": "code",
   "execution_count": 41,
   "metadata": {},
   "outputs": [
    {
     "data": {
      "text/html": [
       "<div>\n",
       "<style scoped>\n",
       "    .dataframe tbody tr th:only-of-type {\n",
       "        vertical-align: middle;\n",
       "    }\n",
       "\n",
       "    .dataframe tbody tr th {\n",
       "        vertical-align: top;\n",
       "    }\n",
       "\n",
       "    .dataframe thead th {\n",
       "        text-align: right;\n",
       "    }\n",
       "</style>\n",
       "<table border=\"1\" class=\"dataframe\">\n",
       "  <thead>\n",
       "    <tr style=\"text-align: right;\">\n",
       "      <th></th>\n",
       "      <th>Longitude</th>\n",
       "      <th>Latitude</th>\n",
       "      <th>Collison</th>\n",
       "    </tr>\n",
       "  </thead>\n",
       "  <tbody>\n",
       "    <tr>\n",
       "      <th>0</th>\n",
       "      <td>612730.2037</td>\n",
       "      <td>4.838000e+06</td>\n",
       "      <td>0.494655</td>\n",
       "    </tr>\n",
       "    <tr>\n",
       "      <th>1</th>\n",
       "      <td>629087.5448</td>\n",
       "      <td>4.844941e+06</td>\n",
       "      <td>0.388446</td>\n",
       "    </tr>\n",
       "    <tr>\n",
       "      <th>2</th>\n",
       "      <td>638804.6704</td>\n",
       "      <td>4.843354e+06</td>\n",
       "      <td>0.413212</td>\n",
       "    </tr>\n",
       "    <tr>\n",
       "      <th>3</th>\n",
       "      <td>617688.5935</td>\n",
       "      <td>4.834947e+06</td>\n",
       "      <td>0.194435</td>\n",
       "    </tr>\n",
       "    <tr>\n",
       "      <th>4</th>\n",
       "      <td>630134.5419</td>\n",
       "      <td>4.837459e+06</td>\n",
       "      <td>0.135397</td>\n",
       "    </tr>\n",
       "    <tr>\n",
       "      <th>...</th>\n",
       "      <td>...</td>\n",
       "      <td>...</td>\n",
       "      <td>...</td>\n",
       "    </tr>\n",
       "    <tr>\n",
       "      <th>12861</th>\n",
       "      <td>639204.2688</td>\n",
       "      <td>4.847322e+06</td>\n",
       "      <td>0.920694</td>\n",
       "    </tr>\n",
       "    <tr>\n",
       "      <th>12862</th>\n",
       "      <td>639204.2688</td>\n",
       "      <td>4.847322e+06</td>\n",
       "      <td>0.920694</td>\n",
       "    </tr>\n",
       "    <tr>\n",
       "      <th>12863</th>\n",
       "      <td>630795.4543</td>\n",
       "      <td>4.834567e+06</td>\n",
       "      <td>0.915382</td>\n",
       "    </tr>\n",
       "    <tr>\n",
       "      <th>12864</th>\n",
       "      <td>630795.4543</td>\n",
       "      <td>4.834567e+06</td>\n",
       "      <td>0.915382</td>\n",
       "    </tr>\n",
       "    <tr>\n",
       "      <th>12865</th>\n",
       "      <td>620372.1903</td>\n",
       "      <td>4.828528e+06</td>\n",
       "      <td>0.877583</td>\n",
       "    </tr>\n",
       "  </tbody>\n",
       "</table>\n",
       "<p>12866 rows × 3 columns</p>\n",
       "</div>"
      ],
      "text/plain": [
       "         Longitude      Latitude  Collison\n",
       "0      612730.2037  4.838000e+06  0.494655\n",
       "1      629087.5448  4.844941e+06  0.388446\n",
       "2      638804.6704  4.843354e+06  0.413212\n",
       "3      617688.5935  4.834947e+06  0.194435\n",
       "4      630134.5419  4.837459e+06  0.135397\n",
       "...            ...           ...       ...\n",
       "12861  639204.2688  4.847322e+06  0.920694\n",
       "12862  639204.2688  4.847322e+06  0.920694\n",
       "12863  630795.4543  4.834567e+06  0.915382\n",
       "12864  630795.4543  4.834567e+06  0.915382\n",
       "12865  620372.1903  4.828528e+06  0.877583\n",
       "\n",
       "[12866 rows x 3 columns]"
      ]
     },
     "execution_count": 41,
     "metadata": {},
     "output_type": "execute_result"
    }
   ],
   "source": [
    "pedestrian_model_data_dummies_bal[['Longitude','Latitude','Collison']]"
   ]
  },
  {
   "cell_type": "code",
   "execution_count": 42,
   "metadata": {},
   "outputs": [],
   "source": [
    "robbery_model_nodes = robbery_model_data_dummies_bal[['Longitude','Latitude','Mugging']]\n",
    "pedestrian_model_nodes = pedestrian_model_data_dummies_bal[['Longitude','Latitude','Collison']]"
   ]
  },
  {
   "cell_type": "code",
   "execution_count": 43,
   "metadata": {},
   "outputs": [],
   "source": [
    "def create_gdf(df, Longitude, Latitude, projection):\n",
    "    return geopandas.GeoDataFrame(df, geometry=geopandas.points_from_xy(df[Longitude], df[Latitude]),\n",
    "                                  crs=projection)\n",
    "\n",
    "# need as a geopanda dataframe to append to nodes\n",
    "pedestrian_model_nodes_2958 = create_gdf(pedestrian_model_nodes,                                      \n",
    "                                      Longitude='Longitude',\n",
    "                                      Latitude='Latitude',\n",
    "                                      projection=\"EPSG:2958\")"
   ]
  },
  {
   "cell_type": "code",
   "execution_count": 44,
   "metadata": {},
   "outputs": [],
   "source": [
    "robbery_model_nodes_2958 = create_gdf(robbery_model_nodes,\n",
    "                                      Longitude='Longitude',\n",
    "                                      Latitude='Latitude',\n",
    "                                      projection=\"EPSG:2958\")"
   ]
  },
  {
   "cell_type": "code",
   "execution_count": 45,
   "metadata": {},
   "outputs": [],
   "source": [
    "robbery_model_nodes_2958.to_pickle(\"C:/Users/jodyn/Google Drive/Insight Data Science/Insight/Processed Data/robbery_model_nodes_2958.pkl\")\n",
    "pedestrian_model_nodes_2958.to_pickle(\"C:/Users/jodyn/Google Drive/Insight Data Science/Insight/Processed Data/pedestrian_model_nodes_2958.pkl\")"
   ]
  },
  {
   "cell_type": "markdown",
   "metadata": {},
   "source": [
    "Juptyter crashed when I tried to do the edge weights in here. So, I wil finish in PyCharm."
   ]
  }
 ],
 "metadata": {
  "kernelspec": {
   "display_name": "Python 3",
   "language": "python",
   "name": "python3"
  },
  "language_info": {
   "codemirror_mode": {
    "name": "ipython",
    "version": 3
   },
   "file_extension": ".py",
   "mimetype": "text/x-python",
   "name": "python",
   "nbconvert_exporter": "python",
   "pygments_lexer": "ipython3",
   "version": "3.7.6"
  }
 },
 "nbformat": 4,
 "nbformat_minor": 4
}
